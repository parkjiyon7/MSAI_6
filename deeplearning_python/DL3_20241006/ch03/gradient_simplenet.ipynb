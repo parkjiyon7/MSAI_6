{
  "cells": [
    {
      "cell_type": "code",
      "source": [
        "# coding: utf-8\n",
        "import sys, os\n",
        "import matplotlib.pyplot as plt\n",
        "print(os.getcwd())\n",
        "current_dir = os.path.dirname(os.getcwd())\n",
        "print(current_dir)\n",
        "os.chdir(current_dir)\n",
        "\n",
        "import numpy as np\n",
        "from common.functions import softmax, cross_entropy_error\n",
        "from common.gradient import numerical_gradient\n",
        "\n",
        "class simpleNet:\n",
        "    def __init__(self):\n",
        "        self.W = np.random.randn(2, 3)\n",
        "\n",
        "    def predict(self, x):\n",
        "        return np.dot(x, self.W)\n",
        "\n",
        "    def loss(self, x, t):\n",
        "        z = self.predict(x)\n",
        "        y = softmax(z)\n",
        "        # 손실 값 계산\n",
        "        loss = cross_entropy_error(y, t)\n",
        "\n",
        "        return loss\n",
        "\n",
        "\n",
        "# def gradient_descent(f, init_x, lr=0.01, step_num=100):\n",
        "#     x = init_x\n",
        "#     x_history = []\n",
        "\n",
        "#     for i in range(step_num):\n",
        "#         x_history.append(x.copy())\n",
        "\n",
        "#         grad = numerical_gradient(f, x)\n",
        "#         x -= lr*grad\n",
        "\n",
        "#     return x, np.array(x_history)\n",
        "\n",
        "\n",
        "\n",
        "x = np.array([0.6, 0.9])\n",
        "t = np.array([0, 0, 1])\n",
        "\n",
        "net = simpleNet()\n",
        "\n",
        "f = lambda w: net.loss(x, t)\n",
        "\n",
        "# 손실값을 미분하여 가중치의 기울기 계산\n",
        "dw = numerical_gradient(f, net.W)\n",
        "\n",
        "print('손실값의 기울기 = ', dw)\n",
        "\n",
        "\n",
        "\n",
        "\n",
        "\n",
        "# # 경사 하강법 실행\n",
        "# optimized_W, x_history = gradient_descent(f, net.W, lr=0.01, step_num=20)\n",
        "\n",
        "# # 결과 출력\n",
        "# print(\"최적화된 가중치:\", optimized_W)\n",
        "# # print(\"최적화 과정에서의 가중치 변화:\")\n",
        "# # print(x_history)"
      ],
      "outputs": [
        {
          "output_type": "stream",
          "name": "stdout",
          "text": "/mnt/batch/tasks/shared/LS_root\n/mnt/batch/tasks/shared\n손실값의 기울기 =  [[ 0.17619879  0.07017172 -0.24637051]\n [ 0.26429819  0.10525758 -0.36955577]]\n"
        }
      ],
      "execution_count": 9,
      "metadata": {
        "gather": {
          "logged": 1738657929711
        }
      }
    },
    {
      "cell_type": "code",
      "source": [],
      "outputs": [],
      "execution_count": null,
      "metadata": {}
    }
  ],
  "metadata": {
    "kernelspec": {
      "name": "python310-sdkv2",
      "language": "python",
      "display_name": "Python 3.10 - SDK v2"
    },
    "language_info": {
      "name": "python",
      "version": "3.10.14",
      "mimetype": "text/x-python",
      "codemirror_mode": {
        "name": "ipython",
        "version": 3
      },
      "pygments_lexer": "ipython3",
      "nbconvert_exporter": "python",
      "file_extension": ".py"
    },
    "kernel_info": {
      "name": "python310-sdkv2"
    },
    "nteract": {
      "version": "nteract-front-end@1.0.0"
    },
    "microsoft": {
      "host": {
        "AzureML": {
          "notebookHasBeenCompleted": true
        }
      },
      "ms_spell_check": {
        "ms_spell_check_language": "en"
      }
    }
  },
  "nbformat": 4,
  "nbformat_minor": 2
}