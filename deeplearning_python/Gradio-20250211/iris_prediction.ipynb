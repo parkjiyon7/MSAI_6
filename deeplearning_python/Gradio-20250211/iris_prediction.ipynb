{
 "cells": [
  {
   "cell_type": "markdown",
   "metadata": {},
   "source": [
    "# 라이브러리 및 환경설정"
   ]
  },
  {
   "cell_type": "code",
   "execution_count": 1,
   "metadata": {},
   "outputs": [
    {
     "name": "stdout",
     "output_type": "stream",
     "text": [
      "Defaulting to user installation because normal site-packages is not writeable\n",
      "Requirement already satisfied: gradio in /Users/parkjiyon/Library/Python/3.9/lib/python/site-packages (4.44.1)\n",
      "Requirement already satisfied: aiofiles<24.0,>=22.0 in /Users/parkjiyon/Library/Python/3.9/lib/python/site-packages (from gradio) (23.2.1)\n",
      "Requirement already satisfied: anyio<5.0,>=3.0 in /Users/parkjiyon/Library/Python/3.9/lib/python/site-packages (from gradio) (4.8.0)\n",
      "Requirement already satisfied: fastapi<1.0 in /Users/parkjiyon/Library/Python/3.9/lib/python/site-packages (from gradio) (0.115.8)\n",
      "Requirement already satisfied: ffmpy in /Users/parkjiyon/Library/Python/3.9/lib/python/site-packages (from gradio) (0.5.0)\n",
      "Requirement already satisfied: gradio-client==1.3.0 in /Users/parkjiyon/Library/Python/3.9/lib/python/site-packages (from gradio) (1.3.0)\n",
      "Requirement already satisfied: httpx>=0.24.1 in /Users/parkjiyon/Library/Python/3.9/lib/python/site-packages (from gradio) (0.28.1)\n",
      "Requirement already satisfied: huggingface-hub>=0.19.3 in /Users/parkjiyon/Library/Python/3.9/lib/python/site-packages (from gradio) (0.28.1)\n",
      "Requirement already satisfied: importlib-resources<7.0,>=1.3 in /Users/parkjiyon/Library/Python/3.9/lib/python/site-packages (from gradio) (6.5.2)\n",
      "Requirement already satisfied: jinja2<4.0 in /Users/parkjiyon/Library/Python/3.9/lib/python/site-packages (from gradio) (3.1.5)\n",
      "Requirement already satisfied: markupsafe~=2.0 in /Users/parkjiyon/Library/Python/3.9/lib/python/site-packages (from gradio) (2.1.5)\n",
      "Requirement already satisfied: matplotlib~=3.0 in /Users/parkjiyon/Library/Python/3.9/lib/python/site-packages (from gradio) (3.9.4)\n",
      "Requirement already satisfied: numpy<3.0,>=1.0 in /Users/parkjiyon/Library/Python/3.9/lib/python/site-packages (from gradio) (2.0.2)\n",
      "Requirement already satisfied: orjson~=3.0 in /Users/parkjiyon/Library/Python/3.9/lib/python/site-packages (from gradio) (3.10.15)\n",
      "Requirement already satisfied: packaging in /Users/parkjiyon/Library/Python/3.9/lib/python/site-packages (from gradio) (24.2)\n",
      "Requirement already satisfied: pandas<3.0,>=1.0 in /Users/parkjiyon/Library/Python/3.9/lib/python/site-packages (from gradio) (2.2.3)\n",
      "Requirement already satisfied: pillow<11.0,>=8.0 in /Users/parkjiyon/Library/Python/3.9/lib/python/site-packages (from gradio) (10.4.0)\n",
      "Requirement already satisfied: pydantic>=2.0 in /Users/parkjiyon/Library/Python/3.9/lib/python/site-packages (from gradio) (2.10.6)\n",
      "Requirement already satisfied: pydub in /Users/parkjiyon/Library/Python/3.9/lib/python/site-packages (from gradio) (0.25.1)\n",
      "Requirement already satisfied: python-multipart>=0.0.9 in /Users/parkjiyon/Library/Python/3.9/lib/python/site-packages (from gradio) (0.0.20)\n",
      "Requirement already satisfied: pyyaml<7.0,>=5.0 in /Users/parkjiyon/Library/Python/3.9/lib/python/site-packages (from gradio) (6.0.2)\n",
      "Requirement already satisfied: ruff>=0.2.2 in /Users/parkjiyon/Library/Python/3.9/lib/python/site-packages (from gradio) (0.9.6)\n",
      "Requirement already satisfied: semantic-version~=2.0 in /Users/parkjiyon/Library/Python/3.9/lib/python/site-packages (from gradio) (2.10.0)\n",
      "Requirement already satisfied: tomlkit==0.12.0 in /Users/parkjiyon/Library/Python/3.9/lib/python/site-packages (from gradio) (0.12.0)\n",
      "Requirement already satisfied: typer<1.0,>=0.12 in /Users/parkjiyon/Library/Python/3.9/lib/python/site-packages (from gradio) (0.15.1)\n",
      "Requirement already satisfied: typing-extensions~=4.0 in /Users/parkjiyon/Library/Python/3.9/lib/python/site-packages (from gradio) (4.12.2)\n",
      "Requirement already satisfied: urllib3~=2.0 in /Users/parkjiyon/Library/Python/3.9/lib/python/site-packages (from gradio) (2.3.0)\n",
      "Requirement already satisfied: uvicorn>=0.14.0 in /Users/parkjiyon/Library/Python/3.9/lib/python/site-packages (from gradio) (0.34.0)\n",
      "Requirement already satisfied: fsspec in /Users/parkjiyon/Library/Python/3.9/lib/python/site-packages (from gradio-client==1.3.0->gradio) (2025.2.0)\n",
      "Requirement already satisfied: websockets<13.0,>=10.0 in /Users/parkjiyon/Library/Python/3.9/lib/python/site-packages (from gradio-client==1.3.0->gradio) (12.0)\n",
      "Requirement already satisfied: exceptiongroup>=1.0.2 in /Users/parkjiyon/Library/Python/3.9/lib/python/site-packages (from anyio<5.0,>=3.0->gradio) (1.2.2)\n",
      "Requirement already satisfied: idna>=2.8 in /Users/parkjiyon/Library/Python/3.9/lib/python/site-packages (from anyio<5.0,>=3.0->gradio) (3.10)\n",
      "Requirement already satisfied: sniffio>=1.1 in /Users/parkjiyon/Library/Python/3.9/lib/python/site-packages (from anyio<5.0,>=3.0->gradio) (1.3.1)\n",
      "Requirement already satisfied: starlette<0.46.0,>=0.40.0 in /Users/parkjiyon/Library/Python/3.9/lib/python/site-packages (from fastapi<1.0->gradio) (0.45.3)\n",
      "Requirement already satisfied: certifi in /Users/parkjiyon/Library/Python/3.9/lib/python/site-packages (from httpx>=0.24.1->gradio) (2025.1.31)\n",
      "Requirement already satisfied: httpcore==1.* in /Users/parkjiyon/Library/Python/3.9/lib/python/site-packages (from httpx>=0.24.1->gradio) (1.0.7)\n",
      "Requirement already satisfied: h11<0.15,>=0.13 in /Users/parkjiyon/Library/Python/3.9/lib/python/site-packages (from httpcore==1.*->httpx>=0.24.1->gradio) (0.14.0)\n",
      "Requirement already satisfied: filelock in /Users/parkjiyon/Library/Python/3.9/lib/python/site-packages (from huggingface-hub>=0.19.3->gradio) (3.17.0)\n",
      "Requirement already satisfied: requests in /Users/parkjiyon/Library/Python/3.9/lib/python/site-packages (from huggingface-hub>=0.19.3->gradio) (2.32.3)\n",
      "Requirement already satisfied: tqdm>=4.42.1 in /Users/parkjiyon/Library/Python/3.9/lib/python/site-packages (from huggingface-hub>=0.19.3->gradio) (4.67.1)\n",
      "Requirement already satisfied: zipp>=3.1.0 in /Users/parkjiyon/Library/Python/3.9/lib/python/site-packages (from importlib-resources<7.0,>=1.3->gradio) (3.21.0)\n",
      "Requirement already satisfied: contourpy>=1.0.1 in /Users/parkjiyon/Library/Python/3.9/lib/python/site-packages (from matplotlib~=3.0->gradio) (1.3.0)\n",
      "Requirement already satisfied: cycler>=0.10 in /Users/parkjiyon/Library/Python/3.9/lib/python/site-packages (from matplotlib~=3.0->gradio) (0.12.1)\n",
      "Requirement already satisfied: fonttools>=4.22.0 in /Users/parkjiyon/Library/Python/3.9/lib/python/site-packages (from matplotlib~=3.0->gradio) (4.56.0)\n",
      "Requirement already satisfied: kiwisolver>=1.3.1 in /Users/parkjiyon/Library/Python/3.9/lib/python/site-packages (from matplotlib~=3.0->gradio) (1.4.7)\n",
      "Requirement already satisfied: pyparsing>=2.3.1 in /Users/parkjiyon/Library/Python/3.9/lib/python/site-packages (from matplotlib~=3.0->gradio) (3.2.1)\n",
      "Requirement already satisfied: python-dateutil>=2.7 in /Users/parkjiyon/Library/Python/3.9/lib/python/site-packages (from matplotlib~=3.0->gradio) (2.9.0.post0)\n",
      "Requirement already satisfied: pytz>=2020.1 in /Users/parkjiyon/Library/Python/3.9/lib/python/site-packages (from pandas<3.0,>=1.0->gradio) (2025.1)\n",
      "Requirement already satisfied: tzdata>=2022.7 in /Users/parkjiyon/Library/Python/3.9/lib/python/site-packages (from pandas<3.0,>=1.0->gradio) (2025.1)\n",
      "Requirement already satisfied: annotated-types>=0.6.0 in /Users/parkjiyon/Library/Python/3.9/lib/python/site-packages (from pydantic>=2.0->gradio) (0.7.0)\n",
      "Requirement already satisfied: pydantic-core==2.27.2 in /Users/parkjiyon/Library/Python/3.9/lib/python/site-packages (from pydantic>=2.0->gradio) (2.27.2)\n",
      "Requirement already satisfied: click>=8.0.0 in /Users/parkjiyon/Library/Python/3.9/lib/python/site-packages (from typer<1.0,>=0.12->gradio) (8.1.8)\n",
      "Requirement already satisfied: shellingham>=1.3.0 in /Users/parkjiyon/Library/Python/3.9/lib/python/site-packages (from typer<1.0,>=0.12->gradio) (1.5.4)\n",
      "Requirement already satisfied: rich>=10.11.0 in /Users/parkjiyon/Library/Python/3.9/lib/python/site-packages (from typer<1.0,>=0.12->gradio) (13.9.4)\n",
      "Requirement already satisfied: six>=1.5 in /Library/Developer/CommandLineTools/Library/Frameworks/Python3.framework/Versions/3.9/lib/python3.9/site-packages (from python-dateutil>=2.7->matplotlib~=3.0->gradio) (1.15.0)\n",
      "Requirement already satisfied: markdown-it-py>=2.2.0 in /Users/parkjiyon/Library/Python/3.9/lib/python/site-packages (from rich>=10.11.0->typer<1.0,>=0.12->gradio) (3.0.0)\n",
      "Requirement already satisfied: pygments<3.0.0,>=2.13.0 in /Users/parkjiyon/Library/Python/3.9/lib/python/site-packages (from rich>=10.11.0->typer<1.0,>=0.12->gradio) (2.19.1)\n",
      "Requirement already satisfied: charset-normalizer<4,>=2 in /Users/parkjiyon/Library/Python/3.9/lib/python/site-packages (from requests->huggingface-hub>=0.19.3->gradio) (3.4.1)\n",
      "Requirement already satisfied: mdurl~=0.1 in /Users/parkjiyon/Library/Python/3.9/lib/python/site-packages (from markdown-it-py>=2.2.0->rich>=10.11.0->typer<1.0,>=0.12->gradio) (0.1.2)\n",
      "Note: you may need to restart the kernel to use updated packages.\n"
     ]
    }
   ],
   "source": [
    "pip install gradio"
   ]
  },
  {
   "cell_type": "code",
   "execution_count": 2,
   "metadata": {},
   "outputs": [
    {
     "name": "stderr",
     "output_type": "stream",
     "text": [
      "/Users/parkjiyon/Library/Python/3.9/lib/python/site-packages/urllib3/__init__.py:35: NotOpenSSLWarning: urllib3 v2 only supports OpenSSL 1.1.1+, currently the 'ssl' module is compiled with 'LibreSSL 2.8.3'. See: https://github.com/urllib3/urllib3/issues/3020\n",
      "  warnings.warn(\n",
      "/Users/parkjiyon/Library/Python/3.9/lib/python/site-packages/tqdm/auto.py:21: TqdmWarning: IProgress not found. Please update jupyter and ipywidgets. See https://ipywidgets.readthedocs.io/en/stable/user_install.html\n",
      "  from .autonotebook import tqdm as notebook_tqdm\n"
     ]
    }
   ],
   "source": [
    "import gradio as gr\n",
    "# import json\n",
    "# import requests\n",
    "# import matplotlib as plt"
   ]
  },
  {
   "cell_type": "markdown",
   "metadata": {},
   "source": [
    "# Gradio 연습"
   ]
  },
  {
   "cell_type": "code",
   "execution_count": 3,
   "metadata": {},
   "outputs": [
    {
     "name": "stdout",
     "output_type": "stream",
     "text": [
      "Running on local URL:  http://127.0.0.1:7860\n",
      "\n",
      "To create a public link, set `share=True` in `launch()`.\n"
     ]
    },
    {
     "data": {
      "text/html": [
       "<div><iframe src=\"http://127.0.0.1:7860/\" width=\"100%\" height=\"500\" allow=\"autoplay; camera; microphone; clipboard-read; clipboard-write;\" frameborder=\"0\" allowfullscreen></iframe></div>"
      ],
      "text/plain": [
       "<IPython.core.display.HTML object>"
      ]
     },
     "metadata": {},
     "output_type": "display_data"
    },
    {
     "data": {
      "text/plain": []
     },
     "execution_count": 3,
     "metadata": {},
     "output_type": "execute_result"
    }
   ],
   "source": [
    "def greet(name):\n",
    "    return \"Hello World, {}\".format(name)\n",
    "\n",
    "with gr.Blocks() as demo:\n",
    "    gr.Markdown(\"# Hello World!!\")\n",
    "\n",
    "    with gr.Row():\n",
    "        input_textbox = gr.Textbox(label=\"입력\")\n",
    "        output_textbox = gr.Textbox(label = \"출력\", interactive=False)\n",
    "\n",
    "    send_button = gr.Button(\"전송\")\n",
    "    send_button.click(fn=greet, inputs=[input_textbox], outputs=[output_textbox])\n",
    "\n",
    "    # 실시간 출력\n",
    "    with gr.Row():\n",
    "        input2_textbox = gr.Textbox(label=\"입력2\")\n",
    "        output2_textbox = gr.Textbox(label=\"실시간 출력\")\n",
    "\n",
    "    input2_textbox.change(fn=greet, inputs=[input2_textbox], outputs=[output2_textbox])\n",
    "\n",
    "\n",
    "# demo = gr.Interface(fn=greet, inputs=\"text\", outputs=\"text\")\n",
    "demo.launch()\n"
   ]
  },
  {
   "cell_type": "markdown",
   "metadata": {},
   "source": [
    "# Gradio로 Iris 붓꽃 데이터"
   ]
  },
  {
   "cell_type": "markdown",
   "metadata": {},
   "source": [
    "## 추가 라이브러리 import"
   ]
  },
  {
   "cell_type": "code",
   "execution_count": 20,
   "metadata": {},
   "outputs": [],
   "source": [
    "import requests\n",
    "import json"
   ]
  },
  {
   "cell_type": "markdown",
   "metadata": {},
   "source": [
    "## 코드 구성"
   ]
  },
  {
   "cell_type": "code",
   "execution_count": null,
   "metadata": {},
   "outputs": [
    {
     "name": "stdout",
     "output_type": "stream",
     "text": [
      "Running on local URL:  http://127.0.0.1:7861\n",
      "\n",
      "To create a public link, set `share=True` in `launch()`.\n"
     ]
    },
    {
     "data": {
      "text/html": [
       "<div><iframe src=\"http://127.0.0.1:7861/\" width=\"100%\" height=\"500\" allow=\"autoplay; camera; microphone; clipboard-read; clipboard-write;\" frameborder=\"0\" allowfullscreen></iframe></div>"
      ],
      "text/plain": [
       "<IPython.core.display.HTML object>"
      ]
     },
     "metadata": {},
     "output_type": "display_data"
    },
    {
     "data": {
      "text/plain": []
     },
     "execution_count": 21,
     "metadata": {},
     "output_type": "execute_result"
    },
    {
     "name": "stdout",
     "output_type": "stream",
     "text": [
      "<Response [200]>\n"
     ]
    }
   ],
   "source": [
    "# request 함수 - api 호출 시 사용하는 함수\n",
    "def request_iris_prediction(sl, sw, pl, pw):\n",
    "\n",
    "    # endpoint\n",
    "    endpoint = \"\"\n",
    "    # method: post\n",
    "\n",
    "    # headers\n",
    "    \"\"\"\n",
    "    Content-Type:application/json\n",
    "    Authorization:Bearer \n",
    "    \"\"\"\n",
    "    headers = {\n",
    "        \"Content-Type\" : \"application/json\",\n",
    "        \"Authorization\" : \"Bearer\n",
    "    }\n",
    "\n",
    "    # body\n",
    "    body = {\n",
    "        \"Inputs\": {\n",
    "            \"input1\": [\n",
    "                {\n",
    "                    \"sepal_length_cm\": sl,\n",
    "                    \"sepal_width_cm\": sw,\n",
    "                    \"petal_length_cm\": pl,\n",
    "                    \"petal_width_cm\": pw,\n",
    "                    \"class\": \"Iris-setosa\"\n",
    "                }\n",
    "            \n",
    "            ]\n",
    "        }\n",
    "    }\n",
    "\n",
    "\n",
    "    response = requests.post(endpoint, headers=headers, json=body)\n",
    "    print(response)\n",
    "    # json 형태로 Azure REST API 로 넘김\n",
    "    if response.status_code == 200:\n",
    "        response_json = response.json()\n",
    "        return response_json\n",
    "    else:\n",
    "        return \"\"\n",
    "    \n",
    "\n",
    "# request_iris_prediction(3, 3, 3, 3)\n",
    "\n",
    "\n",
    "# 전송 버튼 함수 = 버튼을 클릭하면 결과값을 리턴해주는 함수\n",
    "def click_send(sl, sw, pl, pw):\n",
    "    response_json = request_iris_prediction(sl, sw, pl, pw)\n",
    "    return json.dumps(response_json, indent=3)\n",
    "\n",
    "\n",
    "with gr.Blocks() as demo:\n",
    "    gr.Markdown(\"# 붓꽃예측\")\n",
    "\n",
    "    # 꽃입, 꽃받침 입력 텍스트 상자\n",
    "    with gr.Row():\n",
    "        sepal_length_textbox = gr.Textbox(label= \"꽃받침 길이\")\n",
    "        sepal_width_textbox = gr.Textbox(label= \"꽃받침 넓이\")\n",
    "        petal_length_textbox = gr.Textbox(label= \"꽃잎 길이\")\n",
    "        petal_width_textbox = gr.Textbox(label= \"꽃잎 넓이\")\n",
    "\n",
    "    \n",
    "    send_button = gr.Button(\"전송\")\n",
    "    output_textbox = gr.Textbox(label=\"출력\")    \n",
    "    send_button.click(fn=click_send, inputs=[sepal_length_textbox, sepal_width_textbox, petal_length_textbox, petal_width_textbox], outputs=[output_textbox])\n",
    "\n",
    "\n",
    "demo.launch()"
   ]
  },
  {
   "cell_type": "code",
   "execution_count": null,
   "metadata": {},
   "outputs": [],
   "source": []
  }
 ],
 "metadata": {
  "kernelspec": {
   "display_name": "Python 3",
   "language": "python",
   "name": "python3"
  },
  "language_info": {
   "codemirror_mode": {
    "name": "ipython",
    "version": 3
   },
   "file_extension": ".py",
   "mimetype": "text/x-python",
   "name": "python",
   "nbconvert_exporter": "python",
   "pygments_lexer": "ipython3",
   "version": "3.9.6"
  }
 },
 "nbformat": 4,
 "nbformat_minor": 2
}
