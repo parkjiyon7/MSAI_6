{
  "cells": [
    {
      "cell_type": "code",
      "source": [
        "import numpy as np\n",
        "\n",
        "# x 값 의 수\n",
        "X = np.array([1, 2])\n",
        "print(f'x matrix: {X}')\n",
        "\n",
        "# 가중치 정렬(x1 가중치 1행, x2 가중치 2행...)\n",
        "W = np.array([[1, 3, 5], [2, 4, 6]])\n",
        "print(f'W matrix: {W}')\n",
        "\n",
        "# X * W(행렬 곱)\n",
        "Y = np.dot(X, W)\n",
        "print(f'Y matrix: {Y}')\n"
      ],
      "outputs": [
        {
          "output_type": "stream",
          "name": "stdout",
          "text": "x matrix: [1 2]\nW matrix: [[1 3 5]\n [2 4 6]]\nY matrix: [ 5 11 17]\n"
        }
      ],
      "execution_count": 6,
      "metadata": {
        "gather": {
          "logged": 1738563706437
        }
      }
    }
  ],
  "metadata": {
    "kernel_info": {
      "name": "python3"
    },
    "kernelspec": {
      "display_name": "Python 3 (ipykernel)",
      "language": "python",
      "name": "python3"
    },
    "language_info": {
      "name": "python",
      "version": "3.10.11",
      "mimetype": "text/x-python",
      "codemirror_mode": {
        "name": "ipython",
        "version": 3
      },
      "pygments_lexer": "ipython3",
      "nbconvert_exporter": "python",
      "file_extension": ".py"
    },
    "microsoft": {
      "host": {
        "AzureML": {
          "notebookHasBeenCompleted": true
        }
      },
      "ms_spell_check": {
        "ms_spell_check_language": "en"
      }
    },
    "nteract": {
      "version": "nteract-front-end@1.0.0"
    }
  },
  "nbformat": 4,
  "nbformat_minor": 2
}