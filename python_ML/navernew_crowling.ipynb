{
 "cells": [
  {
   "cell_type": "markdown",
   "metadata": {},
   "source": [
    "# 네이버증권 뉴스 크롤링"
   ]
  },
  {
   "cell_type": "markdown",
   "metadata": {},
   "source": [
    "제목  \n",
    "상세페이지링크  \n",
    "내용  \n",
    "언론사  \n",
    "날짜  \n",
    "-> 엑셀로 정리"
   ]
  },
  {
   "cell_type": "markdown",
   "metadata": {},
   "source": [
    "## 브라우저 열기 -> 웹페이지 이동"
   ]
  },
  {
   "cell_type": "code",
   "execution_count": 5,
   "metadata": {},
   "outputs": [],
   "source": [
    "from selenium.webdriver import Chrome\n",
    "driver = Chrome()"
   ]
  },
  {
   "cell_type": "code",
   "execution_count": 1,
   "metadata": {},
   "outputs": [],
   "source": [
    "# import datetime\n",
    "# date = input(\"검색할 날짜(yyyymmdd) : \")\n",
    "# if date==\"\": date = datetime.datetime.now().strftime('%Y-%m-%d')\n",
    "# else: date = f'{date[:4]}-{date[4:6]}-{date[6:]}'"
   ]
  },
  {
   "cell_type": "code",
   "execution_count": 7,
   "metadata": {},
   "outputs": [],
   "source": [
    "# 웹페이지 열고 이동하기\n",
    "from selenium.webdriver import Chrome\n",
    "driver = Chrome()\n",
    "url = \"https://finance.naver.com/news/mainnews.naver\"\n",
    "driver.get(url)"
   ]
  },
  {
   "cell_type": "markdown",
   "metadata": {},
   "source": [
    "## 요소 선택하기"
   ]
  },
  {
   "cell_type": "code",
   "execution_count": 6,
   "metadata": {},
   "outputs": [
    {
     "data": {
      "text/plain": [
       "[<selenium.webdriver.remote.webelement.WebElement (session=\"8fda71bd0faefdebf1f6511e1582a5c0\", element=\"f.FD6E5CA2E7201A9B10FD2ACA9C8314CC.d.66737D8C9E3B5A509F210040244756C4.e.38\")>,\n",
       " <selenium.webdriver.remote.webelement.WebElement (session=\"8fda71bd0faefdebf1f6511e1582a5c0\", element=\"f.FD6E5CA2E7201A9B10FD2ACA9C8314CC.d.66737D8C9E3B5A509F210040244756C4.e.39\")>,\n",
       " <selenium.webdriver.remote.webelement.WebElement (session=\"8fda71bd0faefdebf1f6511e1582a5c0\", element=\"f.FD6E5CA2E7201A9B10FD2ACA9C8314CC.d.66737D8C9E3B5A509F210040244756C4.e.40\")>,\n",
       " <selenium.webdriver.remote.webelement.WebElement (session=\"8fda71bd0faefdebf1f6511e1582a5c0\", element=\"f.FD6E5CA2E7201A9B10FD2ACA9C8314CC.d.66737D8C9E3B5A509F210040244756C4.e.41\")>,\n",
       " <selenium.webdriver.remote.webelement.WebElement (session=\"8fda71bd0faefdebf1f6511e1582a5c0\", element=\"f.FD6E5CA2E7201A9B10FD2ACA9C8314CC.d.66737D8C9E3B5A509F210040244756C4.e.175\")>,\n",
       " <selenium.webdriver.remote.webelement.WebElement (session=\"8fda71bd0faefdebf1f6511e1582a5c0\", element=\"f.FD6E5CA2E7201A9B10FD2ACA9C8314CC.d.66737D8C9E3B5A509F210040244756C4.e.176\")>,\n",
       " <selenium.webdriver.remote.webelement.WebElement (session=\"8fda71bd0faefdebf1f6511e1582a5c0\", element=\"f.FD6E5CA2E7201A9B10FD2ACA9C8314CC.d.66737D8C9E3B5A509F210040244756C4.e.177\")>,\n",
       " <selenium.webdriver.remote.webelement.WebElement (session=\"8fda71bd0faefdebf1f6511e1582a5c0\", element=\"f.FD6E5CA2E7201A9B10FD2ACA9C8314CC.d.66737D8C9E3B5A509F210040244756C4.e.178\")>,\n",
       " <selenium.webdriver.remote.webelement.WebElement (session=\"8fda71bd0faefdebf1f6511e1582a5c0\", element=\"f.FD6E5CA2E7201A9B10FD2ACA9C8314CC.d.66737D8C9E3B5A509F210040244756C4.e.179\")>,\n",
       " <selenium.webdriver.remote.webelement.WebElement (session=\"8fda71bd0faefdebf1f6511e1582a5c0\", element=\"f.FD6E5CA2E7201A9B10FD2ACA9C8314CC.d.66737D8C9E3B5A509F210040244756C4.e.180\")>,\n",
       " <selenium.webdriver.remote.webelement.WebElement (session=\"8fda71bd0faefdebf1f6511e1582a5c0\", element=\"f.FD6E5CA2E7201A9B10FD2ACA9C8314CC.d.66737D8C9E3B5A509F210040244756C4.e.181\")>,\n",
       " <selenium.webdriver.remote.webelement.WebElement (session=\"8fda71bd0faefdebf1f6511e1582a5c0\", element=\"f.FD6E5CA2E7201A9B10FD2ACA9C8314CC.d.66737D8C9E3B5A509F210040244756C4.e.182\")>,\n",
       " <selenium.webdriver.remote.webelement.WebElement (session=\"8fda71bd0faefdebf1f6511e1582a5c0\", element=\"f.FD6E5CA2E7201A9B10FD2ACA9C8314CC.d.66737D8C9E3B5A509F210040244756C4.e.183\")>,\n",
       " <selenium.webdriver.remote.webelement.WebElement (session=\"8fda71bd0faefdebf1f6511e1582a5c0\", element=\"f.FD6E5CA2E7201A9B10FD2ACA9C8314CC.d.66737D8C9E3B5A509F210040244756C4.e.184\")>,\n",
       " <selenium.webdriver.remote.webelement.WebElement (session=\"8fda71bd0faefdebf1f6511e1582a5c0\", element=\"f.FD6E5CA2E7201A9B10FD2ACA9C8314CC.d.66737D8C9E3B5A509F210040244756C4.e.185\")>,\n",
       " <selenium.webdriver.remote.webelement.WebElement (session=\"8fda71bd0faefdebf1f6511e1582a5c0\", element=\"f.FD6E5CA2E7201A9B10FD2ACA9C8314CC.d.66737D8C9E3B5A509F210040244756C4.e.186\")>,\n",
       " <selenium.webdriver.remote.webelement.WebElement (session=\"8fda71bd0faefdebf1f6511e1582a5c0\", element=\"f.FD6E5CA2E7201A9B10FD2ACA9C8314CC.d.66737D8C9E3B5A509F210040244756C4.e.187\")>,\n",
       " <selenium.webdriver.remote.webelement.WebElement (session=\"8fda71bd0faefdebf1f6511e1582a5c0\", element=\"f.FD6E5CA2E7201A9B10FD2ACA9C8314CC.d.66737D8C9E3B5A509F210040244756C4.e.188\")>,\n",
       " <selenium.webdriver.remote.webelement.WebElement (session=\"8fda71bd0faefdebf1f6511e1582a5c0\", element=\"f.FD6E5CA2E7201A9B10FD2ACA9C8314CC.d.66737D8C9E3B5A509F210040244756C4.e.189\")>,\n",
       " <selenium.webdriver.remote.webelement.WebElement (session=\"8fda71bd0faefdebf1f6511e1582a5c0\", element=\"f.FD6E5CA2E7201A9B10FD2ACA9C8314CC.d.66737D8C9E3B5A509F210040244756C4.e.190\")>]"
      ]
     },
     "execution_count": 6,
     "metadata": {},
     "output_type": "execute_result"
    }
   ],
   "source": [
    "from selenium.webdriver.common.by import By\n",
    "articles = driver.find_elements(By.CSS_SELECTOR, \".block1\")\n",
    "articles"
   ]
  },
  {
   "cell_type": "markdown",
   "metadata": {},
   "source": [
    "### 반복문을 통해 정보 가져오기"
   ]
  },
  {
   "cell_type": "code",
   "execution_count": null,
   "metadata": {},
   "outputs": [
    {
     "name": "stdout",
     "output_type": "stream",
     "text": [
      "딥시크 충격에 전력인프라주 '줄비명'…\"과도한 우려\"\n",
      "기업거버넌스포럼 “파행적 고려아연 임시 주총에 국격 추락”\n",
      "암호화폐 베테랑 \"비트코인 2~3월 13만달러 돌파\"\n",
      "삼성운용 'KODEX 200타겟위클리커버드콜', 두 달만에 순자산 1000억 돌파\n",
      "연휴 후 한국 증시, 반도체주 '딥시크 쇼크'\n",
      "메모리 양극화 심화에…삼성전자 4분기 반도체 영업익 2.9조(종합)\n",
      "‘딥시크 쇼크’에 관련주 희비…‘반도체’ 울고 ‘AI소프트웨어’ 웃고\n",
      "\"백종원 믿고 샀는데\" 신저가 찍은 더본코리아…99.99%가 '비명'\n",
      "미래운용 ‘TIGER 미국필라델피아AI반도체나스닥’, 순자산 3000억 돌파\n",
      "‘반도체 뒷걸음질’ 삼성전자…외국인 보유 비중 2년來 최저 [투자360]\n",
      "“투자자 99%가 손실이라니”…리니지 제국 다시 부활할까 [K주식 이걸 사? 말아?]\n",
      "딥시크 충격에 SK하이닉스 약세…네이버·카카오 급등\n",
      "\"언젠간 오르겠지\" 버텼는데 적자 확대…호텔신라 목표가도 '뚝뚝'\n",
      "`딥시크 쇼크` 국장 덮쳤다…SK하이닉스 10%대↓\n",
      "현금부자 주목, KODEX 200타겟위클리커버드콜…순자산 1000억 돌파\n",
      "허선호 미래에셋증권 대표 \"서학개미 13조 벌어, 중국·인도로 분산투자\"\n",
      "“미·중 AI 패권전쟁 시작됐다”…엔비디아 누른 ‘가성비 AI’ 딥시크 파장 어디까지? [투자360]\n",
      "\"네이버도 할 수 있는 거 아냐?\"…'딥시크 등장'에 주가 급등\n",
      "기다리던 엔비디아 HBM 납품 소식인데…삼성전자, 2%대 하락[핫종목]\n",
      "'딥시크 쇼크' 20만닉스도 위태…반도체주 줄줄이 '휘청'\n"
     ]
    }
   ],
   "source": [
    "for article in articles:\n",
    "    subject = article.find_element(By.CSS_SELECTOR, \".articleSubject\").text\n",
    "    #print(subject)\n",
    "    summary = article.find_element(By.CSS_SELECTOR, \".articleSummary\").text\n",
    "    #print(summary)\n",
    "    press = article.find_element(By.CSS_SELECTOR, \".press\").text\n",
    "    #print(press)\n",
    "    wdate = article.find_element(By.CSS_SELECTOR, \".wdate\").text\n",
    "    #print(wdate)\n",
    "    # link = article.find_element(By.CSS_SELECTOR, \".articleSubject>a\").text\n",
    "    # print(link)"
   ]
  },
  {
   "cell_type": "markdown",
   "metadata": {},
   "source": [
    "### 링크 가져오기  \n",
    "a 태그 안의 요소 가져오기\n",
    "- 부모자식 관계 가져오기"
   ]
  },
  {
   "cell_type": "code",
   "execution_count": 15,
   "metadata": {},
   "outputs": [
    {
     "name": "stdout",
     "output_type": "stream",
     "text": [
      "https://n.news.naver.com/mnews/article/015/0005087851\n",
      "https://n.news.naver.com/mnews/article/119/0002918531\n",
      "https://n.news.naver.com/mnews/article/215/0001196881\n",
      "https://n.news.naver.com/mnews/article/014/0005301814\n",
      "https://n.news.naver.com/mnews/article/277/0005539669\n",
      "https://n.news.naver.com/mnews/article/001/0015184779\n",
      "https://n.news.naver.com/mnews/article/009/0005436231\n",
      "https://n.news.naver.com/mnews/article/008/0005147053\n",
      "https://n.news.naver.com/mnews/article/018/0005933797\n",
      "https://n.news.naver.com/mnews/article/016/0002421966\n",
      "https://n.news.naver.com/mnews/article/009/0005436226\n",
      "https://n.news.naver.com/mnews/article/277/0005539654\n",
      "https://n.news.naver.com/mnews/article/008/0005147039\n",
      "https://n.news.naver.com/mnews/article/029/0002932300\n",
      "https://n.news.naver.com/mnews/article/008/0005147034\n",
      "https://n.news.naver.com/mnews/article/417/0001054889\n",
      "https://n.news.naver.com/mnews/article/016/0002421937\n",
      "https://n.news.naver.com/mnews/article/015/0005087807\n",
      "https://n.news.naver.com/mnews/article/421/0008047854\n",
      "https://n.news.naver.com/mnews/article/008/0005147025\n"
     ]
    }
   ],
   "source": [
    "for article in articles:\n",
    "    link = article.find_element(By.CSS_SELECTOR, \".articleSubject>a\").get_attribute('href')\n",
    "    print(link)"
   ]
  },
  {
   "cell_type": "markdown",
   "metadata": {},
   "source": [
    "## 수집한 데이터 파일로 저장"
   ]
  },
  {
   "cell_type": "markdown",
   "metadata": {},
   "source": [
    "list에 수집한 데이터 저장"
   ]
  },
  {
   "cell_type": "code",
   "execution_count": 16,
   "metadata": {},
   "outputs": [
    {
     "data": {
      "text/plain": [
       "[['딥시크 충격에 전력인프라주 \\'줄비명\\'…\"과도한 우려\"',\n",
       "  \"인공지능(AI) 서비스 확산 기대감에 한동안 올랐던 전력인프라주들이 일제 하락세를 타고 있다. 중국 딥시크가 '가성비 AI'를 내놓으면.. 한국경제 | 2025-01-31 11:03:16\",\n",
       "  '한국경제',\n",
       "  '2025-01-31 11:03:16',\n",
       "  'https://n.news.naver.com/mnews/article/015/0005087851'],\n",
       " ['기업거버넌스포럼 “파행적 고려아연 임시 주총에 국격 추락”',\n",
       "  '최대주주 영풍의 의결권을 기습적으로 배제하면서 파행적으로 진행된 고려아연의 임시주주총회에 대해 국격을 추락시키는 행위였다는 비판이 제기.. 데일리안 | 2025-01-31 10:56:13',\n",
       "  '데일리안',\n",
       "  '2025-01-31 10:56:13',\n",
       "  'https://n.news.naver.com/mnews/article/119/0002918531'],\n",
       " ['암호화폐 베테랑 \"비트코인 2~3월 13만달러 돌파\"',\n",
       "  '월가에서 암호화폐 베테랑으로 불리는 제프 켄드릭 스탠다드차타드(SC) 애널리스트가 비트코인 강세론을 주장하고 나섰다. 30일(현지시간).. 한국경제TV | 2025-01-31 10:43:15',\n",
       "  '한국경제TV',\n",
       "  '2025-01-31 10:43:15',\n",
       "  'https://n.news.naver.com/mnews/article/215/0001196881'],\n",
       " [\"삼성운용 'KODEX 200타겟위클리커버드콜', 두 달만에 순자산 1000억 돌파\",\n",
       "  '최근 ‘세금 없는’ 국내 주식 시세차익과 장내 파생상품 수익을 활용해 매월 고배당과 추가 수익을 추구하는 국내 자산 연계 타겟커버드콜에.. 파이낸셜뉴스 | 2025-01-31 10:34:36',\n",
       "  '파이낸셜뉴스',\n",
       "  '2025-01-31 10:34:36',\n",
       "  'https://n.news.naver.com/mnews/article/014/0005301814'],\n",
       " [\"연휴 후 한국 증시, 반도체주 '딥시크 쇼크'\",\n",
       "  '연휴를 마치고 개장한 코스피가 하락세로 출발했다. 연휴 기간 발생한 다양한 해외 이슈들이 한꺼번에 반영되며 지수에 영향을 미친 것으로 .. 아시아경제 | 2025-01-31 10:11:09',\n",
       "  '아시아경제',\n",
       "  '2025-01-31 10:11:09',\n",
       "  'https://n.news.naver.com/mnews/article/277/0005539669'],\n",
       " ['메모리 양극화 심화에…삼성전자 4분기 반도체 영업익 2.9조(종합)',\n",
       "  \"역대 2번째 연간 300조원대 매출…연간 R&D·시설투자는 사상 최대 올해 '상저하고' 흐름 보일 듯…HBM3E 판매 확대 관건 삼성전.. 연합뉴스 | 2025-01-31 10:09:54\",\n",
       "  '연합뉴스',\n",
       "  '2025-01-31 10:09:54',\n",
       "  'https://n.news.naver.com/mnews/article/001/0015184779'],\n",
       " ['‘딥시크 쇼크’에 관련주 희비…‘반도체’ 울고 ‘AI소프트웨어’ 웃고',\n",
       "  '‘딥시크 쇼크’ 영향으로 반도체장비 관련주와 인공지능(AI)소프트웨어 관련주의 희비가 엇갈리고 있다. 31일 오전 9시 55분 현재 한.. 매일경제 | 2025-01-31 10:09:08',\n",
       "  '매일경제',\n",
       "  '2025-01-31 10:09:08',\n",
       "  'https://n.news.naver.com/mnews/article/009/0005436231'],\n",
       " ['\"백종원 믿고 샀는데\" 신저가 찍은 더본코리아…99.99%가 \\'비명\\'',\n",
       "  '백종원 대표의 더본코리아가 장 중 2%대 내리며 52주 신저가를 기록했다. 31일 오전 9시55분 기준 코스피 시장에서 더본코리아는 전.. 머니투데이 | 2025-01-31 10:08:44',\n",
       "  '머니투데이',\n",
       "  '2025-01-31 10:08:44',\n",
       "  'https://n.news.naver.com/mnews/article/008/0005147053'],\n",
       " ['미래운용 ‘TIGER 미국필라델피아AI반도체나스닥’, 순자산 3000억 돌파',\n",
       "  '미래에셋자산운용은 ‘TIGER 미국필라델피아AI반도체나스닥’ 상장지수펀드(ETF)의 순자산이 3000억원을 돌파했다고 31일 밝혔다. .. 이데일리 | 2025-01-31 10:07:09',\n",
       "  '이데일리',\n",
       "  '2025-01-31 10:07:09',\n",
       "  'https://n.news.naver.com/mnews/article/018/0005933797'],\n",
       " ['‘반도체 뒷걸음질’ 삼성전자…외국인 보유 비중 2년來 최저 [투자360]',\n",
       "  '50.24%…2023년 1월 이후 최저 외인 6개월 순매도 1위, 2위도 우선주 증권사 7곳 이달 목표주가 하향 ‘가성비 AI 모델’ .. 헤럴드경제 | 2025-01-31 10:02:10',\n",
       "  '헤럴드경제',\n",
       "  '2025-01-31 10:02:10',\n",
       "  'https://n.news.naver.com/mnews/article/016/0002421966'],\n",
       " ['“투자자 99%가 손실이라니”…리니지 제국 다시 부활할까 [K주식 이걸 사? 말아?]',\n",
       "  '104만원→17만원 4년 만에 주저앉은 엔씨소프트 주가입니다. 한때 리니지 진성 유저, 이른바 ‘린저씨’들의 사랑을 듬뿍 받으며 국내 .. 매일경제 | 2025-01-31 10:00:10',\n",
       "  '매일경제',\n",
       "  '2025-01-31 10:00:10',\n",
       "  'https://n.news.naver.com/mnews/article/009/0005436226'],\n",
       " ['딥시크 충격에 SK하이닉스 약세…네이버·카카오 급등',\n",
       "  '설 연휴를 끝내고 개장한 국내 증시가 하락 출발했다. 연휴 기간 글로벌 증시에 충격을 안긴 중국 인공지능(AI) 기업 딥시크의 영향이 .. 아시아경제 | 2025-01-31 09:58:01',\n",
       "  '아시아경제',\n",
       "  '2025-01-31 09:58:01',\n",
       "  'https://n.news.naver.com/mnews/article/277/0005539654'],\n",
       " ['\"언젠간 오르겠지\" 버텼는데 적자 확대…호텔신라 목표가도 \\'뚝뚝\\'',\n",
       "  '지난해 4분기 부진한 실적을 낸 호텔신라가 장 중 3%대 하락 중이다. 호텔신라에 대한 증권가의 시선이 낮아진다. 31일 오전 9시 3.. 머니투데이 | 2025-01-31 09:49:16',\n",
       "  '머니투데이',\n",
       "  '2025-01-31 09:49:16',\n",
       "  'https://n.news.naver.com/mnews/article/008/0005147039'],\n",
       " ['`딥시크 쇼크` 국장 덮쳤다…SK하이닉스 10%대↓',\n",
       "  '엔비디아 17% 폭락 여파 중국의 저비용 인공지능(AI) 딥시크(DeepSeek)의 등장 충격에 국내 주식시장도 요동치고 있다. 설 명.. 디지털타임스 | 2025-01-31 09:42:07',\n",
       "  '디지털타임스',\n",
       "  '2025-01-31 09:42:07',\n",
       "  'https://n.news.naver.com/mnews/article/029/0002932300'],\n",
       " ['현금부자 주목, KODEX 200타겟위클리커버드콜…순자산 1000억 돌파',\n",
       "  '국내 자산과 연계된 타겟커버드콜 상품에 투자자 관심이 커진다. 1억원을 투자하면 월 142만원을 받을 수 있는데 세금은 3만원 수준이라.. 머니투데이 | 2025-01-31 09:41:32',\n",
       "  '머니투데이',\n",
       "  '2025-01-31 09:41:32',\n",
       "  'https://n.news.naver.com/mnews/article/008/0005147034'],\n",
       " ['허선호 미래에셋증권 대표 \"서학개미 13조 벌어, 중국·인도로 분산투자\"',\n",
       "  '허선호 미래에셋증권 대표가 최근 투자자들에게 보낸 투자레터를 보내 지난해 성과를 소개하고 투자 포트폴리오를 다양화 하겠다는 의지를 강조.. 머니S | 2025-01-31 09:40:46',\n",
       "  '머니S',\n",
       "  '2025-01-31 09:40:46',\n",
       "  'https://n.news.naver.com/mnews/article/417/0001054889'],\n",
       " ['“미·중 AI 패권전쟁 시작됐다”…엔비디아 누른 ‘가성비 AI’ 딥시크 파장 어디까지? [투자360]',\n",
       "  '中 AI 스타트업 딥시크, 저비용 고성능 AI 모델 개발 비용효율적 AI 등장에 시장 ‘흔들’ “AI 산업엔 호재 엔비디아엔 악재” [.. 헤럴드경제 | 2025-01-31 09:40:08',\n",
       "  '헤럴드경제',\n",
       "  '2025-01-31 09:40:08',\n",
       "  'https://n.news.naver.com/mnews/article/016/0002421937'],\n",
       " ['\"네이버도 할 수 있는 거 아냐?\"…\\'딥시크 등장\\'에 주가 급등',\n",
       "  \"중국 생성형 인공지능(AI) '딥시크'가 저비용으로 챗GPT와 유사한 성능의 AI 추론 모델을 만들어내면서 국내 증시에서 AI 소프트웨.. 한국경제 | 2025-01-31 09:38:17\",\n",
       "  '한국경제',\n",
       "  '2025-01-31 09:38:17',\n",
       "  'https://n.news.naver.com/mnews/article/015/0005087807'],\n",
       " ['기다리던 엔비디아 HBM 납품 소식인데…삼성전자, 2%대 하락[핫종목]',\n",
       "  '삼성전자(005930)가 엔비디아에 5세대 고대역폭메모리(HBM) HBM3E 8단 제품을 납품했다는 소식에도 31일 하락 중이다. 이날.. 뉴스1 | 2025-01-31 09:34:41',\n",
       "  '뉴스1',\n",
       "  '2025-01-31 09:34:41',\n",
       "  'https://n.news.naver.com/mnews/article/421/0008047854'],\n",
       " [\"'딥시크 쇼크' 20만닉스도 위태…반도체주 줄줄이 '휘청'\",\n",
       "  \"SK하이닉스가 장 초반 11%대 하락했다. 반도체주 대부분이 약세다. 중국 AI(인공지능) 스타트업 '딥시크'발 충격 여파다. 31일 .. 머니투데이 | 2025-01-31 09:34:18\",\n",
       "  '머니투데이',\n",
       "  '2025-01-31 09:34:18',\n",
       "  'https://n.news.naver.com/mnews/article/008/0005147025']]"
      ]
     },
     "execution_count": 16,
     "metadata": {},
     "output_type": "execute_result"
    }
   ],
   "source": [
    "article_list = []\n",
    "\n",
    "for article in articles:\n",
    "    subject = article.find_element(By.CSS_SELECTOR, \".articleSubject\").text\n",
    "    summary = article.find_element(By.CSS_SELECTOR, \".articleSummary\").text\n",
    "    press = article.find_element(By.CSS_SELECTOR, \".press\").text\n",
    "    wdate = article.find_element(By.CSS_SELECTOR, \".wdate\").text\n",
    "    link = article.find_element(By.CSS_SELECTOR, \".articleSubject>a\").get_attribute('href')\n",
    "\n",
    "    article_list.append([subject, summary, press, wdate, link])\n",
    "\n",
    "article_list"
   ]
  },
  {
   "cell_type": "code",
   "execution_count": 26,
   "metadata": {},
   "outputs": [],
   "source": [
    "import pandas as pd\n",
    "df = pd.DataFrame(article_list, columns=['subject', 'summary', 'press', 'wdate', 'link'])"
   ]
  },
  {
   "cell_type": "markdown",
   "metadata": {},
   "source": [
    "데이터 프레임 -> 파일"
   ]
  },
  {
   "cell_type": "code",
   "execution_count": 22,
   "metadata": {},
   "outputs": [
    {
     "name": "stdout",
     "output_type": "stream",
     "text": [
      "Collecting openpyxl\n",
      "  Downloading openpyxl-3.1.5-py2.py3-none-any.whl.metadata (2.5 kB)\n",
      "Collecting et-xmlfile (from openpyxl)\n",
      "  Downloading et_xmlfile-2.0.0-py3-none-any.whl.metadata (2.7 kB)\n",
      "Downloading openpyxl-3.1.5-py2.py3-none-any.whl (250 kB)\n",
      "Downloading et_xmlfile-2.0.0-py3-none-any.whl (18 kB)\n",
      "Installing collected packages: et-xmlfile, openpyxl\n",
      "Successfully installed et-xmlfile-2.0.0 openpyxl-3.1.5\n",
      "Note: you may need to restart the kernel to use updated packages.\n"
     ]
    },
    {
     "name": "stderr",
     "output_type": "stream",
     "text": [
      "\n",
      "[notice] A new release of pip is available: 24.3.1 -> 25.0\n",
      "[notice] To update, run: python.exe -m pip install --upgrade pip\n"
     ]
    }
   ],
   "source": [
    "pip install openpyxl"
   ]
  },
  {
   "cell_type": "code",
   "execution_count": 28,
   "metadata": {},
   "outputs": [],
   "source": [
    "df.to_csv(\"navernews/네이버증권뉴스.csv\", encoding='utf-8', index=False)\n",
    "df.to_excel(\"navernews/네이버증권뉴스.xlsx\", index=False)"
   ]
  },
  {
   "cell_type": "code",
   "execution_count": null,
   "metadata": {},
   "outputs": [],
   "source": [
    "driver.quit()"
   ]
  },
  {
   "cell_type": "markdown",
   "metadata": {},
   "source": [
    "## 날짜 별로 뉴스 가져오기 - 셀 합치기"
   ]
  },
  {
   "cell_type": "code",
   "execution_count": 4,
   "metadata": {},
   "outputs": [
    {
     "data": {
      "text/plain": [
       "[['떨어지는 다이아몬드값, 배후에는 ‘이 나라’가?…결혼기피·인공보석에 ‘굴욕’',\n",
       "  '세계적으로 귀금속과 광물 가격이 치솟는 추세인 가운데, 영원한 사랑의 상징이자 대표적인 사치재로 꼽히는 다이아몬드는 가격이 내려가는 굴.. 매일경제 | 2024-12-23 22:21:10',\n",
       "  '매일경제',\n",
       "  '2024-12-23 22:21:10',\n",
       "  'https://n.news.naver.com/mnews/article/009/0005418639'],\n",
       " ['“연말 보너스라도 좀 챙기자”…고배당 찾는 뭉칫돈 ‘이 종목’에 몰린다는데',\n",
       "  '키움증권·효성·한일시멘트 6% 배당수익률에 투자 몰려 일주일새 주가 5% 이상 급등 코스피200 기업 절반 가까이 ‘벚꽃배당’으로 기준.. 매일경제 | 2024-12-23 21:10:08',\n",
       "  '매일경제',\n",
       "  '2024-12-23 21:10:08',\n",
       "  'https://n.news.naver.com/mnews/article/009/0005418631'],\n",
       " ['“국장 떠나는 개미, 그래도 이건 꼭 잡았다”…이자에 매매차익까지 있다는데',\n",
       "  '채권개미 올 40조 사들여 코스피 순매수 금액 3배 달해 표면이율 낮으면 가격 더 올라 금리 더 떨어지기 전에 사재기 금투세 폐지로 차.. 매일경제 | 2024-12-23 20:58:14',\n",
       "  '매일경제',\n",
       "  '2024-12-23 20:58:14',\n",
       "  'https://n.news.naver.com/mnews/article/009/0005418629'],\n",
       " ['“그 회사 대표가 OOO 의원 동창이래”…위험천만 정치테마주, 결국',\n",
       "  '탄핵 정국에 급등락 주의보 정치테마 지수 2개월새 40%↑ 비상계엄 선포·해제와 이어진 탄핵 정국으로 정치 테마주 주가가 이전 대비 4.. 매일경제 | 2024-12-23 20:20:11',\n",
       "  '매일경제',\n",
       "  '2024-12-23 20:20:11',\n",
       "  'https://n.news.naver.com/mnews/article/009/0005418620'],\n",
       " ['금감원, 이수페타시스 유상증자 또 제동… 증권신고서 두 번째 반려',\n",
       "  '금융감독원이 23일 이수페타시스의 5500억원 규모 유상증자에 또 다시 제동을 걸었다. 금감원은 지난 11일 이수페타시스가 제출한 유상.. 조선비즈 | 2024-12-23 20:09:07',\n",
       "  '조선비즈',\n",
       "  '2024-12-23 20:09:07',\n",
       "  'https://n.news.naver.com/mnews/article/366/0001042343'],\n",
       " ['고려아연, 내달 임시주총 안건 확정…이사수 상한·집중투표제 등',\n",
       "  '고려아연이 다음달 23일 열리는 임시주주총회에서 이사회 이사 수를 19명으로 제한하는 안과 집중투표제 도입 등의 안건을 다루기로 했다... 한국경제 | 2024-12-23 19:49:14',\n",
       "  '한국경제',\n",
       "  '2024-12-23 19:49:14',\n",
       "  'https://n.news.naver.com/mnews/article/015/0005073803'],\n",
       " ['“금요일 저녁에 이래도 됩니까”…코스닥사 기습 유증에 난리 난 개미들',\n",
       "  '‘2500억 유상증자’ 차바이오텍 하루새 주가 29% 하락 신저가 지아이이노베이션은 8%대 뚝 코스닥에 상장한 바이오 기업들이 나란히 .. 매일경제 | 2024-12-23 19:49:11',\n",
       "  '매일경제',\n",
       "  '2024-12-23 19:49:11',\n",
       "  'https://n.news.naver.com/mnews/article/009/0005418615'],\n",
       " ['MBK·영풍, “판세 불리한 최윤범 회장, 주주간 분쟁 지속시키려 집중투표제 악용”',\n",
       "  '23일 고려아연 이사회가 집중투표제를 포함해 이사 총수를 19인으로 제한하는 것을 내달 임시주주총회 안건으로 결의하자, MBK파트너스·.. 매일경제 | 2024-12-23 19:32:11',\n",
       "  '매일경제',\n",
       "  '2024-12-23 19:32:11',\n",
       "  'https://n.news.naver.com/mnews/article/009/0005418609'],\n",
       " ['MBK·영풍 “최윤범 회장, 집중투표제 악용…회장직 유지 위한 꼼수” 주장',\n",
       "  '고려아연 이사회가 다음달 열릴 임시주주총회 안건을 23일 공개한 가운데, MBK파트너스-영풍 연합은 최윤범 회장 측이 집중 투표제를 악.. 조선비즈 | 2024-12-23 19:01:10',\n",
       "  '조선비즈',\n",
       "  '2024-12-23 19:01:10',\n",
       "  'https://n.news.naver.com/mnews/article/366/0001042340'],\n",
       " ['한앤코, SK스페셜티 경영권 2.7조에 인수 [시그널]',\n",
       "  '사모펀드(PEF) 운용사 한앤컴퍼니가 SK(034730)㈜의 특수가스 자회사인 SK스페셜티 지분 85%를 2조 7000억 원에 사들인다.. 서울경제 | 2024-12-23 18:55:11',\n",
       "  '서울경제',\n",
       "  '2024-12-23 18:55:11',\n",
       "  'https://n.news.naver.com/mnews/article/011/0004431463'],\n",
       " [\"비트코인부터 金까지 글로벌 '에브리싱 랠리'…코스피만 '-8%' 굴욕\",\n",
       "  '‘달러가 오르면 금값은 내린다.’ ‘안전자산이 오르면 위험자산은 내린다.’ 지난 수십 년간 재테크 시장에서 통용되던 전통적 논리가 무너.. 한국경제 | 2024-12-23 18:42:20',\n",
       "  '한국경제',\n",
       "  '2024-12-23 18:42:20',\n",
       "  'https://n.news.naver.com/mnews/article/015/0005073767'],\n",
       " ['韓-美 증시 수익률 격차 24년 만에 최대로 벌어져',\n",
       "  '올해 미국·한국 양국 증시 대표 지수의 수익률 차이가 24년 만에 최대 수준까지 벌어졌다. 올해 미국 증시 강세가 두드러진 반면 국내 .. 한국경제 | 2024-12-23 18:40:20',\n",
       "  '한국경제',\n",
       "  '2024-12-23 18:40:20',\n",
       "  'https://n.news.naver.com/mnews/article/015/0005073764'],\n",
       " ['격차 좁힌 한투, 뒷걸음질 KB…내년 ETF `3위 다툼` 주목',\n",
       "  '꾸준한 자금 유입으로 최근 상장지수펀드(ETF) 시장 규모가 170조원을 넘어서면서 내년 자산운용사간 ETF 점유율 다툼이 한층 치열해.. 디지털타임스 | 2024-12-23 18:40:14',\n",
       "  '디지털타임스',\n",
       "  '2024-12-23 18:40:14',\n",
       "  'https://n.news.naver.com/mnews/article/029/0002924922'],\n",
       " ['글랜우드PE, 바이오매스 발전사 SGC그린파워 인수 안한다',\n",
       "  '사모펀드(PEF) 운용사 글랜우드프라이빗에쿼티가 바이오매스 발전사 SGC그린파워를 인수하려던 계획을 철회했다. 양사는 10월 말 주식매.. 조선비즈 | 2024-12-23 18:36:12',\n",
       "  '조선비즈',\n",
       "  '2024-12-23 18:36:12',\n",
       "  'https://n.news.naver.com/mnews/article/366/0001042338'],\n",
       " ['\"치솟는 美증시로\"… 국장 탈출한 개미들, 해외ETF 올인',\n",
       "  '올해 개인투자자들의 상장지수펀드 순매수금액이 역대 최대치로 치솟았다. 다만, 전체 순매수 금액에서 해외 매수비중이 60%를 넘어 ETF.. 파이낸셜뉴스 | 2024-12-23 18:33:20',\n",
       "  '파이낸셜뉴스',\n",
       "  '2024-12-23 18:33:20',\n",
       "  'https://n.news.naver.com/mnews/article/014/0005286403'],\n",
       " ['“다 같은 수출株 아니다” 킹달러에 웃는 종목 따로 있네[투자360]',\n",
       "  '수출주 중 반도체만 힘 못써 KRX 반도체 지수 전년 대비 20.94% 하락 트럼프 타고 조선柱 날개 [게티이미지뱅크·한국조선해양 자료.. 헤럴드경제 | 2024-12-23 18:31:10',\n",
       "  '헤럴드경제',\n",
       "  '2024-12-23 18:31:10',\n",
       "  'https://n.news.naver.com/mnews/article/016/0002406587'],\n",
       " ['이영곤 토스證 리서치센터장 \"내년에도 美 증시가 대세 2분기 조정 때 주워담아라\"',\n",
       "  '이 기사는 국내 최대 해외 투자정보 플랫폼 한경 글로벌마켓에 게재된 기사입니다. “내년도 ‘미국 주식의 해’가 될 겁니다. 인공지능(A.. 한국경제 | 2024-12-23 18:27:13',\n",
       "  '한국경제',\n",
       "  '2024-12-23 18:27:13',\n",
       "  'https://n.news.naver.com/mnews/article/015/0005073731'],\n",
       " ['\"美 선박법 수혜…K조선, 내년에도 순항\"',\n",
       "  '국내 주요 조선주가 상승세를 타고 있다. 미국 의회에서 중국 조선업을 견제하는 ‘선박법’이 초당적 지지를 얻어 발의되면서다. 증권가에서.. 한국경제 | 2024-12-23 18:25:12',\n",
       "  '한국경제',\n",
       "  '2024-12-23 18:25:12',\n",
       "  'https://n.news.naver.com/mnews/article/015/0005073728'],\n",
       " [\"韓은 버티기, 美는 올라타기…잘나가는 ETF '180도' 달랐다\",\n",
       "  '이 기사는 국내 최대 해외 투자정보 플랫폼 한경 글로벌마켓에 게재된 기사입니다. 올해 국내 증시에서는 고배당·저변동성 전략이, 미국 증.. 한국경제 | 2024-12-23 18:22:13',\n",
       "  '한국경제',\n",
       "  '2024-12-23 18:22:13',\n",
       "  'https://n.news.naver.com/mnews/article/015/0005073723'],\n",
       " ['한앤컴퍼니, SK스페셜티 85% 2.7兆에 인수[fn마켓워치]',\n",
       "  '한앤컴퍼니가 세계 특수가스 제조 1위 기업 SK스페셜티 85%를 약 2조7000억원에 인수한다. SK는 23일 이사회를 열고 이같은 주.. 파이낸셜뉴스 | 2024-12-23 18:19:14',\n",
       "  '파이낸셜뉴스',\n",
       "  '2024-12-23 18:19:14',\n",
       "  'https://n.news.naver.com/mnews/article/014/0005286354']]"
      ]
     },
     "execution_count": 4,
     "metadata": {},
     "output_type": "execute_result"
    }
   ],
   "source": [
    "# 셀 합치기\n",
    "\n",
    "import datetime\n",
    "date = input(\"검색할 날짜(yyyymmdd) : \")\n",
    "if date==\"\": date = datetime.datetime.now().strftime('%Y-%m-%d')\n",
    "else: date = f'{date[:4]}-{date[4:6]}-{date[6:]}'\n",
    "\n",
    "# 웹페이지 열고 이동하기\n",
    "from selenium.webdriver import Chrome\n",
    "driver = Chrome()\n",
    "url = \"https://finance.naver.com/news/mainnews.naver?date=\"+date\n",
    "driver.get(url)\n",
    "\n",
    "# 대기기\n",
    "import time\n",
    "time.sleep(2)\n",
    "\n",
    "\n",
    "# 요소 선택하기\n",
    "\n",
    "from selenium.webdriver.common.by import By\n",
    "articles = driver.find_elements(By.CSS_SELECTOR, \".block1\")\n",
    "\n",
    "\n",
    "article_list = []\n",
    "\n",
    "for article in articles:\n",
    "    subject = article.find_element(By.CSS_SELECTOR, \".articleSubject\").text\n",
    "    summary = article.find_element(By.CSS_SELECTOR, \".articleSummary\").text\n",
    "    press = article.find_element(By.CSS_SELECTOR, \".press\").text\n",
    "    wdate = article.find_element(By.CSS_SELECTOR, \".wdate\").text\n",
    "    link = article.find_element(By.CSS_SELECTOR, \".articleSubject>a\").get_attribute('href')\n",
    "\n",
    "    article_list.append([subject, summary, press, wdate, link])\n",
    "\n",
    "article_list\n"
   ]
  },
  {
   "cell_type": "markdown",
   "metadata": {},
   "source": [
    "### 날짜 별로 모든 페이지 불러오기"
   ]
  },
  {
   "cell_type": "markdown",
   "metadata": {},
   "source": [
    "맨 뒤 페이지까지 하도록 만듦  \n",
    "마지막 페이지는 맨뒤가 없음"
   ]
  },
  {
   "cell_type": "code",
   "execution_count": 3,
   "metadata": {},
   "outputs": [],
   "source": [
    "# 셀 합치기\n",
    "\n",
    "import datetime\n",
    "date = input(\"검색할 날짜(yyyymmdd) : \")\n",
    "if date==\"\": date = datetime.datetime.now().strftime('%Y-%m-%d')\n",
    "else: date = f'{date[:4]}-{date[4:6]}-{date[6:]}'\n",
    "\n",
    "# 웹드라이버 생성성\n",
    "from selenium.webdriver import Chrome\n",
    "driver = Chrome()\n",
    "\n",
    "# 리스트, 페이지 초기화화\n",
    "article_list = []\n",
    "page = 1\n",
    "\n",
    "# '맨뒤' 요소가 있을 때까지지\n",
    "while True:\n",
    "\n",
    "    # 웹페이지 열고 이동하기\n",
    "    url = \"https://finance.naver.com/news/mainnews.naver?date=\"+date+\"&page=\"+str(page)\n",
    "    driver.get(url)\n",
    "\n",
    "    # 페이지 로딩딩 대기\n",
    "    import time\n",
    "    time.sleep(2)\n",
    "\n",
    "\n",
    "    # 요소 선택하기\n",
    "    from selenium.webdriver.common.by import By\n",
    "    articles = driver.find_elements(By.CSS_SELECTOR, \".block1\")\n",
    "\n",
    "\n",
    "\n",
    "\n",
    "    for article in articles:\n",
    "        subject = article.find_element(By.CSS_SELECTOR, \".articleSubject\").text\n",
    "        summary = article.find_element(By.CSS_SELECTOR, \".articleSummary\").text\n",
    "        press = article.find_element(By.CSS_SELECTOR, \".press\").text\n",
    "        wdate = article.find_element(By.CSS_SELECTOR, \".wdate\").text\n",
    "        link = article.find_element(By.CSS_SELECTOR, \".articleSubject>a\").get_attribute('href')\n",
    "\n",
    "        article_list.append([subject, summary, press, wdate, link])\n",
    "\n",
    "    try:\n",
    "        driver.find_element(By.CSS_SELECTOR, \".pgRR\")\n",
    "        page += 1\n",
    "        \n",
    "    except:\n",
    "        break\n",
    "\n",
    "\n",
    "# 파일 만들기\n",
    "\n",
    "# import os\n",
    "# save_dir = \"/navernews\"\n",
    "\n",
    "import pandas as pd\n",
    "df = pd.DataFrame(article_list, columns=['subject', 'summary', 'press', 'date', 'link'])\n",
    "df.to_csv(f\"navernews/네이버증권뉴스_{date}.csv\", index=False)\n",
    "df.to_excel(f\"navernews/네이버증권뉴스_{date}.xlsx\", index=False)"
   ]
  },
  {
   "cell_type": "markdown",
   "metadata": {},
   "source": []
  }
 ],
 "metadata": {
  "kernelspec": {
   "display_name": "Python 3",
   "language": "python",
   "name": "python3"
  },
  "language_info": {
   "codemirror_mode": {
    "name": "ipython",
    "version": 3
   },
   "file_extension": ".py",
   "mimetype": "text/x-python",
   "name": "python",
   "nbconvert_exporter": "python",
   "pygments_lexer": "ipython3",
   "version": "3.13.1"
  }
 },
 "nbformat": 4,
 "nbformat_minor": 2
}
