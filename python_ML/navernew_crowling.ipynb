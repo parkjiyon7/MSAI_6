{
 "cells": [
  {
   "cell_type": "markdown",
   "metadata": {},
   "source": [
    "# 네이버증권 뉴스 크롤링"
   ]
  },
  {
   "cell_type": "markdown",
   "metadata": {},
   "source": [
    "제목  \n",
    "상세페이지링크  \n",
    "내용  \n",
    "언론사  \n",
    "날짜  \n",
    "-> 엑셀로 정리"
   ]
  },
  {
   "cell_type": "markdown",
   "metadata": {},
   "source": [
    "## 브라우저 열기 -> 웹페이지 이동"
   ]
  },
  {
   "cell_type": "code",
   "execution_count": 4,
   "metadata": {},
   "outputs": [],
   "source": [
    "from selenium.webdriver import Chrome\n",
    "driver = Chrome()"
   ]
  },
  {
   "cell_type": "code",
   "execution_count": 5,
   "metadata": {},
   "outputs": [],
   "source": [
    "# 웹페이지 열고 이동하기\n",
    "url = 'https://finance.naver.com/news/mainnews.naver'\n",
    "driver.get(url)"
   ]
  },
  {
   "cell_type": "markdown",
   "metadata": {},
   "source": [
    "## 요소 선택하기"
   ]
  },
  {
   "cell_type": "code",
   "execution_count": 6,
   "metadata": {},
   "outputs": [
    {
     "data": {
      "text/plain": [
       "[<selenium.webdriver.remote.webelement.WebElement (session=\"8fda71bd0faefdebf1f6511e1582a5c0\", element=\"f.FD6E5CA2E7201A9B10FD2ACA9C8314CC.d.66737D8C9E3B5A509F210040244756C4.e.38\")>,\n",
       " <selenium.webdriver.remote.webelement.WebElement (session=\"8fda71bd0faefdebf1f6511e1582a5c0\", element=\"f.FD6E5CA2E7201A9B10FD2ACA9C8314CC.d.66737D8C9E3B5A509F210040244756C4.e.39\")>,\n",
       " <selenium.webdriver.remote.webelement.WebElement (session=\"8fda71bd0faefdebf1f6511e1582a5c0\", element=\"f.FD6E5CA2E7201A9B10FD2ACA9C8314CC.d.66737D8C9E3B5A509F210040244756C4.e.40\")>,\n",
       " <selenium.webdriver.remote.webelement.WebElement (session=\"8fda71bd0faefdebf1f6511e1582a5c0\", element=\"f.FD6E5CA2E7201A9B10FD2ACA9C8314CC.d.66737D8C9E3B5A509F210040244756C4.e.41\")>,\n",
       " <selenium.webdriver.remote.webelement.WebElement (session=\"8fda71bd0faefdebf1f6511e1582a5c0\", element=\"f.FD6E5CA2E7201A9B10FD2ACA9C8314CC.d.66737D8C9E3B5A509F210040244756C4.e.175\")>,\n",
       " <selenium.webdriver.remote.webelement.WebElement (session=\"8fda71bd0faefdebf1f6511e1582a5c0\", element=\"f.FD6E5CA2E7201A9B10FD2ACA9C8314CC.d.66737D8C9E3B5A509F210040244756C4.e.176\")>,\n",
       " <selenium.webdriver.remote.webelement.WebElement (session=\"8fda71bd0faefdebf1f6511e1582a5c0\", element=\"f.FD6E5CA2E7201A9B10FD2ACA9C8314CC.d.66737D8C9E3B5A509F210040244756C4.e.177\")>,\n",
       " <selenium.webdriver.remote.webelement.WebElement (session=\"8fda71bd0faefdebf1f6511e1582a5c0\", element=\"f.FD6E5CA2E7201A9B10FD2ACA9C8314CC.d.66737D8C9E3B5A509F210040244756C4.e.178\")>,\n",
       " <selenium.webdriver.remote.webelement.WebElement (session=\"8fda71bd0faefdebf1f6511e1582a5c0\", element=\"f.FD6E5CA2E7201A9B10FD2ACA9C8314CC.d.66737D8C9E3B5A509F210040244756C4.e.179\")>,\n",
       " <selenium.webdriver.remote.webelement.WebElement (session=\"8fda71bd0faefdebf1f6511e1582a5c0\", element=\"f.FD6E5CA2E7201A9B10FD2ACA9C8314CC.d.66737D8C9E3B5A509F210040244756C4.e.180\")>,\n",
       " <selenium.webdriver.remote.webelement.WebElement (session=\"8fda71bd0faefdebf1f6511e1582a5c0\", element=\"f.FD6E5CA2E7201A9B10FD2ACA9C8314CC.d.66737D8C9E3B5A509F210040244756C4.e.181\")>,\n",
       " <selenium.webdriver.remote.webelement.WebElement (session=\"8fda71bd0faefdebf1f6511e1582a5c0\", element=\"f.FD6E5CA2E7201A9B10FD2ACA9C8314CC.d.66737D8C9E3B5A509F210040244756C4.e.182\")>,\n",
       " <selenium.webdriver.remote.webelement.WebElement (session=\"8fda71bd0faefdebf1f6511e1582a5c0\", element=\"f.FD6E5CA2E7201A9B10FD2ACA9C8314CC.d.66737D8C9E3B5A509F210040244756C4.e.183\")>,\n",
       " <selenium.webdriver.remote.webelement.WebElement (session=\"8fda71bd0faefdebf1f6511e1582a5c0\", element=\"f.FD6E5CA2E7201A9B10FD2ACA9C8314CC.d.66737D8C9E3B5A509F210040244756C4.e.184\")>,\n",
       " <selenium.webdriver.remote.webelement.WebElement (session=\"8fda71bd0faefdebf1f6511e1582a5c0\", element=\"f.FD6E5CA2E7201A9B10FD2ACA9C8314CC.d.66737D8C9E3B5A509F210040244756C4.e.185\")>,\n",
       " <selenium.webdriver.remote.webelement.WebElement (session=\"8fda71bd0faefdebf1f6511e1582a5c0\", element=\"f.FD6E5CA2E7201A9B10FD2ACA9C8314CC.d.66737D8C9E3B5A509F210040244756C4.e.186\")>,\n",
       " <selenium.webdriver.remote.webelement.WebElement (session=\"8fda71bd0faefdebf1f6511e1582a5c0\", element=\"f.FD6E5CA2E7201A9B10FD2ACA9C8314CC.d.66737D8C9E3B5A509F210040244756C4.e.187\")>,\n",
       " <selenium.webdriver.remote.webelement.WebElement (session=\"8fda71bd0faefdebf1f6511e1582a5c0\", element=\"f.FD6E5CA2E7201A9B10FD2ACA9C8314CC.d.66737D8C9E3B5A509F210040244756C4.e.188\")>,\n",
       " <selenium.webdriver.remote.webelement.WebElement (session=\"8fda71bd0faefdebf1f6511e1582a5c0\", element=\"f.FD6E5CA2E7201A9B10FD2ACA9C8314CC.d.66737D8C9E3B5A509F210040244756C4.e.189\")>,\n",
       " <selenium.webdriver.remote.webelement.WebElement (session=\"8fda71bd0faefdebf1f6511e1582a5c0\", element=\"f.FD6E5CA2E7201A9B10FD2ACA9C8314CC.d.66737D8C9E3B5A509F210040244756C4.e.190\")>]"
      ]
     },
     "execution_count": 6,
     "metadata": {},
     "output_type": "execute_result"
    }
   ],
   "source": [
    "from selenium.webdriver.common.by import By\n",
    "articles = driver.find_elements(By.CSS_SELECTOR, \".block1\")\n",
    "articles"
   ]
  },
  {
   "cell_type": "markdown",
   "metadata": {},
   "source": [
    "### 반복문을 통해 정보 가져오기"
   ]
  },
  {
   "cell_type": "code",
   "execution_count": 13,
   "metadata": {},
   "outputs": [
    {
     "name": "stdout",
     "output_type": "stream",
     "text": [
      "딥시크 충격에 전력인프라주 '줄비명'…\"과도한 우려\"\n",
      "기업거버넌스포럼 “파행적 고려아연 임시 주총에 국격 추락”\n",
      "암호화폐 베테랑 \"비트코인 2~3월 13만달러 돌파\"\n",
      "삼성운용 'KODEX 200타겟위클리커버드콜', 두 달만에 순자산 1000억 돌파\n",
      "연휴 후 한국 증시, 반도체주 '딥시크 쇼크'\n",
      "메모리 양극화 심화에…삼성전자 4분기 반도체 영업익 2.9조(종합)\n",
      "‘딥시크 쇼크’에 관련주 희비…‘반도체’ 울고 ‘AI소프트웨어’ 웃고\n",
      "\"백종원 믿고 샀는데\" 신저가 찍은 더본코리아…99.99%가 '비명'\n",
      "미래운용 ‘TIGER 미국필라델피아AI반도체나스닥’, 순자산 3000억 돌파\n",
      "‘반도체 뒷걸음질’ 삼성전자…외국인 보유 비중 2년來 최저 [투자360]\n",
      "“투자자 99%가 손실이라니”…리니지 제국 다시 부활할까 [K주식 이걸 사? 말아?]\n",
      "딥시크 충격에 SK하이닉스 약세…네이버·카카오 급등\n",
      "\"언젠간 오르겠지\" 버텼는데 적자 확대…호텔신라 목표가도 '뚝뚝'\n",
      "`딥시크 쇼크` 국장 덮쳤다…SK하이닉스 10%대↓\n",
      "현금부자 주목, KODEX 200타겟위클리커버드콜…순자산 1000억 돌파\n",
      "허선호 미래에셋증권 대표 \"서학개미 13조 벌어, 중국·인도로 분산투자\"\n",
      "“미·중 AI 패권전쟁 시작됐다”…엔비디아 누른 ‘가성비 AI’ 딥시크 파장 어디까지? [투자360]\n",
      "\"네이버도 할 수 있는 거 아냐?\"…'딥시크 등장'에 주가 급등\n",
      "기다리던 엔비디아 HBM 납품 소식인데…삼성전자, 2%대 하락[핫종목]\n",
      "'딥시크 쇼크' 20만닉스도 위태…반도체주 줄줄이 '휘청'\n"
     ]
    }
   ],
   "source": [
    "for article in articles:\n",
    "    subject = article.find_element(By.CSS_SELECTOR, \".articleSubject\").text\n",
    "    #print(subject)\n",
    "    summary = article.find_element(By.CSS_SELECTOR, \".articleSummary\").text\n",
    "    #print(summary)\n",
    "    press = article.find_element(By.CSS_SELECTOR, \".press\").text\n",
    "    #print(press)\n",
    "    wdate = article.find_element(By.CSS_SELECTOR, \".wdate\").text\n",
    "    #print(wdate)"
   ]
  }
 ],
 "metadata": {
  "kernelspec": {
   "display_name": "Python 3",
   "language": "python",
   "name": "python3"
  },
  "language_info": {
   "codemirror_mode": {
    "name": "ipython",
    "version": 3
   },
   "file_extension": ".py",
   "mimetype": "text/x-python",
   "name": "python",
   "nbconvert_exporter": "python",
   "pygments_lexer": "ipython3",
   "version": "3.13.1"
  }
 },
 "nbformat": 4,
 "nbformat_minor": 2
}
