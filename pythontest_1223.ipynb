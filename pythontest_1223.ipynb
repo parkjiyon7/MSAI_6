{
 "cells": [
  {
   "cell_type": "markdown",
   "metadata": {},
   "source": [
    "# 2024-12-23"
   ]
  },
  {
   "cell_type": "markdown",
   "metadata": {},
   "source": [
    "#### 복습\n",
    "\n",
    "구구단 출력\n",
    "\n",
    "2 4 6 8 10 12 14 16\n"
   ]
  },
  {
   "cell_type": "code",
   "execution_count": 150,
   "metadata": {},
   "outputs": [
    {
     "name": "stdout",
     "output_type": "stream",
     "text": [
      "2 4 6 8 10 12 14 16 18 "
     ]
    }
   ],
   "source": [
    "for su in range(1, 10):\n",
    "    print(2 * su, end = \" \")"
   ]
  },
  {
   "cell_type": "code",
   "execution_count": 151,
   "metadata": {},
   "outputs": [
    {
     "name": "stdout",
     "output_type": "stream",
     "text": [
      "2 4 6 8 10 12 14 16 18 \n",
      "3 6 9 12 15 18 21 24 27 \n",
      "4 8 12 16 20 24 28 32 36 \n",
      "5 10 15 20 25 30 35 40 45 \n",
      "6 12 18 24 30 36 42 48 54 \n",
      "7 14 21 28 35 42 49 56 63 \n",
      "8 16 24 32 40 48 56 64 72 \n",
      "9 18 27 36 45 54 63 72 81 \n"
     ]
    }
   ],
   "source": [
    "for i in range(2, 10):\n",
    "    for j in range(1, 10):\n",
    "        print(j*i, end = \" \")\n",
    "    print()\n"
   ]
  },
  {
   "cell_type": "code",
   "execution_count": null,
   "metadata": {},
   "outputs": [],
   "source": [
    "#자판기\n",
    "\n",
    "coffee = 10\n",
    "#outmon = 0\n",
    "#money = int(input('돈을 입력하세요: '))\n",
    "\n",
    "while (coffee >= 0):\n",
    "    money = int(input('돈을 입력하세요: '))\n",
    "    if(money == 300):\n",
    "        print(f'커피를 드립니다')\n",
    "        coffee = coffee -1\n",
    "\n",
    "    elif(money > 300):\n",
    "        outmon = money -300\n",
    "        print(f'커피를 드립니다, 거스름돈 {outmon}입니다')\n",
    "        coffee = coffee -1\n",
    "        #break\n",
    "    else:\n",
    "        outmon = money\n",
    "        print(f'거스름돈을 돌려드립니다. {outmon}입니다, 남은 커피의 개수는 {coffee}입니다')\n",
    "        #break\n",
    "    print(\"===========================\\n\")\n",
    "\n",
    "    if(coffee == 0):\n",
    "        print('커피가 다 떨어졌습니다. 다음에 이용해 주세요')\n",
    "        break\n",
    "\n",
    "    \n"
   ]
  },
  {
   "cell_type": "markdown",
   "metadata": {},
   "source": [
    "## Dictionary"
   ]
  },
  {
   "cell_type": "code",
   "execution_count": 4,
   "metadata": {},
   "outputs": [
    {
     "name": "stdout",
     "output_type": "stream",
     "text": [
      "<class 'dict'>\n"
     ]
    }
   ],
   "source": [
    "menu = {'김밥': 2000, '라면': 3000, '돈까스': 5000}\n",
    "\n",
    "print(type(menu))"
   ]
  },
  {
   "cell_type": "code",
   "execution_count": 5,
   "metadata": {},
   "outputs": [
    {
     "data": {
      "text/plain": [
       "2000"
      ]
     },
     "execution_count": 5,
     "metadata": {},
     "output_type": "execute_result"
    }
   ],
   "source": [
    "menu['김밥']"
   ]
  },
  {
   "cell_type": "code",
   "execution_count": 6,
   "metadata": {},
   "outputs": [
    {
     "data": {
      "text/plain": [
       "{'김밥': 2000, '라면': 3000, '돈까스': 5000, '떡볶이': 3000}"
      ]
     },
     "execution_count": 6,
     "metadata": {},
     "output_type": "execute_result"
    }
   ],
   "source": [
    "menu['떡볶이'] = 3000\n",
    "\n",
    "menu"
   ]
  },
  {
   "cell_type": "code",
   "execution_count": null,
   "metadata": {},
   "outputs": [
    {
     "ename": "KeyError",
     "evalue": "'로제떡볶이'",
     "output_type": "error",
     "traceback": [
      "\u001b[1;31m---------------------------------------------------------------------------\u001b[0m",
      "\u001b[1;31mKeyError\u001b[0m                                  Traceback (most recent call last)",
      "Cell \u001b[1;32mIn[7], line 1\u001b[0m\n\u001b[1;32m----> 1\u001b[0m \u001b[43mmenu\u001b[49m\u001b[43m[\u001b[49m\u001b[38;5;124;43m'\u001b[39;49m\u001b[38;5;124;43m로제떡볶이\u001b[39;49m\u001b[38;5;124;43m'\u001b[39;49m\u001b[43m]\u001b[49m \u001b[38;5;241m+\u001b[39m\u001b[38;5;241m=\u001b[39m \u001b[38;5;241m3000\u001b[39m\n",
      "\u001b[1;31mKeyError\u001b[0m: '로제떡볶이'"
     ]
    }
   ],
   "source": [
    "menu['로제떡볶이'] += 3000"
   ]
  },
  {
   "cell_type": "code",
   "execution_count": 64,
   "metadata": {},
   "outputs": [
    {
     "name": "stdout",
     "output_type": "stream",
     "text": [
      "['김밥', '라면', '돈까스']\n"
     ]
    }
   ],
   "source": [
    "k = list(menu.keys())\n",
    "print(k)"
   ]
  },
  {
   "cell_type": "code",
   "execution_count": 38,
   "metadata": {},
   "outputs": [
    {
     "data": {
      "text/plain": [
       "dict_items([('김밥', 2000), ('라면', 3000), ('돈까스', 5000)])"
      ]
     },
     "execution_count": 38,
     "metadata": {},
     "output_type": "execute_result"
    }
   ],
   "source": [
    "menu.items()"
   ]
  },
  {
   "cell_type": "code",
   "execution_count": 37,
   "metadata": {},
   "outputs": [
    {
     "data": {
      "text/plain": [
       "dict_values([2000, 3000, 5000])"
      ]
     },
     "execution_count": 37,
     "metadata": {},
     "output_type": "execute_result"
    }
   ],
   "source": [
    "menu.values()"
   ]
  },
  {
   "cell_type": "code",
   "execution_count": 27,
   "metadata": {},
   "outputs": [
    {
     "name": "stdout",
     "output_type": "stream",
     "text": [
      "2000\n",
      "3000\n",
      "5000\n",
      "3000\n"
     ]
    }
   ],
   "source": [
    "for menu in menu.values():\n",
    "    print(menu)"
   ]
  },
  {
   "cell_type": "code",
   "execution_count": 39,
   "metadata": {},
   "outputs": [
    {
     "name": "stdout",
     "output_type": "stream",
     "text": [
      "{'김밥': 2000, '라면': 3000, '돈까스': 5000}\n",
      "{'김밥': 2000, '라면': 3000, '돈까스': 5000}\n",
      "{'김밥': 2000, '라면': 3000, '돈까스': 5000}\n"
     ]
    }
   ],
   "source": [
    "for menu_item in menu.keys():\n",
    "    print(menu)"
   ]
  },
  {
   "cell_type": "code",
   "execution_count": 42,
   "metadata": {},
   "outputs": [
    {
     "data": {
      "text/plain": [
       "2000"
      ]
     },
     "execution_count": 42,
     "metadata": {},
     "output_type": "execute_result"
    }
   ],
   "source": [
    "menu.pop('김밥')"
   ]
  },
  {
   "cell_type": "code",
   "execution_count": 46,
   "metadata": {},
   "outputs": [
    {
     "data": {
      "text/plain": [
       "{'라면': 3000, '돈까스': 5000}"
      ]
     },
     "execution_count": 46,
     "metadata": {},
     "output_type": "execute_result"
    }
   ],
   "source": [
    "menu"
   ]
  },
  {
   "cell_type": "code",
   "execution_count": 47,
   "metadata": {},
   "outputs": [
    {
     "data": {
      "text/plain": [
       "('돈까스', 5000)"
      ]
     },
     "execution_count": 47,
     "metadata": {},
     "output_type": "execute_result"
    }
   ],
   "source": [
    "menu.popitem()"
   ]
  },
  {
   "cell_type": "code",
   "execution_count": 50,
   "metadata": {},
   "outputs": [
    {
     "data": {
      "text/plain": [
       "{'김밥': 2000, '라면': 3000, '돈까스': 5000}"
      ]
     },
     "execution_count": 50,
     "metadata": {},
     "output_type": "execute_result"
    }
   ],
   "source": [
    "menu"
   ]
  },
  {
   "cell_type": "code",
   "execution_count": 53,
   "metadata": {},
   "outputs": [
    {
     "name": "stdout",
     "output_type": "stream",
     "text": [
      "김밥 2000\n",
      "라면 3000\n",
      "돈까스 5000\n"
     ]
    }
   ],
   "source": [
    "for key, value in menu.items():\n",
    "    print(key, value)"
   ]
  },
  {
   "cell_type": "code",
   "execution_count": 55,
   "metadata": {},
   "outputs": [
    {
     "data": {
      "text/plain": [
       "{'김밥': 2000, '라면': 3000, '돈까스': 5000}"
      ]
     },
     "execution_count": 55,
     "metadata": {},
     "output_type": "execute_result"
    }
   ],
   "source": [
    "menu"
   ]
  },
  {
   "cell_type": "code",
   "execution_count": 56,
   "metadata": {},
   "outputs": [
    {
     "data": {
      "text/plain": [
       "{'라면': 3000, '돈까스': 5000}"
      ]
     },
     "execution_count": 56,
     "metadata": {},
     "output_type": "execute_result"
    }
   ],
   "source": [
    "menu.pop('김밥')\n",
    "menu"
   ]
  },
  {
   "cell_type": "code",
   "execution_count": 73,
   "metadata": {},
   "outputs": [
    {
     "data": {
      "text/plain": [
       "2000"
      ]
     },
     "execution_count": 73,
     "metadata": {},
     "output_type": "execute_result"
    }
   ],
   "source": [
    "menu['김밥']"
   ]
  },
  {
   "cell_type": "code",
   "execution_count": 60,
   "metadata": {},
   "outputs": [
    {
     "name": "stdout",
     "output_type": "stream",
     "text": [
      "None\n"
     ]
    }
   ],
   "source": [
    "print(menu.get('김밥'))"
   ]
  },
  {
   "cell_type": "code",
   "execution_count": 61,
   "metadata": {},
   "outputs": [],
   "source": [
    "a_list = [3, 'hello', [4, 5, 6], {'a': 1, 'b': 1}]"
   ]
  },
  {
   "cell_type": "code",
   "execution_count": 67,
   "metadata": {},
   "outputs": [
    {
     "name": "stdout",
     "output_type": "stream",
     "text": [
      "**************\n",
      "1. 영어 과제\n",
      "**************\n",
      "**************\n",
      "1. 영어 과제\n",
      "2. 강아지 산책\n",
      "**************\n",
      "**************\n",
      "1. 영어 과제\n",
      "**************\n",
      "메뉴 선택 오류입니다. 다시 선택하세요.\n",
      "프로그램을 종료합니다.\n"
     ]
    }
   ],
   "source": [
    "#오늘의 할일 관리 프로그램\n",
    "\n",
    "todolist = []\n",
    "\n",
    "while True:\n",
    "    sel = int(input('메뉴선택(1: 추가, 2: 삭제, 0: 종료)?: '))\n",
    "    # 추가\n",
    "    if(sel == 1):\n",
    "        task = input('* 할일 내용 입력 >> ')\n",
    "        print('**************')\n",
    "        todolist.append(task)\n",
    "        for i in range(len(todolist)):\n",
    "            print(f'{i+1}. {todolist[i]}')\n",
    "        print('**************')\n",
    "    #삭제\n",
    "    elif(sel == 2):\n",
    "        fin = input('* 완료한 내용 입력 >> ')\n",
    "        print('**************')\n",
    "        todolist.remove(fin)\n",
    "        for i in range(len(todolist)):\n",
    "            print(f'{i+1}. {todolist[i]}')\n",
    "        print('**************')\n",
    "        \n",
    "    elif(sel ==0):\n",
    "        print('프로그램을 종료합니다.')\n",
    "        break\n",
    "\n",
    "    else:\n",
    "        print('메뉴 선택 오류입니다. 다시 선택하세요.')"
   ]
  },
  {
   "cell_type": "code",
   "execution_count": 74,
   "metadata": {},
   "outputs": [
    {
     "name": "stdout",
     "output_type": "stream",
     "text": [
      "{'라면': 3000, '돈까스': 5000, '김밥': 2000}\n"
     ]
    },
    {
     "data": {
      "text/plain": [
       "2000"
      ]
     },
     "execution_count": 74,
     "metadata": {},
     "output_type": "execute_result"
    }
   ],
   "source": [
    "menu = {'라면': 3000, '돈까스': 5000}\n",
    "sam = '김밥'\n",
    "menu[sam] = 2000\n",
    "print(menu)\n",
    "\n",
    "menu[sam]\n"
   ]
  },
  {
   "cell_type": "code",
   "execution_count": 77,
   "metadata": {},
   "outputs": [
    {
     "name": "stdout",
     "output_type": "stream",
     "text": [
      "입력되었습니다 [('유재석', '010-1111-2222')]\n",
      "입력되었습니다 [('유재석', '010-1111-2222'), ('홍길동', '010-3333-4444')]\n",
      "검색 가능한 친구들: ['유재석', '홍길동']\n",
      "유재석의 연락처 ['0', '1', '0', '-', '1', '1', '1', '1', '-', '2', '2', '2', '2']\n",
      "프로그램을 종료합니다.\n"
     ]
    }
   ],
   "source": [
    "#친구 전화번호 검색 프로그램\n",
    "\n",
    "phonebook = {}\n",
    "\n",
    "\n",
    "while True:\n",
    "    cho = int(input('메뉴선택(1: 추가, 2: 삭제, 0: 종료)?: '))\n",
    "    #추가가\n",
    "    if(cho == 1):\n",
    "        name_friend = input('친구 이름 입력>> ')\n",
    "        no_friend = input('전화번호 입력>>')\n",
    "        phonebook[name_friend]= no_friend\n",
    "        print(f'입력되었습니다 {list(phonebook.items())}')\n",
    "\n",
    "    #검색\n",
    "    elif(cho == 2):\n",
    "        print(f'검색 가능한 친구들: {list(phonebook.keys())}')\n",
    "        search = input('친구이름 입력>> ')\n",
    "        print(f'{search}의 연락처 {phonebook[search]}')\n",
    "    elif(cho == 0):\n",
    "        print('프로그램을 종료합니다.')\n",
    "        break\n",
    "\n",
    "    else:\n",
    "        print('메뉴 선택 오류입니다. 다시 선택하세요.')"
   ]
  },
  {
   "cell_type": "code",
   "execution_count": 8,
   "metadata": {},
   "outputs": [
    {
     "name": "stdout",
     "output_type": "stream",
     "text": [
      "파이썬 용어 사전\n",
      "\"python\" is a high- level programming language\n",
      "\"apple\" is not existing in the dictionary!\n",
      "\"loop\" is a sequence of instructions that are continually repeated\n"
     ]
    }
   ],
   "source": [
    "#딕셔너리 업그레이드 미션\n",
    "\n",
    "print('파이썬 용어 사전')\n",
    "\n",
    "dic = {'python': 'a high- level programming language', \n",
    "       'loop': 'a sequence of instructions that are continually repeated'}\n",
    "\n",
    "for i in range(3):\n",
    "    se = input('입력단어 -> ')\n",
    "    if (dic.get(se) == None):\n",
    "        print(f'\"{se}\" is not existing in the dictionary!')\n",
    "    else:\n",
    "        print(f'\"{se}\" is {dic[se]}')"
   ]
  },
  {
   "cell_type": "code",
   "execution_count": 47,
   "metadata": {},
   "outputs": [
    {
     "name": "stdout",
     "output_type": "stream",
     "text": [
      "Alice 평균: 89.0\n",
      "Bob 평균: 82.0\n",
      "Charlie 평균: 92.0\n",
      "Amy 평균: 80.0\n",
      "전체 평균: 114.33333333333333\n",
      "Alice\n",
      "Charlie\n",
      "Amy\n"
     ]
    }
   ],
   "source": [
    "# 리스트 딕셔너리 업그레이드 미션\n",
    "\n",
    "grade = {'Alice': [90, 85, 92], 'Bob' : [78, 80, 88], 'Charlie' : [95, 92, 89], 'Amy': [70, 80, 90]}\n",
    "\n",
    "#Aliceavg = sum(grade['Alice'])/len(grade['Alice'])\n",
    "for students in grade.keys():\n",
    "    print(f'{students} 평균: {sum(grade[students])/len(grade[students])}')\n",
    "\n",
    "add = 0\n",
    "for scores in grade.values():\n",
    "    for i in range(len(scores)):\n",
    "        #print(scores[i])\n",
    "        add = add + scores[i]\n",
    "    #print(add)\n",
    "#print(add)\n",
    "avg_total = add/(len(scores)*(i+1))\n",
    "\n",
    "print(f'전체 평균: {avg_total}')\n",
    "\n",
    "for student, gra in grade.items():\n",
    "    if any(gra[i] >= 90 for i in range(len(gra)) ):\n",
    "         print(student)\n",
    "\n",
    "\n",
    "\n",
    "\n",
    "\n",
    "\n",
    "\n"
   ]
  },
  {
   "cell_type": "markdown",
   "metadata": {},
   "source": [
    "## 튜플"
   ]
  },
  {
   "cell_type": "code",
   "execution_count": 48,
   "metadata": {},
   "outputs": [],
   "source": [
    "t1 = ()"
   ]
  },
  {
   "cell_type": "code",
   "execution_count": 50,
   "metadata": {},
   "outputs": [
    {
     "name": "stdout",
     "output_type": "stream",
     "text": [
      "<class 'tuple'>\n"
     ]
    }
   ],
   "source": [
    "print(type(t1))"
   ]
  },
  {
   "cell_type": "code",
   "execution_count": 52,
   "metadata": {},
   "outputs": [],
   "source": [
    "t2 = (1,)"
   ]
  },
  {
   "cell_type": "code",
   "execution_count": 55,
   "metadata": {},
   "outputs": [
    {
     "name": "stdout",
     "output_type": "stream",
     "text": [
      "<class 'tuple'>\n"
     ]
    }
   ],
   "source": [
    "print(type(t2))"
   ]
  },
  {
   "cell_type": "code",
   "execution_count": 59,
   "metadata": {},
   "outputs": [
    {
     "name": "stdout",
     "output_type": "stream",
     "text": [
      "<class 'tuple'>\n",
      "<class 'tuple'>\n"
     ]
    }
   ],
   "source": [
    "t3 = 1, 2, 3\n",
    "print(type(t3))\n",
    "t4 = 1,\n",
    "print(type(t4))"
   ]
  },
  {
   "cell_type": "code",
   "execution_count": 61,
   "metadata": {},
   "outputs": [],
   "source": [
    "t5 = ('a', 1, ('ab', 'cd'))"
   ]
  },
  {
   "cell_type": "code",
   "execution_count": 63,
   "metadata": {},
   "outputs": [
    {
     "data": {
      "text/plain": [
       "('ab', 'cd')"
      ]
     },
     "execution_count": 63,
     "metadata": {},
     "output_type": "execute_result"
    }
   ],
   "source": [
    "t5[2]"
   ]
  },
  {
   "cell_type": "markdown",
   "metadata": {},
   "source": [
    "튜플을 초기화 후 편집 불가(immutable)"
   ]
  },
  {
   "cell_type": "code",
   "execution_count": 65,
   "metadata": {},
   "outputs": [
    {
     "ename": "TypeError",
     "evalue": "'tuple' object does not support item assignment",
     "output_type": "error",
     "traceback": [
      "\u001b[1;31m---------------------------------------------------------------------------\u001b[0m",
      "\u001b[1;31mTypeError\u001b[0m                                 Traceback (most recent call last)",
      "Cell \u001b[1;32mIn[65], line 1\u001b[0m\n\u001b[1;32m----> 1\u001b[0m \u001b[43mt5\u001b[49m\u001b[43m[\u001b[49m\u001b[38;5;241;43m0\u001b[39;49m\u001b[43m]\u001b[49m \u001b[38;5;241m=\u001b[39m \u001b[38;5;124m'\u001b[39m\u001b[38;5;124mc\u001b[39m\u001b[38;5;124m'\u001b[39m\n",
      "\u001b[1;31mTypeError\u001b[0m: 'tuple' object does not support item assignment"
     ]
    }
   ],
   "source": [
    "t5[0] = 'c'"
   ]
  },
  {
   "cell_type": "code",
   "execution_count": 67,
   "metadata": {},
   "outputs": [
    {
     "ename": "TypeError",
     "evalue": "'tuple' object doesn't support item deletion",
     "output_type": "error",
     "traceback": [
      "\u001b[1;31m---------------------------------------------------------------------------\u001b[0m",
      "\u001b[1;31mTypeError\u001b[0m                                 Traceback (most recent call last)",
      "Cell \u001b[1;32mIn[67], line 1\u001b[0m\n\u001b[1;32m----> 1\u001b[0m \u001b[38;5;28;01mdel\u001b[39;00m \u001b[43mt5\u001b[49m\u001b[43m[\u001b[49m\u001b[38;5;241;43m0\u001b[39;49m\u001b[43m]\u001b[49m\n",
      "\u001b[1;31mTypeError\u001b[0m: 'tuple' object doesn't support item deletion"
     ]
    }
   ],
   "source": [
    "del t5[0]"
   ]
  },
  {
   "cell_type": "code",
   "execution_count": 68,
   "metadata": {},
   "outputs": [
    {
     "data": {
      "text/plain": [
       "(1, 2, 3, 1, 2)"
      ]
     },
     "execution_count": 68,
     "metadata": {},
     "output_type": "execute_result"
    }
   ],
   "source": [
    "(1, 2, 3) + (1, 2)"
   ]
  },
  {
   "cell_type": "code",
   "execution_count": 70,
   "metadata": {},
   "outputs": [
    {
     "data": {
      "text/plain": [
       "(1, 2, 3, 1, 2, 3, 1, 2, 3)"
      ]
     },
     "execution_count": 70,
     "metadata": {},
     "output_type": "execute_result"
    }
   ],
   "source": [
    "(1, 2, 3) * 3"
   ]
  },
  {
   "cell_type": "code",
   "execution_count": null,
   "metadata": {},
   "outputs": [
    {
     "name": "stdout",
     "output_type": "stream",
     "text": [
      "정답입니다.\n"
     ]
    }
   ],
   "source": [
    "fruit = ['사과', '포도', '홍시']\n",
    "\n",
    "infr = input('좋아하는 과일은? ')\n",
    "\n",
    "if (infr in fruit):\n",
    "    print('정답입니다.')\n",
    "else:\n",
    "    print('not in list')"
   ]
  },
  {
   "cell_type": "markdown",
   "metadata": {},
   "source": [
    "# 함수"
   ]
  },
  {
   "cell_type": "code",
   "execution_count": 76,
   "metadata": {},
   "outputs": [
    {
     "name": "stdout",
     "output_type": "stream",
     "text": [
      "ArithmeticError\n",
      "AssertionError\n",
      "AttributeError\n",
      "BaseException\n",
      "BaseExceptionGroup\n",
      "BlockingIOError\n",
      "BrokenPipeError\n",
      "BufferError\n",
      "BytesWarning\n",
      "ChildProcessError\n",
      "ConnectionAbortedError\n",
      "ConnectionError\n",
      "ConnectionRefusedError\n",
      "ConnectionResetError\n",
      "DeprecationWarning\n",
      "EOFError\n",
      "Ellipsis\n",
      "EncodingWarning\n",
      "EnvironmentError\n",
      "Exception\n",
      "ExceptionGroup\n",
      "False\n",
      "FileExistsError\n",
      "FileNotFoundError\n",
      "FloatingPointError\n",
      "FutureWarning\n",
      "GeneratorExit\n",
      "IOError\n",
      "ImportError\n",
      "ImportWarning\n",
      "IndentationError\n",
      "IndexError\n",
      "InterruptedError\n",
      "IsADirectoryError\n",
      "KeyError\n",
      "KeyboardInterrupt\n",
      "LookupError\n",
      "MemoryError\n",
      "ModuleNotFoundError\n",
      "NameError\n",
      "None\n",
      "NotADirectoryError\n",
      "NotImplemented\n",
      "NotImplementedError\n",
      "OSError\n",
      "OverflowError\n",
      "PendingDeprecationWarning\n",
      "PermissionError\n",
      "ProcessLookupError\n",
      "PythonFinalizationError\n",
      "RecursionError\n",
      "ReferenceError\n",
      "ResourceWarning\n",
      "RuntimeError\n",
      "RuntimeWarning\n",
      "StopAsyncIteration\n",
      "StopIteration\n",
      "SyntaxError\n",
      "SyntaxWarning\n",
      "SystemError\n",
      "SystemExit\n",
      "TabError\n",
      "TimeoutError\n",
      "True\n",
      "TypeError\n",
      "UnboundLocalError\n",
      "UnicodeDecodeError\n",
      "UnicodeEncodeError\n",
      "UnicodeError\n",
      "UnicodeTranslateError\n",
      "UnicodeWarning\n",
      "UserWarning\n",
      "ValueError\n",
      "Warning\n",
      "WindowsError\n",
      "ZeroDivisionError\n",
      "_IncompleteInputError\n",
      "__IPYTHON__\n",
      "__build_class__\n",
      "__debug__\n",
      "__doc__\n",
      "__import__\n",
      "__loader__\n",
      "__name__\n",
      "__package__\n",
      "__spec__\n",
      "abs\n",
      "aiter\n",
      "all\n",
      "anext\n",
      "any\n",
      "ascii\n",
      "bin\n",
      "bool\n",
      "breakpoint\n",
      "bytearray\n",
      "bytes\n",
      "callable\n",
      "chr\n",
      "classmethod\n",
      "compile\n",
      "complex\n",
      "copyright\n",
      "credits\n",
      "delattr\n",
      "dict\n",
      "dir\n",
      "display\n",
      "divmod\n",
      "enumerate\n",
      "eval\n",
      "exec\n",
      "execfile\n",
      "filter\n",
      "float\n",
      "format\n",
      "frozenset\n",
      "get_ipython\n",
      "getattr\n",
      "globals\n",
      "hasattr\n",
      "hash\n",
      "help\n",
      "hex\n",
      "id\n",
      "input\n",
      "int\n",
      "isinstance\n",
      "issubclass\n",
      "iter\n",
      "len\n",
      "license\n",
      "list\n",
      "locals\n",
      "map\n",
      "max\n",
      "memoryview\n",
      "min\n",
      "next\n",
      "object\n",
      "oct\n",
      "open\n",
      "ord\n",
      "pow\n",
      "print\n",
      "property\n",
      "range\n",
      "repr\n",
      "reversed\n",
      "round\n",
      "runfile\n",
      "set\n",
      "setattr\n",
      "slice\n",
      "sorted\n",
      "staticmethod\n",
      "str\n",
      "sum\n",
      "super\n",
      "tuple\n",
      "type\n",
      "vars\n",
      "zip\n"
     ]
    }
   ],
   "source": [
    "#내장 함수 조회\n",
    "for i in dir(__builtins__): print(i)"
   ]
  },
  {
   "cell_type": "markdown",
   "metadata": {},
   "source": [
    "## 사용자 정의 함수"
   ]
  },
  {
   "cell_type": "code",
   "execution_count": null,
   "metadata": {},
   "outputs": [],
   "source": [
    "def 함수이름(매개변수):\n",
    "    수행할 명령어\n",
    "    return 리턴값"
   ]
  },
  {
   "cell_type": "code",
   "execution_count": 86,
   "metadata": {},
   "outputs": [
    {
     "name": "stdout",
     "output_type": "stream",
     "text": [
      "Hi\n"
     ]
    }
   ],
   "source": [
    "def Hi():\n",
    "    print('Hi')\n",
    "\n",
    "Hi()"
   ]
  },
  {
   "cell_type": "code",
   "execution_count": 88,
   "metadata": {},
   "outputs": [
    {
     "name": "stdout",
     "output_type": "stream",
     "text": [
      "<function Hi at 0x00000204AE8CFEC0>\n"
     ]
    }
   ],
   "source": [
    "print(Hi)"
   ]
  },
  {
   "cell_type": "code",
   "execution_count": 92,
   "metadata": {},
   "outputs": [
    {
     "name": "stdout",
     "output_type": "stream",
     "text": [
      "철수야~ Hi\n",
      "영희야~ Hi\n"
     ]
    }
   ],
   "source": [
    "def NameHi(name):\n",
    "    print(f'{name}야~ Hi')\n",
    "\n",
    "NameHi('철수')\n",
    "NameHi('영희')"
   ]
  },
  {
   "cell_type": "code",
   "execution_count": 97,
   "metadata": {},
   "outputs": [
    {
     "data": {
      "text/plain": [
       "'Hi'"
      ]
     },
     "execution_count": 97,
     "metadata": {},
     "output_type": "execute_result"
    }
   ],
   "source": [
    "def HiReturn():\n",
    "    return 'Hi'\n",
    "\n",
    "HiReturn()"
   ]
  },
  {
   "cell_type": "code",
   "execution_count": 117,
   "metadata": {},
   "outputs": [],
   "source": [
    "def add (a, b):\n",
    "    return a+b, a-b"
   ]
  },
  {
   "cell_type": "code",
   "execution_count": 118,
   "metadata": {},
   "outputs": [
    {
     "data": {
      "text/plain": [
       "(7, 3)"
      ]
     },
     "execution_count": 118,
     "metadata": {},
     "output_type": "execute_result"
    }
   ],
   "source": [
    "add(5, 2)"
   ]
  },
  {
   "cell_type": "code",
   "execution_count": 122,
   "metadata": {},
   "outputs": [
    {
     "data": {
      "text/plain": [
       "12"
      ]
     },
     "execution_count": 122,
     "metadata": {},
     "output_type": "execute_result"
    }
   ],
   "source": [
    "def num_max(a, b, c):\n",
    "    if (a > b):\n",
    "        M = a\n",
    "        if(a > c):\n",
    "            M = a\n",
    "        elif(c > a):\n",
    "            M = c\n",
    "    elif(b > a):\n",
    "        M = b\n",
    "        if(b > c):\n",
    "            M = b\n",
    "        elif(c > b):\n",
    "            M = c\n",
    "    elif(a == b or b == c or c == a):\n",
    "        print('같은 값이 있는 인자가 있습니다')\n",
    "\n",
    "    return M\n",
    "\n",
    "num = num_max(10, 12, 7)\n",
    "num\n"
   ]
  },
  {
   "cell_type": "code",
   "execution_count": 125,
   "metadata": {},
   "outputs": [
    {
     "name": "stdout",
     "output_type": "stream",
     "text": [
      "24\n"
     ]
    }
   ],
   "source": [
    "# 업그레이드 함수 1\n",
    "def num_min(numarr):\n",
    "    mini = numarr[0]\n",
    "    for i in range(len(numarr)):\n",
    "        if (numarr[i] < mini):\n",
    "            mini = numarr[i]\n",
    "    return mini\n",
    "\n",
    "testArray =  [52, 273, 32, 103, 275, 24, 57]\n",
    "re = num_min(testArray)\n",
    "print(re)"
   ]
  },
  {
   "cell_type": "code",
   "execution_count": 131,
   "metadata": {},
   "outputs": [
    {
     "name": "stdout",
     "output_type": "stream",
     "text": [
      "2\n",
      "10\n",
      "12\n"
     ]
    }
   ],
   "source": [
    "#짝수만 출력, 업그레이드2\n",
    "\n",
    "def print_even (my_list):\n",
    "    for i in range(len(my_list)):\n",
    "        if (my_list[i] % 2 == 0):\n",
    "            print(my_list[i])\n",
    "\n",
    "\n",
    "testlist = [1, 3, 2, 10, 12, 11, 15]\n",
    "print_even(testlist)"
   ]
  },
  {
   "cell_type": "code",
   "execution_count": 142,
   "metadata": {},
   "outputs": [
    {
     "name": "stdout",
     "output_type": "stream",
     "text": [
      "2022년은 윤년일까? False\n",
      "2010년은 윤년일까? False\n",
      "2000년은 윤년일까? True\n",
      "1900년은 윤년일까? False\n",
      "2020년은 윤년일까? True\n"
     ]
    }
   ],
   "source": [
    "#윤년을 확인하는 함수 만들기\n",
    "\n",
    "def is_Leap_Year(year):\n",
    "    if (year%400 == 0):\n",
    "        return True\n",
    "    elif (year%100 == 0):\n",
    "        return False\n",
    "    elif(year%4 == 0):\n",
    "        return True\n",
    "    else:\n",
    "        return False\n",
    "\n",
    "#count = int(input('년도를 입력하세요: '))\n",
    "\n",
    "#= is_Leap_Year(2010)\n",
    "#print(a)\n",
    "\n",
    "print(f'2022년은 윤년일까? {is_Leap_Year(2022)}')\n",
    "print(f'2010년은 윤년일까? {is_Leap_Year(2010)}')\n",
    "print(f'2000년은 윤년일까? {is_Leap_Year(2000)}')\n",
    "print(f'1900년은 윤년일까? {is_Leap_Year(1900)}')\n",
    "print(f'2020년은 윤년일까? {is_Leap_Year(2020)}')\n"
   ]
  },
  {
   "cell_type": "markdown",
   "metadata": {},
   "source": [
    "#### 여러 개의 입력을 받는 함수"
   ]
  },
  {
   "cell_type": "code",
   "execution_count": 144,
   "metadata": {},
   "outputs": [],
   "source": [
    "def add_many(*args):\n",
    "    result = 0\n",
    "    for i in args:\n",
    "        result = result + i\n",
    "    return result"
   ]
  },
  {
   "cell_type": "code",
   "execution_count": 147,
   "metadata": {},
   "outputs": [
    {
     "name": "stdout",
     "output_type": "stream",
     "text": [
      "6\n",
      "21\n"
     ]
    }
   ],
   "source": [
    "print(add_many(1, 2, 3))\n",
    "print(add_many(1, 2, 3, 4, 5, 6))"
   ]
  },
  {
   "cell_type": "code",
   "execution_count": 149,
   "metadata": {},
   "outputs": [
    {
     "name": "stdout",
     "output_type": "stream",
     "text": [
      "a b c d "
     ]
    }
   ],
   "source": [
    "print('a', 'b', 'c', 'd', end = \" \")"
   ]
  },
  {
   "cell_type": "code",
   "execution_count": 24,
   "metadata": {},
   "outputs": [],
   "source": [
    "def add_mul(choice, *args):\n",
    "    if choice == 'add':\n",
    "        result = 0\n",
    "        for i in args:\n",
    "            result = result + i\n",
    "            #print(result)\n",
    "\n",
    "    elif choice == 'mul':\n",
    "        result = 1\n",
    "        for i in args:\n",
    "            result = result * i\n",
    "\n",
    "    return result\n",
    "\n"
   ]
  },
  {
   "cell_type": "code",
   "execution_count": 25,
   "metadata": {},
   "outputs": [
    {
     "name": "stdout",
     "output_type": "stream",
     "text": [
      "15\n",
      "6\n"
     ]
    }
   ],
   "source": [
    "print(add_mul('add', 1, 2, 3, 4, 5))\n",
    "print(add_mul('mul', 1, 2, 3))"
   ]
  },
  {
   "cell_type": "code",
   "execution_count": 26,
   "metadata": {},
   "outputs": [],
   "source": [
    "def add_mul(*args, choice = 'add'):\n",
    "    if choice == 'add':\n",
    "        result = 0\n",
    "        for i in args:\n",
    "            result = result + i\n",
    "    return result"
   ]
  },
  {
   "cell_type": "code",
   "execution_count": 27,
   "metadata": {},
   "outputs": [
    {
     "name": "stdout",
     "output_type": "stream",
     "text": [
      "15\n"
     ]
    }
   ],
   "source": [
    "print(add_mul(1, 2, 3, 4, 5))"
   ]
  },
  {
   "cell_type": "code",
   "execution_count": 16,
   "metadata": {},
   "outputs": [
    {
     "name": "stdout",
     "output_type": "stream",
     "text": [
      "7\n",
      "10\n"
     ]
    }
   ],
   "source": [
    "def add_and_mul(a, b):\n",
    "    return a+b, a*b\n",
    "\n",
    "result1, result2 = add_and_mul(5, 2)\n",
    "print(result1)\n",
    "print(result2)"
   ]
  },
  {
   "cell_type": "code",
   "execution_count": 17,
   "metadata": {},
   "outputs": [
    {
     "name": "stdout",
     "output_type": "stream",
     "text": [
      "(13, 7, 30, 3.3333333333333335)\n"
     ]
    }
   ],
   "source": [
    "def func(a, b):\n",
    "    add = a+b\n",
    "    minus = a-b\n",
    "    multi = a*b\n",
    "    divi = a/b\n",
    "\n",
    "    return (add, minus, multi, divi)\n",
    "\n",
    "print(func(10, 3))"
   ]
  },
  {
   "cell_type": "code",
   "execution_count": 18,
   "metadata": {},
   "outputs": [
    {
     "name": "stdout",
     "output_type": "stream",
     "text": [
      "13 7 30 3.3333333333333335\n"
     ]
    }
   ],
   "source": [
    "num1, num2, num3, num4 = func(10, 3)\n",
    "print(num1, num2, num3, num4)"
   ]
  }
 ],
 "metadata": {
  "kernelspec": {
   "display_name": "Python 3",
   "language": "python",
   "name": "python3"
  },
  "language_info": {
   "codemirror_mode": {
    "name": "ipython",
    "version": 3
   },
   "file_extension": ".py",
   "mimetype": "text/x-python",
   "name": "python",
   "nbconvert_exporter": "python",
   "pygments_lexer": "ipython3",
   "version": "3.13.1"
  }
 },
 "nbformat": 4,
 "nbformat_minor": 2
}
