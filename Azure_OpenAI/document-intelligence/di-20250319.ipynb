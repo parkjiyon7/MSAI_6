{
 "cells": [
  {
   "cell_type": "code",
   "execution_count": null,
   "metadata": {},
   "outputs": [],
   "source": []
  },
  {
   "cell_type": "code",
   "execution_count": 5,
   "metadata": {},
   "outputs": [
    {
     "name": "stdout",
     "output_type": "stream",
     "text": [
      "* Running on local URL:  http://127.0.0.1:7861\n",
      "\n",
      "To create a public link, set `share=True` in `launch()`.\n"
     ]
    },
    {
     "data": {
      "text/html": [
       "<div><iframe src=\"http://127.0.0.1:7861/\" width=\"100%\" height=\"500\" allow=\"autoplay; camera; microphone; clipboard-read; clipboard-write;\" frameborder=\"0\" allowfullscreen></iframe></div>"
      ],
      "text/plain": [
       "<IPython.core.display.HTML object>"
      ]
     },
     "metadata": {},
     "output_type": "display_data"
    },
    {
     "data": {
      "text/plain": []
     },
     "execution_count": 5,
     "metadata": {},
     "output_type": "execute_result"
    },
    {
     "name": "stdout",
     "output_type": "stream",
     "text": [
      "succeeded\n",
      "{'status': 'succeeded', 'createdDateTime': '2025-03-19T08:55:34Z', 'lastUpdatedDateTime': '2025-03-19T08:55:34Z', 'analyzeResult': {'apiVersion': '2024-11-30', 'modelId': 'prebuilt-read', 'stringIndexType': 'textElements', 'content': 'Lorem ipsum dolor sit amet, consectetuer adipiscing elit, sed diam nonummy nibh euismod tincidunt ut laoreet dolore magna aliquam erat volutpat. Ut wisi enim ad minim veniam, quis nostrud exerci tation ullamcorper suscipit lobortis nisi ut aliquip ex ea commodo consequat. Duis autem vel eum iriure dolor in hendrerit in vulputate. Lorem ipsum dolor sit amet, consectetuer.\\nEXPERIENCE\\nLorem Ipsum 20XX-20YY\\nLorem ipsum dolor sit amet, consectetuer adipiscing elit, sed diam nonummy nibh euismod tincidunt ut laoreet dolore magna aliquam erat volutpat. Ut wisi enim ad minim veniam, quis nostrud exerci tation ullamcorper suscipit lobortis nisi ut aliquip ex ea commodo consequat. Duis autem vel eum iriure dolor in hendrerit in vulputate.\\nDolor Sit Amet 20XX-20YY\\nLorem insum dolor sit amet, consectetuer adipiscing oli\\n810-555-0140\\nian_hansson\\nhansson@example.com\\nwww.example.com\\nSKILLS\\n· Lorem ipsum dolor\\n· Sit amet\\n· Consectetuer adipiscing\\n· Sed diam nonummy\\n. Nibh euismod tincidunt\\n· Laoreet dolore\\n· Magna aliquam', 'pages': [{'pageNumber': 1, 'angle': 0, 'width': 1187, 'height': 629, 'unit': 'pixel', 'words': [{'content': 'Lorem', 'polygon': [297, 25, 340, 25, 340, 44, 297, 45], 'confidence': 0.996, 'span': {'offset': 0, 'length': 5}}, {'content': 'ipsum', 'polygon': [347, 25, 395, 24, 394, 44, 347, 44], 'confidence': 0.992, 'span': {'offset': 6, 'length': 5}}, {'content': 'dolor', 'polygon': [399, 24, 437, 24, 436, 44, 399, 44], 'confidence': 0.993, 'span': {'offset': 12, 'length': 5}}, {'content': 'sit', 'polygon': [440, 24, 458, 24, 458, 44, 440, 44], 'confidence': 0.997, 'span': {'offset': 18, 'length': 3}}, {'content': 'amet,', 'polygon': [461, 24, 502, 24, 502, 44, 461, 44], 'confidence': 0.995, 'span': {'offset': 22, 'length': 5}}, {'content': 'consectetuer', 'polygon': [507, 24, 602, 25, 602, 44, 507, 44], 'confidence': 0.992, 'span': {'offset': 28, 'length': 12}}, {'content': 'adipiscing', 'polygon': [607, 25, 679, 25, 678, 44, 606, 44], 'confidence': 0.995, 'span': {'offset': 41, 'length': 10}}, {'content': 'elit,', 'polygon': [684, 25, 712, 25, 712, 44, 684, 44], 'confidence': 0.977, 'span': {'offset': 52, 'length': 5}}, {'content': 'sed', 'polygon': [297, 45, 326, 45, 326, 64, 297, 64], 'confidence': 0.996, 'span': {'offset': 58, 'length': 3}}, {'content': 'diam', 'polygon': [331, 45, 360, 45, 360, 64, 331, 64], 'confidence': 0.992, 'span': {'offset': 62, 'length': 4}}, {'content': 'nonummy', 'polygon': [368, 45, 441, 44, 441, 64, 368, 64], 'confidence': 0.994, 'span': {'offset': 67, 'length': 7}}, {'content': 'nibh', 'polygon': [445, 44, 479, 44, 478, 64, 445, 64], 'confidence': 0.987, 'span': {'offset': 75, 'length': 4}}, {'content': 'euismod', 'polygon': [483, 44, 546, 44, 545, 63, 483, 64], 'confidence': 0.992, 'span': {'offset': 80, 'length': 7}}, {'content': 'tincidunt', 'polygon': [550, 44, 611, 44, 610, 63, 550, 63], 'confidence': 0.989, 'span': {'offset': 88, 'length': 9}}, {'content': 'ut', 'polygon': [614, 44, 628, 45, 628, 63, 614, 63], 'confidence': 0.992, 'span': {'offset': 98, 'length': 2}}, {'content': 'laoreet', 'polygon': [632, 45, 688, 45, 688, 62, 631, 63], 'confidence': 0.992, 'span': {'offset': 101, 'length': 7}}, {'content': 'dolore', 'polygon': [298, 63, 343, 63, 343, 83, 297, 83], 'confidence': 0.995, 'span': {'offset': 109, 'length': 6}}, {'content': 'magna', 'polygon': [347, 63, 400, 63, 400, 83, 347, 83], 'confidence': 0.993, 'span': {'offset': 116, 'length': 5}}, {'content': 'aliquam', 'polygon': [405, 63, 462, 63, 462, 83, 405, 83], 'confidence': 0.993, 'span': {'offset': 122, 'length': 7}}, {'content': 'erat', 'polygon': [468, 63, 496, 63, 496, 83, 467, 83], 'confidence': 0.995, 'span': {'offset': 130, 'length': 4}}, {'content': 'volutpat.', 'polygon': [500, 63, 562, 63, 561, 82, 500, 83], 'confidence': 0.993, 'span': {'offset': 135, 'length': 9}}, {'content': 'Ut', 'polygon': [568, 63, 583, 63, 582, 82, 567, 82], 'confidence': 0.998, 'span': {'offset': 145, 'length': 2}}, {'content': 'wisi', 'polygon': [587, 63, 616, 63, 615, 82, 586, 82], 'confidence': 0.992, 'span': {'offset': 148, 'length': 4}}, {'content': 'enim', 'polygon': [620, 63, 656, 63, 655, 82, 619, 82], 'confidence': 0.987, 'span': {'offset': 153, 'length': 4}}, {'content': 'ad', 'polygon': [661, 63, 683, 63, 682, 82, 660, 82], 'confidence': 0.996, 'span': {'offset': 158, 'length': 2}}, {'content': 'minim', 'polygon': [298, 83, 344, 83, 344, 101, 298, 101], 'confidence': 0.995, 'span': {'offset': 161, 'length': 5}}, {'content': 'veniam,', 'polygon': [348, 83, 405, 82, 405, 101, 348, 101], 'confidence': 0.992, 'span': {'offset': 167, 'length': 7}}, {'content': 'quis', 'polygon': [410, 82, 439, 82, 439, 102, 410, 101], 'confidence': 0.992, 'span': {'offset': 175, 'length': 4}}, {'content': 'nostrud', 'polygon': [443, 82, 500, 82, 500, 102, 443, 102], 'confidence': 0.995, 'span': {'offset': 180, 'length': 7}}, {'content': 'exerci', 'polygon': [505, 82, 549, 82, 548, 101, 505, 102], 'confidence': 0.994, 'span': {'offset': 188, 'length': 6}}, {'content': 'tation', 'polygon': [553, 82, 593, 83, 593, 101, 553, 101], 'confidence': 0.998, 'span': {'offset': 195, 'length': 6}}, {'content': 'ullamcorper', 'polygon': [598, 83, 686, 83, 686, 101, 598, 101], 'confidence': 0.994, 'span': {'offset': 202, 'length': 11}}, {'content': 'suscipit', 'polygon': [298, 101, 353, 101, 352, 120, 298, 119], 'confidence': 0.992, 'span': {'offset': 214, 'length': 8}}, {'content': 'lobortis', 'polygon': [356, 101, 412, 101, 412, 120, 356, 120], 'confidence': 0.992, 'span': {'offset': 223, 'length': 8}}, {'content': 'nisi', 'polygon': [417, 101, 441, 101, 441, 120, 417, 120], 'confidence': 0.922, 'span': {'offset': 232, 'length': 4}}, {'content': 'ut', 'polygon': [447, 101, 461, 101, 460, 120, 446, 120], 'confidence': 0.996, 'span': {'offset': 237, 'length': 2}}, {'content': 'aliquip', 'polygon': [465, 101, 512, 101, 511, 120, 464, 120], 'confidence': 0.994, 'span': {'offset': 240, 'length': 7}}, {'content': 'ex', 'polygon': [516, 101, 534, 101, 534, 120, 516, 120], 'confidence': 0.996, 'span': {'offset': 248, 'length': 2}}, {'content': 'ea', 'polygon': [539, 101, 556, 101, 556, 120, 538, 120], 'confidence': 0.995, 'span': {'offset': 251, 'length': 2}}, {'content': 'commodo', 'polygon': [561, 101, 634, 102, 633, 120, 561, 120], 'confidence': 0.995, 'span': {'offset': 254, 'length': 7}}, {'content': 'consequat.', 'polygon': [638, 102, 719, 102, 719, 119, 638, 120], 'confidence': 0.992, 'span': {'offset': 262, 'length': 10}}, {'content': 'Duis', 'polygon': [299, 120, 333, 120, 333, 139, 299, 139], 'confidence': 0.992, 'span': {'offset': 273, 'length': 4}}, {'content': 'autem', 'polygon': [337, 120, 383, 120, 383, 139, 337, 139], 'confidence': 0.994, 'span': {'offset': 278, 'length': 5}}, {'content': 'vel', 'polygon': [388, 120, 408, 120, 408, 139, 387, 139], 'confidence': 0.992, 'span': {'offset': 284, 'length': 3}}, {'content': 'eum', 'polygon': [413, 120, 445, 120, 445, 140, 413, 139], 'confidence': 0.997, 'span': {'offset': 288, 'length': 3}}, {'content': 'iriure', 'polygon': [450, 120, 486, 120, 486, 140, 450, 140], 'confidence': 0.992, 'span': {'offset': 292, 'length': 6}}, {'content': 'dolor', 'polygon': [491, 120, 526, 120, 526, 140, 491, 140], 'confidence': 0.996, 'span': {'offset': 299, 'length': 5}}, {'content': 'in', 'polygon': [530, 120, 545, 120, 544, 140, 530, 140], 'confidence': 0.994, 'span': {'offset': 305, 'length': 2}}, {'content': 'hendrerit', 'polygon': [550, 120, 613, 121, 613, 139, 549, 140], 'confidence': 0.994, 'span': {'offset': 308, 'length': 9}}, {'content': 'in', 'polygon': [617, 121, 632, 121, 632, 139, 617, 139], 'confidence': 0.992, 'span': {'offset': 318, 'length': 2}}, {'content': 'vulputate.', 'polygon': [636, 121, 709, 121, 709, 139, 636, 139], 'confidence': 0.992, 'span': {'offset': 321, 'length': 10}}, {'content': 'Lorem', 'polygon': [298, 138, 340, 138, 340, 158, 298, 158], 'confidence': 0.997, 'span': {'offset': 332, 'length': 5}}, {'content': 'ipsum', 'polygon': [348, 139, 395, 139, 394, 158, 347, 158], 'confidence': 0.993, 'span': {'offset': 338, 'length': 5}}, {'content': 'dolor', 'polygon': [399, 139, 436, 139, 435, 158, 399, 158], 'confidence': 0.996, 'span': {'offset': 344, 'length': 5}}, {'content': 'sit', 'polygon': [439, 139, 458, 139, 458, 158, 439, 158], 'confidence': 0.996, 'span': {'offset': 350, 'length': 3}}, {'content': 'amet,', 'polygon': [462, 139, 502, 139, 502, 158, 461, 158], 'confidence': 0.992, 'span': {'offset': 354, 'length': 5}}, {'content': 'consectetuer.', 'polygon': [507, 139, 607, 140, 607, 157, 507, 158], 'confidence': 0.992, 'span': {'offset': 360, 'length': 13}}, {'content': 'EXPERIENCE', 'polygon': [299, 237, 504, 238, 504, 266, 298, 266], 'confidence': 0.993, 'span': {'offset': 374, 'length': 10}}, {'content': 'Lorem', 'polygon': [299, 325, 378, 326, 377, 352, 298, 352], 'confidence': 0.998, 'span': {'offset': 385, 'length': 5}}, {'content': 'Ipsum', 'polygon': [387, 326, 462, 326, 462, 352, 386, 352], 'confidence': 0.879, 'span': {'offset': 391, 'length': 5}}, {'content': '20XX-20YY', 'polygon': [298, 358, 388, 357, 388, 376, 298, 376], 'confidence': 0.983, 'span': {'offset': 397, 'length': 9}}, {'content': 'Lorem', 'polygon': [298, 379, 340, 379, 340, 397, 298, 397], 'confidence': 0.995, 'span': {'offset': 407, 'length': 5}}, {'content': 'ipsum', 'polygon': [348, 379, 394, 379, 394, 397, 348, 397], 'confidence': 0.992, 'span': {'offset': 413, 'length': 5}}, {'content': 'dolor', 'polygon': [399, 379, 437, 379, 437, 397, 399, 397], 'confidence': 0.996, 'span': {'offset': 419, 'length': 5}}, {'content': 'sit', 'polygon': [441, 379, 457, 379, 457, 397, 440, 397], 'confidence': 0.997, 'span': {'offset': 425, 'length': 3}}, {'content': 'amet,', 'polygon': [462, 379, 502, 379, 502, 397, 462, 397], 'confidence': 0.993, 'span': {'offset': 429, 'length': 5}}, {'content': 'consectetuer', 'polygon': [507, 379, 602, 379, 602, 397, 507, 397], 'confidence': 0.993, 'span': {'offset': 435, 'length': 12}}, {'content': 'adipiscing', 'polygon': [606, 379, 679, 379, 678, 398, 606, 397], 'confidence': 0.992, 'span': {'offset': 448, 'length': 10}}, {'content': 'elit,', 'polygon': [684, 379, 711, 379, 711, 398, 684, 398], 'confidence': 0.977, 'span': {'offset': 459, 'length': 5}}, {'content': 'sed', 'polygon': [298, 398, 326, 398, 326, 415, 298, 415], 'confidence': 0.996, 'span': {'offset': 465, 'length': 3}}, {'content': 'diam', 'polygon': [331, 398, 366, 398, 366, 415, 330, 415], 'confidence': 0.992, 'span': {'offset': 469, 'length': 4}}, {'content': 'nonummy', 'polygon': [372, 397, 444, 397, 443, 416, 371, 415], 'confidence': 0.994, 'span': {'offset': 474, 'length': 7}}, {'content': 'nibh', 'polygon': [448, 397, 479, 397, 478, 416, 448, 416], 'confidence': 0.992, 'span': {'offset': 482, 'length': 4}}, {'content': 'euismod', 'polygon': [484, 397, 546, 397, 545, 415, 483, 416], 'confidence': 0.993, 'span': {'offset': 487, 'length': 7}}, {'content': 'tincidunt', 'polygon': [551, 397, 612, 397, 612, 415, 550, 415], 'confidence': 0.992, 'span': {'offset': 495, 'length': 9}}, {'content': 'ut', 'polygon': [617, 397, 628, 397, 628, 415, 617, 415], 'confidence': 0.996, 'span': {'offset': 505, 'length': 2}}, {'content': 'laoreet', 'polygon': [631, 397, 687, 398, 687, 414, 631, 415], 'confidence': 0.992, 'span': {'offset': 508, 'length': 7}}, {'content': 'dolore', 'polygon': [298, 417, 343, 417, 343, 436, 298, 436], 'confidence': 0.995, 'span': {'offset': 516, 'length': 6}}, {'content': 'magna', 'polygon': [347, 417, 400, 417, 400, 436, 347, 436], 'confidence': 0.995, 'span': {'offset': 523, 'length': 5}}, {'content': 'aliquam', 'polygon': [405, 417, 462, 417, 462, 436, 405, 436], 'confidence': 0.995, 'span': {'offset': 529, 'length': 7}}, {'content': 'erat', 'polygon': [467, 417, 496, 417, 496, 436, 467, 436], 'confidence': 0.991, 'span': {'offset': 537, 'length': 4}}, {'content': 'volutpat.', 'polygon': [500, 417, 562, 417, 561, 436, 500, 436], 'confidence': 0.993, 'span': {'offset': 542, 'length': 9}}, {'content': 'Ut', 'polygon': [567, 417, 582, 417, 581, 436, 567, 436], 'confidence': 0.986, 'span': {'offset': 552, 'length': 2}}, {'content': 'wisi', 'polygon': [585, 417, 615, 417, 615, 435, 585, 435], 'confidence': 0.998, 'span': {'offset': 555, 'length': 4}}, {'content': 'enim', 'polygon': [620, 416, 655, 416, 655, 435, 619, 435], 'confidence': 0.992, 'span': {'offset': 560, 'length': 4}}, {'content': 'ad', 'polygon': [660, 416, 682, 416, 682, 435, 660, 435], 'confidence': 0.996, 'span': {'offset': 565, 'length': 2}}, {'content': 'minim', 'polygon': [298, 436, 343, 436, 343, 454, 298, 454], 'confidence': 0.995, 'span': {'offset': 568, 'length': 5}}, {'content': 'veniam,', 'polygon': [348, 436, 405, 435, 405, 454, 348, 454], 'confidence': 0.989, 'span': {'offset': 574, 'length': 7}}, {'content': 'quis', 'polygon': [410, 435, 439, 435, 439, 454, 410, 454], 'confidence': 0.992, 'span': {'offset': 582, 'length': 4}}, {'content': 'nostrud', 'polygon': [443, 435, 500, 435, 499, 454, 442, 454], 'confidence': 0.995, 'span': {'offset': 587, 'length': 7}}, {'content': 'exerci', 'polygon': [505, 435, 548, 435, 548, 454, 504, 454], 'confidence': 0.99, 'span': {'offset': 595, 'length': 6}}, {'content': 'tation', 'polygon': [553, 435, 593, 435, 593, 454, 553, 454], 'confidence': 0.996, 'span': {'offset': 602, 'length': 6}}, {'content': 'ullamcorper', 'polygon': [598, 435, 686, 435, 686, 454, 598, 454], 'confidence': 0.992, 'span': {'offset': 609, 'length': 11}}, {'content': 'suscipit', 'polygon': [298, 455, 352, 454, 352, 473, 297, 473], 'confidence': 0.993, 'span': {'offset': 621, 'length': 8}}, {'content': 'lobortis', 'polygon': [356, 454, 411, 454, 410, 474, 356, 473], 'confidence': 0.992, 'span': {'offset': 630, 'length': 8}}, {'content': 'nisi', 'polygon': [414, 454, 441, 454, 441, 474, 414, 474], 'confidence': 0.974, 'span': {'offset': 639, 'length': 4}}, {'content': 'ut', 'polygon': [447, 454, 461, 454, 460, 474, 446, 474], 'confidence': 0.994, 'span': {'offset': 644, 'length': 2}}, {'content': 'aliquip', 'polygon': [465, 454, 512, 454, 512, 474, 464, 474], 'confidence': 0.994, 'span': {'offset': 647, 'length': 7}}, {'content': 'ex', 'polygon': [516, 454, 534, 454, 534, 474, 516, 474], 'confidence': 0.987, 'span': {'offset': 655, 'length': 2}}, {'content': 'ea', 'polygon': [539, 454, 557, 454, 557, 474, 538, 474], 'confidence': 0.993, 'span': {'offset': 658, 'length': 2}}, {'content': 'commodo', 'polygon': [562, 454, 634, 455, 634, 473, 561, 474], 'confidence': 0.995, 'span': {'offset': 661, 'length': 7}}, {'content': 'consequat.', 'polygon': [638, 455, 720, 455, 719, 473, 638, 473], 'confidence': 0.962, 'span': {'offset': 669, 'length': 10}}, {'content': 'Duis', 'polygon': [298, 473, 332, 473, 333, 492, 299, 491], 'confidence': 0.992, 'span': {'offset': 680, 'length': 4}}, {'content': 'autem', 'polygon': [337, 473, 383, 472, 383, 492, 337, 492], 'confidence': 0.995, 'span': {'offset': 685, 'length': 5}}, {'content': 'vel', 'polygon': [387, 472, 408, 472, 408, 492, 387, 492], 'confidence': 0.994, 'span': {'offset': 691, 'length': 3}}, {'content': 'eum', 'polygon': [413, 472, 439, 472, 439, 492, 413, 492], 'confidence': 0.997, 'span': {'offset': 695, 'length': 3}}, {'content': 'iriure', 'polygon': [446, 472, 486, 472, 486, 492, 447, 492], 'confidence': 0.992, 'span': {'offset': 699, 'length': 6}}, {'content': 'dolor', 'polygon': [491, 472, 525, 473, 525, 492, 491, 492], 'confidence': 0.995, 'span': {'offset': 706, 'length': 5}}, {'content': 'in', 'polygon': [529, 473, 545, 473, 545, 492, 529, 492], 'confidence': 0.997, 'span': {'offset': 712, 'length': 2}}, {'content': 'hendrerit', 'polygon': [550, 473, 612, 473, 612, 492, 549, 492], 'confidence': 0.993, 'span': {'offset': 715, 'length': 9}}, {'content': 'in', 'polygon': [616, 473, 632, 473, 631, 492, 616, 492], 'confidence': 0.997, 'span': {'offset': 725, 'length': 2}}, {'content': 'vulputate.', 'polygon': [636, 473, 709, 473, 709, 492, 636, 492], 'confidence': 0.992, 'span': {'offset': 728, 'length': 10}}, {'content': 'Dolor', 'polygon': [300, 564, 368, 564, 367, 589, 300, 589], 'confidence': 0.996, 'span': {'offset': 739, 'length': 5}}, {'content': 'Sit', 'polygon': [374, 564, 407, 564, 406, 589, 374, 589], 'confidence': 0.997, 'span': {'offset': 745, 'length': 3}}, {'content': 'Amet', 'polygon': [414, 564, 482, 565, 482, 590, 413, 589], 'confidence': 0.992, 'span': {'offset': 749, 'length': 4}}, {'content': '20XX-20YY', 'polygon': [298, 597, 388, 597, 388, 613, 298, 613], 'confidence': 0.992, 'span': {'offset': 754, 'length': 9}}, {'content': 'Lorem', 'polygon': [298, 619, 346, 619, 346, 628, 298, 628], 'confidence': 0.646, 'span': {'offset': 764, 'length': 5}}, {'content': 'insum', 'polygon': [351, 619, 387, 619, 387, 628, 351, 628], 'confidence': 0.674, 'span': {'offset': 770, 'length': 5}}, {'content': 'dolor', 'polygon': [401, 619, 437, 618, 437, 628, 401, 628], 'confidence': 0.927, 'span': {'offset': 776, 'length': 5}}, {'content': 'sit', 'polygon': [440, 618, 457, 618, 457, 628, 441, 628], 'confidence': 0.628, 'span': {'offset': 782, 'length': 3}}, {'content': 'amet,', 'polygon': [462, 618, 503, 618, 503, 628, 462, 628], 'confidence': 0.788, 'span': {'offset': 786, 'length': 5}}, {'content': 'consectetuer', 'polygon': [509, 618, 602, 619, 602, 628, 509, 628], 'confidence': 0.63, 'span': {'offset': 792, 'length': 12}}, {'content': 'adipiscing', 'polygon': [606, 619, 678, 619, 679, 628, 607, 628], 'confidence': 0.661, 'span': {'offset': 805, 'length': 10}}, {'content': 'oli', 'polygon': [684, 619, 699, 619, 699, 628, 684, 628], 'confidence': 0.509, 'span': {'offset': 816, 'length': 3}}, {'content': '810-555-0140', 'polygon': [894, 0, 1055, 0, 1055, 16, 893, 15], 'confidence': 0.643, 'span': {'offset': 820, 'length': 12}}, {'content': 'ian_hansson', 'polygon': [889, 49, 1040, 50, 1040, 75, 888, 75], 'confidence': 0.963, 'span': {'offset': 833, 'length': 11}}, {'content': 'hansson@example.com', 'polygon': [890, 108, 1170, 108, 1170, 135, 890, 133], 'confidence': 0.964, 'span': {'offset': 845, 'length': 19}}, {'content': 'www.example.com', 'polygon': [889, 169, 1110, 167, 1110, 193, 888, 191], 'confidence': 0.992, 'span': {'offset': 865, 'length': 15}}, {'content': 'SKILLS', 'polygon': [856, 238, 959, 238, 959, 266, 855, 265], 'confidence': 0.992, 'span': {'offset': 881, 'length': 6}}, {'content': '·', 'polygon': [855, 336, 868, 336, 867, 363, 854, 363], 'confidence': 0.278, 'span': {'offset': 888, 'length': 1}}, {'content': 'Lorem', 'polygon': [884, 336, 955, 336, 955, 362, 883, 363], 'confidence': 0.996, 'span': {'offset': 890, 'length': 5}}, {'content': 'ipsum', 'polygon': [964, 336, 1031, 335, 1030, 363, 963, 363], 'confidence': 0.997, 'span': {'offset': 896, 'length': 5}}, {'content': 'dolor', 'polygon': [1039, 335, 1099, 335, 1099, 363, 1039, 363], 'confidence': 0.997, 'span': {'offset': 902, 'length': 5}}, {'content': '·', 'polygon': [857, 372, 868, 372, 868, 397, 856, 396], 'confidence': 0.273, 'span': {'offset': 908, 'length': 1}}, {'content': 'Sit', 'polygon': [884, 372, 914, 372, 913, 397, 884, 397], 'confidence': 0.994, 'span': {'offset': 910, 'length': 3}}, {'content': 'amet', 'polygon': [921, 372, 982, 373, 982, 395, 921, 396], 'confidence': 0.986, 'span': {'offset': 914, 'length': 4}}, {'content': '·', 'polygon': [858, 409, 868, 409, 867, 433, 857, 433], 'confidence': 0.363, 'span': {'offset': 919, 'length': 1}}, {'content': 'Consectetuer', 'polygon': [884, 409, 1037, 409, 1036, 436, 883, 434], 'confidence': 0.995, 'span': {'offset': 921, 'length': 12}}, {'content': 'adipiscing', 'polygon': [1044, 409, 1160, 410, 1159, 437, 1043, 436], 'confidence': 0.993, 'span': {'offset': 934, 'length': 10}}, {'content': '·', 'polygon': [857, 445, 868, 445, 867, 469, 856, 469], 'confidence': 0.564, 'span': {'offset': 945, 'length': 1}}, {'content': 'Sed', 'polygon': [885, 445, 928, 445, 928, 470, 884, 469], 'confidence': 0.998, 'span': {'offset': 947, 'length': 3}}, {'content': 'diam', 'polygon': [937, 445, 991, 446, 990, 471, 936, 470], 'confidence': 0.992, 'span': {'offset': 951, 'length': 4}}, {'content': 'nonummy', 'polygon': [1000, 446, 1113, 448, 1113, 474, 999, 472], 'confidence': 0.995, 'span': {'offset': 956, 'length': 7}}, {'content': '.', 'polygon': [856, 481, 869, 481, 868, 506, 854, 506], 'confidence': 0.655, 'span': {'offset': 964, 'length': 1}}, {'content': 'Nibh', 'polygon': [885, 481, 936, 482, 935, 507, 884, 506], 'confidence': 0.992, 'span': {'offset': 966, 'length': 4}}, {'content': 'euismod', 'polygon': [944, 482, 1039, 482, 1039, 507, 943, 507], 'confidence': 0.993, 'span': {'offset': 971, 'length': 7}}, {'content': 'tincidunt', 'polygon': [1047, 482, 1145, 482, 1145, 507, 1046, 507], 'confidence': 0.995, 'span': {'offset': 979, 'length': 9}}, {'content': '·', 'polygon': [857, 518, 868, 518, 868, 544, 857, 544], 'confidence': 0.586, 'span': {'offset': 989, 'length': 1}}, {'content': 'Laoreet', 'polygon': [885, 518, 970, 519, 970, 543, 884, 544], 'confidence': 0.995, 'span': {'offset': 991, 'length': 7}}, {'content': 'dolore', 'polygon': [978, 519, 1050, 519, 1050, 543, 977, 543], 'confidence': 0.995, 'span': {'offset': 999, 'length': 6}}, {'content': '·', 'polygon': [857, 555, 868, 555, 868, 582, 856, 582], 'confidence': 0.612, 'span': {'offset': 1006, 'length': 1}}, {'content': 'Magna', 'polygon': [884, 555, 962, 556, 961, 583, 884, 583], 'confidence': 0.995, 'span': {'offset': 1008, 'length': 5}}, {'content': 'aliquam', 'polygon': [969, 556, 1060, 556, 1060, 583, 969, 583], 'confidence': 0.995, 'span': {'offset': 1014, 'length': 7}}], 'lines': [{'content': 'Lorem ipsum dolor sit amet, consectetuer adipiscing elit,', 'polygon': [296, 24, 711, 24, 711, 44, 296, 44], 'spans': [{'offset': 0, 'length': 57}]}, {'content': 'sed diam nonummy nibh euismod tincidunt ut laoreet', 'polygon': [297, 44, 687, 44, 687, 62, 297, 63], 'spans': [{'offset': 58, 'length': 50}]}, {'content': 'dolore magna aliquam erat volutpat. Ut wisi enim ad', 'polygon': [297, 63, 682, 62, 682, 81, 297, 82], 'spans': [{'offset': 109, 'length': 51}]}, {'content': 'minim veniam, quis nostrud exerci tation ullamcorper', 'polygon': [298, 82, 685, 82, 685, 101, 298, 101], 'spans': [{'offset': 161, 'length': 52}]}, {'content': 'suscipit lobortis nisi ut aliquip ex ea commodo consequat.', 'polygon': [297, 100, 718, 101, 718, 120, 297, 119], 'spans': [{'offset': 214, 'length': 58}]}, {'content': 'Duis autem vel eum iriure dolor in hendrerit in vulputate.', 'polygon': [298, 119, 708, 120, 708, 139, 298, 138], 'spans': [{'offset': 273, 'length': 58}]}, {'content': 'Lorem ipsum dolor sit amet, consectetuer.', 'polygon': [297, 138, 606, 138, 606, 158, 297, 157], 'spans': [{'offset': 332, 'length': 41}]}, {'content': 'EXPERIENCE', 'polygon': [298, 236, 503, 237, 503, 265, 297, 265], 'spans': [{'offset': 374, 'length': 10}]}, {'content': 'Lorem Ipsum', 'polygon': [298, 325, 461, 325, 461, 351, 298, 351], 'spans': [{'offset': 385, 'length': 11}]}, {'content': '20XX-20YY', 'polygon': [297, 357, 387, 357, 387, 375, 297, 375], 'spans': [{'offset': 397, 'length': 9}]}, {'content': 'Lorem ipsum dolor sit amet, consectetuer adipiscing elit,', 'polygon': [297, 378, 710, 378, 710, 397, 297, 397], 'spans': [{'offset': 407, 'length': 57}]}, {'content': 'sed diam nonummy nibh euismod tincidunt ut laoreet', 'polygon': [297, 397, 686, 397, 686, 415, 297, 415], 'spans': [{'offset': 465, 'length': 50}]}, {'content': 'dolore magna aliquam erat volutpat. Ut wisi enim ad', 'polygon': [297, 417, 681, 416, 681, 435, 297, 436], 'spans': [{'offset': 516, 'length': 51}]}, {'content': 'minim veniam, quis nostrud exerci tation ullamcorper', 'polygon': [297, 435, 685, 435, 685, 453, 297, 453], 'spans': [{'offset': 568, 'length': 52}]}, {'content': 'suscipit lobortis nisi ut aliquip ex ea commodo consequat.', 'polygon': [297, 454, 719, 454, 719, 473, 297, 473], 'spans': [{'offset': 621, 'length': 58}]}, {'content': 'Duis autem vel eum iriure dolor in hendrerit in vulputate.', 'polygon': [295, 472, 709, 472, 709, 491, 295, 491], 'spans': [{'offset': 680, 'length': 58}]}, {'content': 'Dolor Sit Amet', 'polygon': [299, 564, 481, 564, 481, 589, 299, 588], 'spans': [{'offset': 739, 'length': 14}]}, {'content': '20XX-20YY', 'polygon': [297, 596, 387, 596, 387, 613, 297, 613], 'spans': [{'offset': 754, 'length': 9}]}, {'content': 'Lorem insum dolor sit amet, consectetuer adipiscing oli', 'polygon': [297, 618, 698, 618, 698, 627, 297, 628], 'spans': [{'offset': 764, 'length': 55}]}, {'content': '810-555-0140', 'polygon': [853, 0, 1054, 0, 1054, 16, 853, 15], 'spans': [{'offset': 820, 'length': 12}]}, {'content': 'ian_hansson', 'polygon': [888, 48, 1039, 49, 1039, 74, 887, 74], 'spans': [{'offset': 833, 'length': 11}]}, {'content': 'hansson@example.com', 'polygon': [889, 108, 1169, 108, 1169, 135, 889, 134], 'spans': [{'offset': 845, 'length': 19}]}, {'content': 'www.example.com', 'polygon': [888, 167, 1109, 167, 1109, 193, 888, 193], 'spans': [{'offset': 865, 'length': 15}]}, {'content': 'SKILLS', 'polygon': [855, 237, 958, 238, 958, 265, 855, 265], 'spans': [{'offset': 881, 'length': 6}]}, {'content': '· Lorem ipsum dolor', 'polygon': [853, 335, 1098, 335, 1098, 362, 853, 362], 'spans': [{'offset': 888, 'length': 19}]}, {'content': '· Sit amet', 'polygon': [856, 371, 981, 371, 981, 396, 856, 396], 'spans': [{'offset': 908, 'length': 10}]}, {'content': '· Consectetuer adipiscing', 'polygon': [857, 409, 1159, 410, 1158, 436, 856, 434], 'spans': [{'offset': 919, 'length': 25}]}, {'content': '· Sed diam nonummy', 'polygon': [856, 445, 1112, 447, 1112, 473, 856, 469], 'spans': [{'offset': 945, 'length': 18}]}, {'content': '. Nibh euismod tincidunt', 'polygon': [854, 481, 1144, 481, 1144, 506, 854, 506], 'spans': [{'offset': 964, 'length': 24}]}, {'content': '· Laoreet dolore', 'polygon': [856, 517, 1049, 517, 1049, 543, 856, 543], 'spans': [{'offset': 989, 'length': 16}]}, {'content': '· Magna aliquam', 'polygon': [856, 555, 1059, 555, 1059, 582, 856, 582], 'spans': [{'offset': 1006, 'length': 15}]}], 'spans': [{'offset': 0, 'length': 1021}]}], 'paragraphs': [{'spans': [{'offset': 0, 'length': 373}], 'boundingRegions': [{'pageNumber': 1, 'polygon': [296, 24, 718, 24, 718, 158, 296, 158]}], 'content': 'Lorem ipsum dolor sit amet, consectetuer adipiscing elit, sed diam nonummy nibh euismod tincidunt ut laoreet dolore magna aliquam erat volutpat. Ut wisi enim ad minim veniam, quis nostrud exerci tation ullamcorper suscipit lobortis nisi ut aliquip ex ea commodo consequat. Duis autem vel eum iriure dolor in hendrerit in vulputate. Lorem ipsum dolor sit amet, consectetuer.'}, {'spans': [{'offset': 374, 'length': 10}], 'boundingRegions': [{'pageNumber': 1, 'polygon': [297, 236, 503, 236, 503, 265, 297, 265]}], 'content': 'EXPERIENCE'}, {'spans': [{'offset': 385, 'length': 21}], 'boundingRegions': [{'pageNumber': 1, 'polygon': [297, 325, 461, 325, 461, 375, 297, 375]}], 'content': 'Lorem Ipsum 20XX-20YY'}, {'spans': [{'offset': 407, 'length': 331}], 'boundingRegions': [{'pageNumber': 1, 'polygon': [295, 378, 719, 378, 719, 491, 295, 491]}], 'content': 'Lorem ipsum dolor sit amet, consectetuer adipiscing elit, sed diam nonummy nibh euismod tincidunt ut laoreet dolore magna aliquam erat volutpat. Ut wisi enim ad minim veniam, quis nostrud exerci tation ullamcorper suscipit lobortis nisi ut aliquip ex ea commodo consequat. Duis autem vel eum iriure dolor in hendrerit in vulputate.'}, {'spans': [{'offset': 739, 'length': 24}], 'boundingRegions': [{'pageNumber': 1, 'polygon': [297, 564, 481, 564, 481, 613, 297, 613]}], 'content': 'Dolor Sit Amet 20XX-20YY'}, {'spans': [{'offset': 764, 'length': 55}], 'boundingRegions': [{'pageNumber': 1, 'polygon': [297, 618, 698, 618, 698, 628, 297, 628]}], 'content': 'Lorem insum dolor sit amet, consectetuer adipiscing oli'}, {'spans': [{'offset': 820, 'length': 12}], 'boundingRegions': [{'pageNumber': 1, 'polygon': [853, 0, 1054, 0, 1054, 16, 853, 16]}], 'content': '810-555-0140'}, {'spans': [{'offset': 833, 'length': 11}], 'boundingRegions': [{'pageNumber': 1, 'polygon': [887, 48, 1039, 48, 1039, 74, 887, 74]}], 'content': 'ian_hansson'}, {'spans': [{'offset': 845, 'length': 19}], 'boundingRegions': [{'pageNumber': 1, 'polygon': [889, 108, 1169, 108, 1169, 135, 889, 135]}], 'content': 'hansson@example.com'}, {'spans': [{'offset': 865, 'length': 15}], 'boundingRegions': [{'pageNumber': 1, 'polygon': [888, 167, 1109, 167, 1109, 193, 888, 193]}], 'content': 'www.example.com'}, {'spans': [{'offset': 881, 'length': 6}], 'boundingRegions': [{'pageNumber': 1, 'polygon': [855, 237, 958, 237, 958, 265, 855, 265]}], 'content': 'SKILLS'}, {'spans': [{'offset': 888, 'length': 19}], 'boundingRegions': [{'pageNumber': 1, 'polygon': [853, 335, 1098, 335, 1098, 362, 853, 362]}], 'content': '· Lorem ipsum dolor'}, {'spans': [{'offset': 908, 'length': 10}], 'boundingRegions': [{'pageNumber': 1, 'polygon': [856, 371, 981, 371, 981, 396, 856, 396]}], 'content': '· Sit amet'}, {'spans': [{'offset': 919, 'length': 25}], 'boundingRegions': [{'pageNumber': 1, 'polygon': [856, 408, 1159, 410, 1159, 436, 856, 434]}], 'content': '· Consectetuer adipiscing'}, {'spans': [{'offset': 945, 'length': 18}], 'boundingRegions': [{'pageNumber': 1, 'polygon': [856, 445, 1112, 447, 1112, 473, 856, 471]}], 'content': '· Sed diam nonummy'}, {'spans': [{'offset': 964, 'length': 24}], 'boundingRegions': [{'pageNumber': 1, 'polygon': [854, 481, 1144, 481, 1144, 506, 854, 506]}], 'content': '. Nibh euismod tincidunt'}, {'spans': [{'offset': 989, 'length': 16}], 'boundingRegions': [{'pageNumber': 1, 'polygon': [856, 517, 1049, 517, 1049, 543, 856, 543]}], 'content': '· Laoreet dolore'}, {'spans': [{'offset': 1006, 'length': 15}], 'boundingRegions': [{'pageNumber': 1, 'polygon': [856, 555, 1059, 555, 1059, 582, 856, 582]}], 'content': '· Magna aliquam'}], 'styles': [], 'contentFormat': 'text'}}\n"
     ]
    }
   ],
   "source": [
    "import gradio as gr\n",
    "import requests\n",
    "import time\n",
    "from PIL import Image, ImageDraw\n",
    "import random\n",
    "\n",
    "def random_color():\n",
    "    return(random.randint(0, 255), random.randint(0, 255), random.randint(0, 255))\n",
    "\n",
    "\n",
    "\n",
    "# prebuild-read 호출하는 메소드\n",
    "def request_document_intelligence(file_path):\n",
    "    endpoint = end_point\n",
    "    headers = {\n",
    "        \"Ocp-Apim-Subscription-Key\" : ocp_key,\n",
    "        \"Content-Type\" : \"image/png\"\n",
    "\n",
    "    }\n",
    "\n",
    "    # file_path로부터 파일을 읽음(이미지) -> 바이너리로 불러오기 -> request body에 넣음\n",
    "    with open(file_path, \"rb\") as image:\n",
    "        image_data = image.read()\n",
    "    \n",
    "    response = requests.post(endpoint, headers=headers, data=image_data)\n",
    "    #print(response.status_code, response.headers)\n",
    "\n",
    "    if response.status_code == 202:\n",
    "        result_url = response.headers['Operation-Location']\n",
    "\n",
    "        while(True):\n",
    "            result_response = requests.get(result_url, headers = {\n",
    "                \"Ocp-Apim-Subscription-Key\" : headers[\"Ocp-Apim-Subscription-Key\"]\n",
    "\n",
    "            })\n",
    "\n",
    "            result_response_json = result_response.json()\n",
    "            result_status = result_response_json['status']\n",
    "\n",
    "            if result_status == \"running\":\n",
    "                print(result_status)\n",
    "                time.sleep(1)\n",
    "                continue\n",
    "\n",
    "            else:\n",
    "                break\n",
    "\n",
    "        if result_status == \"succeeded\":\n",
    "            print(result_status)\n",
    "            print(result_response_json)\n",
    "            return result_response_json\n",
    "        else:\n",
    "            return \"\"\n",
    "\n",
    "        print(result_url)\n",
    "\n",
    "\n",
    "    \n",
    "    \n",
    "\n",
    "    return \"\"\n",
    "\n",
    "\n",
    "\n",
    "\n",
    "# polugon data + 입력이미지를 받아서 네모 박스를 그려주는 메소드\n",
    "def draw_image(file_path, result_response):\n",
    "    image = Image.open(file_path)\n",
    "    draw = ImageDraw.Draw(image)\n",
    "\n",
    "    # polygone 그려주기\n",
    "    block_list = result_response['analyzeResult']['paragraphs']\n",
    "\n",
    "    for block in block_list:\n",
    "        line_color = random_color()\n",
    "        polygon_list = block['boundingRegions'][0]['polygon']\n",
    "        points = [(polygon_list[i], polygon_list[i+1]) for i in range(0, len(polygon_list), 2)] # 좌표를 튜플형으로 변환\n",
    "\n",
    "        content = block['content']\n",
    "\n",
    "        # point_list = list()\n",
    "        # for i in range(0, len(polygon_list), 2):\n",
    "        #     point_list.append((point_list[i], point_list[i+1]))\n",
    "        \n",
    "        draw.polygon(points, outline=line_color, width=2)\n",
    "        draw.text((points[0][0], points[0][1] - 10), content, fill=line_color)\n",
    "        #print(polygon_list)\n",
    "\n",
    "\n",
    "    return image\n",
    "\n",
    "with gr.Blocks() as demo:\n",
    "\n",
    "    def click_send(file_path):\n",
    "        result_response = request_document_intelligence(file_path)\n",
    "        image = draw_image(file_path, result_response)\n",
    "        return image\n",
    "\n",
    "    input_image = gr.Image(label=\"입력 이미지\", type=\"filepath\")\n",
    "    send_button = gr.Button(\"전송\")\n",
    "    output_image = gr.Image(label=\"출력 이미지\", interactive=False, type = \"pil\")\n",
    "\n",
    "    send_button.click(click_send, inputs = [input_image], outputs =[output_image])\n",
    "\n",
    "demo.launch()\n",
    "# file = \"../document-intelligence/read-resume.png\"\n",
    "# result_response = request_document_intelligence(file)\n",
    "# print(result_response)\n",
    "# draw_image(file, result_response)"
   ]
  },
  {
   "cell_type": "code",
   "execution_count": null,
   "metadata": {},
   "outputs": [],
   "source": []
  }
 ],
 "metadata": {
  "kernelspec": {
   "display_name": "openai",
   "language": "python",
   "name": "python3"
  },
  "language_info": {
   "codemirror_mode": {
    "name": "ipython",
    "version": 3
   },
   "file_extension": ".py",
   "mimetype": "text/x-python",
   "name": "python",
   "nbconvert_exporter": "python",
   "pygments_lexer": "ipython3",
   "version": "3.13.2"
  }
 },
 "nbformat": 4,
 "nbformat_minor": 2
}
