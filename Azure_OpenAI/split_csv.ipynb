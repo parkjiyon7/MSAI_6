{
 "cells": [
  {
   "cell_type": "code",
   "execution_count": null,
   "metadata": {},
   "outputs": [
    {
     "name": "stdout",
     "output_type": "stream",
     "text": [
      "Created: 서울 레스토랑 정보_1.csv (10.07 MB)\n",
      "Created: 서울 레스토랑 정보_2.csv (1.89 MB)\n"
     ]
    }
   ],
   "source": [
    "import os  \n",
    "import pandas as pd  \n",
    "  \n",
    "def split_csv(file_path, max_size_mb=10):  \n",
    "    # 최대 크기를 바이트 단위로 계산  \n",
    "    max_size = max_size_mb * 1024 * 1024  \n",
    "      \n",
    "    # CSV 파일을 읽어옵니다.  \n",
    "    df = pd.read_csv(file_path, chunksize=10000)  # chunk 단위로 읽기  \n",
    "  \n",
    "    part_number = 0  \n",
    "    current_size = 0  \n",
    "    current_df = pd.DataFrame()  \n",
    "  \n",
    "    for chunk in df:  \n",
    "        current_df = pd.concat([current_df, chunk])  \n",
    "        current_size += chunk.memory_usage(index=True).sum()  # 현재 DataFrame의 크기 계산  \n",
    "  \n",
    "        # 현재 DataFrame의 크기가 max_size를 초과하면 파일로 저장  \n",
    "        if current_size >= max_size:  \n",
    "            output_file = f\"{file_path.rsplit('.', 1)[0]}_part{part_number + 1}.csv\"  \n",
    "            current_df.to_csv(output_file, index=False)  \n",
    "            print(f\"Created: {output_file} ({current_size / (1024 * 1024):.2f} MB)\")  \n",
    "            part_number += 1  \n",
    "            current_df = pd.DataFrame()  # 현재 DataFrame 초기화  \n",
    "            current_size = 0  # 현재 크기 초기화  \n",
    "  \n",
    "    # 남아 있는 데이터가 있다면 마지막 파일로 저장  \n",
    "    if not current_df.empty:  \n",
    "        output_file = f\"{file_path.rsplit('.', 1)[0]}_part{part_number + 1}.csv\"  \n",
    "        current_df.to_csv(output_file, index=False)  \n",
    "        print(f\"Created: {output_file} ({current_size / (1024 * 1024):.2f} MB)\")  \n",
    "  \n",
    "# 사용 예시  \n",
    "split_csv('서울 레스토랑 정보.csv', max_size_mb=10)  \n"
   ]
  },
  {
   "cell_type": "code",
   "execution_count": null,
   "metadata": {},
   "outputs": [],
   "source": []
  }
 ],
 "metadata": {
  "kernelspec": {
   "display_name": "openai",
   "language": "python",
   "name": "python3"
  },
  "language_info": {
   "codemirror_mode": {
    "name": "ipython",
    "version": 3
   },
   "file_extension": ".py",
   "mimetype": "text/x-python",
   "name": "python",
   "nbconvert_exporter": "python",
   "pygments_lexer": "ipython3",
   "version": "3.11.9"
  }
 },
 "nbformat": 4,
 "nbformat_minor": 2
}
