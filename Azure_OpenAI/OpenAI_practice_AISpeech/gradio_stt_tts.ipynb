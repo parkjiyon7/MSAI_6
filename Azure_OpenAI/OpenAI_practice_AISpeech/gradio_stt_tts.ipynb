{
 "cells": [
  {
   "cell_type": "markdown",
   "metadata": {},
   "source": [
    " # Open AI Speech Studio\n"
   ]
  },
  {
   "cell_type": "markdown",
   "metadata": {},
   "source": [
    "음성으로 받음 -> 텍스트로 변환 -> 프롬프트로 활용하여 ai에 입력 -> 받은 답변을 음성으로 변환"
   ]
  },
  {
   "cell_type": "markdown",
   "metadata": {},
   "source": [
    "## STT 연결"
   ]
  },
  {
   "cell_type": "code",
   "execution_count": null,
   "metadata": {},
   "outputs": [],
   "source": []
  },
  {
   "cell_type": "code",
   "execution_count": 3,
   "metadata": {},
   "outputs": [
    {
     "name": "stdout",
     "output_type": "stream",
     "text": [
      "200 {\"RecognitionStatus\":\"Success\",\"Offset\":700000,\"Duration\":395200000,\"DisplayText\":\"데이터.테스트 및 끝점 같은 콘텐츠는 사용자 지정 음성 포털에서 프로젝트로 구성됩니다.각 프로젝트는 도메인 및 국가 슬래시 언어에만 적용됩니다.예를 들어 미국에서 영어를 사용하는 콜센터에 대한 프로젝트를 만들 수 있습니다.1번째 프로젝트를 만들려면 음성 텍스트 슬래시 사용자 지정 음성 선택한 다음 세 프로젝트를 클릭합니다.프로젝트를 만들려면 마법사에서 제공하는 지침을 따릅니다.프로젝트를 만든 후 내게 탭이 표시됩니다. 데이터 테스트 학습 및 배포.닭을 사용하는 방법을 배우려면 다음 단계에서 제공되는 링크를 사용합니다.\",\"NBest\":[{\"Confidence\":0.9471616,\"Lexical\":\"데이터 테스트 및 끝점 같은 콘텐츠는 사용자 지정 음성 포털에서 프로젝트로 구성됩니다 각 프로젝트는 도메인 및 국가 슬래시 언어에만 적용됩니다 예를 들어 미국에서 영어를 사용하는 콜센터에 대한 프로젝트를 만들 수 있습니다 첫 번째 프로젝트를 만들려면 음성 텍스트 슬래시 사용자 지정 음성 선택한 다음 세 프로젝트를 클릭합니다 프로젝트를 만들려면 마법사에서 제공하는 지침을 따릅니다 프로젝트를 만든 후 내게 탭이 표시됩니다 데이터 테스트 학습 및 배포 닭을 사용하는 방법을 배우려면 다음 단계에서 제공되는 링크를 사용합니다\",\"ITN\":\"데이터 테스트 및 끝점 같은 콘텐츠는 사용자 지정 음성 포털에서 프로젝트로 구성됩니다 각 프로젝트는 도메인 및 국가 슬래시 언어에만 적용됩니다 예를 들어 미국에서 영어를 사용하는 콜센터에 대한 프로젝트를 만들 수 있습니다 1번째 프로젝트를 만들려면 음성 텍스트 슬래시 사용자 지정 음성 선택한 다음 세 프로젝트를 클릭합니다 프로젝트를 만들려면 마법사에서 제공하는 지침을 따릅니다 프로젝트를 만든 후 내게 탭이 표시됩니다 데이터 테스트 학습 및 배포 닭을 사용하는 방법을 배우려면 다음 단계에서 제공되는 링크를 사용합니다\",\"MaskedITN\":\"데이터 테스트 및 끝점 같은 콘텐츠는 사용자 지정 음성 포털에서 프로젝트로 구성됩니다 각 프로젝트는 도메인 및 국가 슬래시 언어에만 적용됩니다 예를 들어 미국에서 영어를 사용하는 콜센터에 대한 프로젝트를 만들 수 있습니다 1번째 프로젝트를 만들려면 음성 텍스트 슬래시 사용자 지정 음성 선택한 다음 세 프로젝트를 클릭합니다 프로젝트를 만들려면 마법사에서 제공하는 지침을 따릅니다 프로젝트를 만든 후 내게 탭이 표시됩니다 데이터 테스트 학습 및 배포 닭을 사용하는 방법을 배우려면 다음 단계에서 제공되는 링크를 사용합니다\",\"Display\":\"데이터. 테스트 및 끝점 같은 콘텐츠는 사용자 지정 음성 포털에서 프로젝트로 구성됩니다. 각 프로젝트는 도메인 및 국가 슬래시 언어에만 적용됩니다. 예를 들어 미국에서 영어를 사용하는 콜센터에 대한 프로젝트를 만들 수 있습니다. 1번째 프로젝트를 만들려면 음성 텍스트 슬래시 사용자 지정 음성 선택한 다음 세 프로젝트를 클릭합니다. 프로젝트를 만들려면 마법사에서 제공하는 지침을 따릅니다. 프로젝트를 만든 후 내게 탭이 표시됩니다. 데이터 테스트 학습 및 배포. 닭을 사용하는 방법을 배우려면 다음 단계에서 제공되는 링크를 사용합니다.\"}]}\n"
     ]
    },
    {
     "data": {
      "text/plain": [
       "'데이터.테스트 및 끝점 같은 콘텐츠는 사용자 지정 음성 포털에서 프로젝트로 구성됩니다.각 프로젝트는 도메인 및 국가 슬래시 언어에만 적용됩니다.예를 들어 미국에서 영어를 사용하는 콜센터에 대한 프로젝트를 만들 수 있습니다.1번째 프로젝트를 만들려면 음성 텍스트 슬래시 사용자 지정 음성 선택한 다음 세 프로젝트를 클릭합니다.프로젝트를 만들려면 마법사에서 제공하는 지침을 따릅니다.프로젝트를 만든 후 내게 탭이 표시됩니다. 데이터 테스트 학습 및 배포.닭을 사용하는 방법을 배우려면 다음 단계에서 제공되는 링크를 사용합니다.'"
      ]
     },
     "execution_count": 3,
     "metadata": {},
     "output_type": "execute_result"
    }
   ],
   "source": [
    "import gradio as gr\n",
    "import requests\n",
    "\n",
    "def request_stt(file_path):\n",
    "    # endpoint\n",
    "    endpoint = end_point\n",
    "\n",
    "    query_params = {\n",
    "        \"language\" : \"ko-KR\",\n",
    "        \"format\" : \"detailed\"\n",
    "    }\n",
    "    # method:POST\n",
    "    # headers\n",
    "    headers = {\n",
    "        \"Content-Type\" : \"audio/wav\",\n",
    "        \"Ocp-Apim-Subscription-Key\" : stt_key\n",
    "\n",
    "    }\n",
    "    # body\n",
    "    with open(file_path, \"rb\") as audio:\n",
    "        audio_data = audio.read()\n",
    "\n",
    "\n",
    "    response = requests.post(endpoint, params=query_params, headers=headers, data = audio_data)\n",
    "    print(response.status_code, response.text)\n",
    "\n",
    "\n",
    "    if response.status_code == 200:\n",
    "        response_json = response.json()\n",
    "        text = response_json['DisplayText']\n",
    "\n",
    "        return text\n",
    "    \n",
    "    else:\n",
    "        return \"\"\n",
    "\n",
    "\n",
    "request_stt(\"data/audio1.wav\")"
   ]
  },
  {
   "cell_type": "markdown",
   "metadata": {},
   "source": [
    "### Graido로 구성"
   ]
  },
  {
   "cell_type": "code",
   "execution_count": 4,
   "metadata": {},
   "outputs": [
    {
     "name": "stdout",
     "output_type": "stream",
     "text": [
      "* Running on local URL:  http://127.0.0.1:7860\n",
      "\n",
      "To create a public link, set `share=True` in `launch()`.\n"
     ]
    },
    {
     "data": {
      "text/html": [
       "<div><iframe src=\"http://127.0.0.1:7860/\" width=\"100%\" height=\"500\" allow=\"autoplay; camera; microphone; clipboard-read; clipboard-write;\" frameborder=\"0\" allowfullscreen></iframe></div>"
      ],
      "text/plain": [
       "<IPython.core.display.HTML object>"
      ]
     },
     "metadata": {},
     "output_type": "display_data"
    }
   ],
   "source": [
    "with gr.Blocks() as demo:\n",
    "\n",
    "    gr.Markdown(\"# AI Speech World!\")\n",
    "\n",
    "    def change_audio(audio_path):\n",
    "        return audio_path\n",
    "\n",
    "\n",
    "    with gr.Column():\n",
    "        gr.Markdown(\"### STT ###\")\n",
    "\n",
    "        input_mic = gr.Audio(label=\"마이크 입력\", sources=\"microphone\", type=\"filepath\", show_download_button=True)\n",
    "        output_textbox = gr.Textbox(label=\"텍스트\", interactive=False)\n",
    "\n",
    "        input_mic.change(change_audio, inputs=[input_mic], outputs=[output_textbox])\n",
    "\n",
    "    demo.launch()"
   ]
  },
  {
   "cell_type": "markdown",
   "metadata": {},
   "source": [
    "## TTS"
   ]
  },
  {
   "cell_type": "code",
   "execution_count": null,
   "metadata": {},
   "outputs": [],
   "source": []
  },
  {
   "cell_type": "code",
   "execution_count": 6,
   "metadata": {},
   "outputs": [
    {
     "name": "stdout",
     "output_type": "stream",
     "text": [
      "200 ����\u0000\u0000\u0000\u0003H\u0001@\u0000\u0000LAME3.100UUUUUUUUUUUUUUUUUUUUUUUUUUUUUUUUUUUUUUUUUUUUUUUUUUUUUUUUUUUUUUUUUUUUUUUUUUUUUUUUUUUUUUUUUUUUUUUUUUUUUUUUUUUUUUUUUUUUUUUUUUUUUUUUUUUUUUUUUUUUUUUUUUUUUUUUUUUUUUUUUUUUUUUUUUUUUUUUUUUUUUUUUUUUUUUUUUUUUUUUUUUUUUUUUUUUUUUUUUUUUUUUUUUUUUUUUUUUUUUUUUUUUUUUUUUUUUUUUUUUUUUUUUUUUUUUUUUUUUUUUUUUUUUUUUUUUUUUUUULAME3.100UUUUUUUUUUUUUUUUUUUUUUUUUUUUUUUUUUUUUUUUUUUUUUUUUUUUUUUUUUUUUUUUUU�e�\u0001 vk\u0012��I&��`�\u0003�\u000f�rk��\u0006~�\u0005�\u0005\u0001\u0000XiȎ��A��\u0003�\u0000 \u0018`�\u0000~��ce\u0006|,���a�\u0018\n",
      "�\"y��\t��$a�����T\u0010\u0004\u0000�\u0004_\f\u0002̙?�m?L�>́KL\u000e!���Ā49���0�\u000e/4�d�\u000e�p��Q�\n",
      "P�S'���\u0014\u0002(�`\u0006\u0018\u0001�/K��t\u0004o\u0019�e\u001b�b�X�\u001a�Z\u000f\u0019_�����Ĵy�\u0015p\u0001��\u0000���\n",
      "�\u0010�0�,�\u0010\f�\u0001\u0003�@P\u0018b��i)rcJ�h�tkr8jI j�\fc�zp1��������\u0019`\u0018\u001c\u0006�&\u000f��\u001a��P@(_\u0000`\u0014\u0002\t\f6\u0004��gM�<��NK\u0007\u000en~��r�L��H\tO6��N�Oi�ͼ~�������\u0012\u000e�:\u0000�V\u0006ʗXp\u0000��\u0004\f\f�a�\u001fVD�b\u0007c���8G����XGF)�\u000bJA\u0017��%���Y�b1�Ha�g\u0001�J������g������������\u0006\u0000\u0002`\u000e`�\u00028\u0000\u0006\u0001\u0001\u0000C��\u0003\u0000��\u000e\u0018\u0005�*\u0000�B|,G�; f��f5�f\u0007�G\u0007+�e�\u0006�'�&�&�\u0002Ƥ�&ڝ&S�杍��'Ǝ�G\u0004<\u0001�A�\n",
      "Q��9�$zLAME3.100��������������������������������������������������������������������\u0010�\u0002�(\u0011A@\u0014H\u0004f\u001b��j���> \u0001� 70\u001f\u00023#`�3p#�v\f\u0001#\u0002P\u0007e�#�\u0001�� \u0004\u0002D3\u0010��\u0000����&��6\u0019\u0004�ʕ8(\u0013\u0018^\u0002�\u0000�\t<L�t2�(��S\u0010\u0016��bnФhT��a\u0000b$.�\"\u0011����HP\u001a�n�b�\n",
      "f\u0006��\n",
      "\u0000 ��\u000b\u000e${B1�\u001cH`a���ˡ\u0002�`\u001c��(��c�wB\u0003�-��\u0015\n",
      "ŀ\u0001\u0002�\u0005���Ĳy�\u0015�\t��\u0000\u0002K�\n",
      "\n",
      "\u0017�\u0014��\u0006?\t\u001a�\u0017�\u001b��!�\u001a\u001d\u0005\u000e�S��!/}\u0015\"�G@ h\u0004|�\f\u000e\u001b\u0000\u0003�\"\u00001p�\u0005�8@\u0015��\u0017N�\u0004-�s)s9/��K�`\u0003�_���j�\u001c\u0007P昜 �\t�B� �q��a\u0003\u0017\u0006�b\u001d0�(�\u0003�\u0010\u001c���ޫ��J=��\u0010`��i���R\u0000\u001c%�`K�B��4C�Pb,=\u0006\n",
      "��\u0004B�t�\u0012>�p\f\u001c3LAME3.100��������������������������������������������������������������������\u0012bb�A�!�$aH^F��b\f6�'fv<l�\u0004�x`�$�\u0015��`\u0004\u001a�\n",
      " �`�\u0003\u0001�.a.\t�\u0002@�`D\u0019�\u0000�vaR\u0005�\u0004@�`f\u0001D�\u0012\u0001\u000600Q\u00186����<�\u001e\u0002Q�(o�����T~d�\u001a��\\��6a�\u0019B\u0006\u0018�(a�x���\u0007����\u0002�\u00196�Hpt\u0014�8�L��\"g�@&$8a�\u0012dP��\u000e\u0010\u0003V\u0010)�\u0006\\D\u0000���ĲyT\u0015�1��\u0000\n",
      "D\u00148�\u001b4)�\u0011�88|\u0018�1\t�\\|Ԟ0�M(�h#Np�\tT@!��\u0002�V��ei0\u0001IN\u0001\u0000��5�\u0010�\"L�6\u0017\u0002�*\n",
      "��E\u00169�\n",
      "c\u0007�\u0015\n",
      "\u00100�@S��.,\u001cX���8b\u0010M p+��Щ8�hT�E��h\u0014\u0007A#�\\EfEb͢������ \u0004\\\\�z�\n",
      "53g�\u001f9�W\u0000\"M\\��\u0018����AO&�s\f�C�247�1�\u0000�k,d,h\u000e\u0018��\u0010g\u0001\u0005\u000f@� uF�aH���Z\u0005~%2T\u0011P\u00145�\u001e\u0012�\u0013����Xb�\u0016\t��pP�pB���\u0001Π68{�H4�|\u0015USN��P`\u001d4�\u001f���h��qn\u0016p\f�c���\u000b\"\u0012�J\u0000�\u0019x\u000b���ǥ�lB@\u0011\u0019\u0019*LAME3.100��������������������������������������������������������������������������������������������������������������������������������������������������������������\u0000ei�c�3\n",
      "\u0018�ˡ#�b��J�-�xS�LY�\u0002��\u0016�n�Be��\u0010\u0004\u0005�u\u0015U\u0001������V&P䵵\u0014i�p\u000e\"��t�-�\u001f��[v�:%Io�\tK�]X�\u001d\u0010��\n",
      "�E�V�]�@�\u0018x�3�\u001d��\u001f\u0018>\u0001��LAME3.100UUUUUUUUUUUUUUUUUUUUUUUUUUUUUUUUUUUUUUUUUUUUUUUUUUUUUUUUUUUUUUUUUUUUUUUUUUU\t�2\u0018�5�\u00044(Y4P�8`96i>2��4`\u001e1��1<b2\u0018\u001e0�6ɀ�p�\n",
      "\u0019�U�*�j*\u0014\u001aP&\u001cxP��0l̇SKT\u00153#�h�PRC\u001a�ӓ8r����7-N�033l��\fuK\u0003���V�Ɵ1`E\u0002���4bLH�י\u0013`��\u0005Ƙ�����īw�\u0015�]�\u0000>\u0004\u0016\u0005&aŮ�˙\u0011�D a�\u0006#.*\u0004\u000531���Ç��@0F\u0018\f\u0010BQ\u0013\u0015ɀ\u0000�&$Z\u0000�P�0f���2cU��fLY�Lf�\u0018\"\u0006\u0010q�\u0014�@�\u0018��<a\u0010\f�@�\u0000P�\u00188�\u00142\u0000��\f\u000b\u0014(f�.B�\u0019�\u0004�L\u0000C(\u0019y��$\n",
      "��B�!�H,��,\n",
      "�dF\u0010\u0000C\u0000��B�@\u0004\f�e�~�\u0010\u0000gk�;Ri�.�cFO\u0014nO��e�\u0004qeQ\u0000�\u0005wm��DB ё�gĖ\u0006\u0004\u0018\u0002��U:d��p��C����Z��E�84Ň\u0011��sXS�\f\u0004���E\u0002Kd�W�q0 �\u0002�8q�Vq*(���`h�\u000e(���8kqvܐ\u000b/X�ؤ\u0015����R���\n",
      "\b�\u0012\u0011;\u0016Z�G�F�LAME3.100���������������������������������������������������������\u0000\f$\u0000\n",
      "B\u0001�0h\u0017(#L�2MTmN\u0007��A�|\f�\u001d�J#��[�8\u0007\u001a�mB\fJ\u0011��\u001a�q\u000b�@\u001e2\u0003\u0006\u0003�\f`�\u0006\u0002l\u0002f �(`DH�G��D\u0006�\u0002�\u0000\u0000\u0010\u001c\u0018'��h!�\\�y��1\u001a<�y�X�\u0019�ᄠ:�\\I\u001a�\u0017x��\u0012�\u0003�<��4�8�\u0014�\u001c#LG\u0001���\u0000�h��Ì(�|B�\u0014\u0005%�U��r4`�\u000f\u0006\f�\n",
      "`�\u0000�\u0002�4B\u0001a\u0000���Ľ|4\u0016IO��\u0000\u001ecD(�\u0014�x\u0006\u0016�\u0004@m0L\u0000�\u0002�6���WD�%\u001d.:~/��`,\u0002KD\f\u0000d �`L\u0002F\u0007@0\u0018\u0007B\u0000!0\"\u0002�\u0002�#elM�Z�ů\u0017����\u0017\u000e\u0003c\u0004��0�\u0006�\u0004�\u001a\u001a\u0001�\u0001�)�\n",
      "\u0001L0~\u0003\u0013\u000b�V0h\u000500L\u0000�\u0014��\u000e�\t\u0000Xh(݇����]�\u00169b�����,G��#\u00001�\u0007��\u0010�4�\u0002�|@\u0005�\u0003\u00000\u0002\u0001S\u0001�\u0010\u0016\u00023\u0000�\u0001\n",
      "�\ftd\u0002K~[Jy|����\"�߂c����\u000f�ð�\u001b\u0013�L�\u001d[Sը��Ec�\u0013�fo[�\u001c\u0000k���\u0000\u0019\u0001Z�z�ϴ�*~Tݿ*�51'�9q~[���v���[|������,�x�4f\u000e�\u001fgZY.k�\u0011���B\u001f� \t�\n",
      "�\u001eLAME3.100�����������������������������������������������������������q�\u0000f\t\n",
      "�D\u000e�R�1h�Ă� h�g�!\t�\u0004��$�\u0006\u0010�$\u001d0��B50Hp���\u0000���Ļ{�\u0016\\\u0003��\u0000\u0018��\u0013\u0000�\u0001�\u0010\u0016\u0003\u0003&\u0004\u00072��\u0002\u0000(�pX\\\u000e\u0000�\u0003fK\u0019(\u0014c�1��f\u000b\u0003�OB��\u0018\t�d��0�@��S\u0017*L\u0018v\u001d\u0007�\u000b��S\n",
      "\u000b\u000fD`�k18\u001c�:,)\u001c\t\u0010�E\u0001�\u0001c\t\u0002и*,\u0018\u0005�\u0010\u0007@���\u0005���@\u0005�\u0016\u0003:\n",
      "�\u0018�2�#�\u001e�z0 \u000f\u0013\u0013ad2�\f\u0003,� :�\t\u000f�\u001a�Vm6}�A\f��j͉s?��U�x\u001f�¦����\"�k��ѥm�A������\u001b���0\u0007]⡗ʪK$�\u000b��Y�f��Ud�\u001b\\��C\u0012%+`�\u001ar%Ũ���w��}�0�����\\5�P\u0015ʪ�*l�J\\�^5HҪLAME3.100����������������������������������������������������������0\u0013\u0005C\u0006�\\09\f�TsE0�\u000f\u0011�j0OrS\u0012��1i\n",
      "\u0005\u00188&<\u0010X�r��b`\u0010a�@�@�\u0001�\f^.1\u0018x�\u0016``I��&\u001c\u0004�\u0001p�\u0000\u0016\u0000��U:X`4\f\u000e\u0001[~�K\u001ct�X~&0�w��f(�<N\u0015f���z\u001c�]�eN\u0013*\\̺��&*�9To��\u0019u�o��\"�/춂zT�D��v[wN��/�<�\u0019we3O�Er�\u0017%r�Y���0�QI\u0014Q/H(\u001a�\u000b���\u0000p\u0005@A�\u0010�K��h�����\u0000��XĠ�\u0014��\u0016�\u0019$\u0019�$lY�����\u0019���`ۜ��f\u0001ٛ�&�G��\u0012H83�����PJ \u0001\u0016��b���\u0010\u000ea������!�Æ\n",
      "��Uf0��e�\u0015u(\u0014l�\u0007�ņ*LAME3.100�������������������������������������������������������������������������\u0003\u0000v`\u0012�.`\u001a\u0002�c�\u001d�e∮a��b\u0003\u0010�h�)�dB��e�pg0�i�>r��jZ�l��p[Pg�\n",
      "\u001b2bb� �PF0h!�\u0014\u001ecC�&\u001ac$���h�+\u00020����!(\u0002\u0014\u0014\u0003\u0018Q\u0018\u0010��\u0006��<T8��L�\\݀L�1��p��Ph\t$�\u0000 \u0000&�)�p \u0005\u0007�q�II��]JTJb��⅀\u0014��Iݥ샬�y\u0000�\u0001J��Vݒ^��*�2Vp��D�[<e\n",
      "'\u0002�\u0000b�\u0003\u0010���\u0012\u0001����\u0000�\u0000\u001c\u0018\\P\u0002bEf\fj40\u0006\u00133�@���Ķz�\u00164\u0000��\t\u0019�+\f��J)�\u001b\u001a�\u0010\u0000�1y\u001e�l@ ��D�J&B��ҽ\u0013�B�q�PqeSQ0\u0010�\u0016`D�\f��D\u0001șk�B6�\u00030c�\u0011y��Bh�d$\u0006$�<�\u0003{\"�\u000eA�Qؑ�\u0018g�PF\u001dg̠P�YH�fKC\"��(��8�PD\"��\u001e(\u0000:�$�\u000b\u000b�UUUUUUUUUUUUUUUUUUUUUUUUUUUUUUUUUUUUUUUUUU\u0003\u0000с�0�\u0007������]\u0004��h0����l�M�.<�\f��Ǭ�\u0018M\f>�L���\ff\u0002\u0010��\u0005\f\u001c�|�\u0007��\f�FYA�\u000f�ю�D���D\u0006X�h�\u0003D�\u0015\u00062\u0011�\u0011\u00041�\u0018\u0007!\u000101`(y�����\u0011\u0019�\u0006\u00189I�����\n",
      "�=�^�\u0006\u0012�\u0010�\u0018�&\tiu\u000eP͵��,\u0000ھ��H \u0005F�\n",
      "4B\u001e2\u0004\u000b�6\t�Y�\u001a�c��H\u0004\u0002�\u0014\u0005\u001b��^��P\u0006��&+cY�\\\fB�LAME3.100UUUUUUUUUUUUUUUUUUUUUUUUUUUUUUUUUUUUUUUUUUUUUUUUUUUUUUUUUUUUUUUUUUUUUUUUUUUUUUUUUUUUUUUUUUUUUUUUUUUUUUUUUUUUUUUUUUUUU\u0016y�����\u0001��1�����p��cp\u001edb�k�<d@�����#CV�\u0010K\u0003$�@\u0010\u000e��-\u0013FH\f��\u0017Ě\u0003=c�$�K��\u0014<�L�\u0014�\\�ٌ2�i!\u0000\u000f\u001emT\n",
      "=0$�N\u0013��Ì��0̳�\u001c:\u0019��+5�\f8\u0004���ām\u0014\u0016d\u0014�t��`�T\u0002\u0003\u0005�3]2�:\u0000\"�x�\u0019f\u0006�\n",
      "\u0016\u001eD\u0019��F�\fp�F$\u0016iԂ��+\fBbP����q��d�\u00181�\f)T\u0018\u0015��\u000e\u0004$J��\u00131���\u0002X\u0004|d\"�8�@\tGK\u0018�\u0000�\u0007��.e\u0010\u00182&(�3��2d\u0002�\u000b\u0002�\u0019!!\u0017��AL�N��\u0011�C��ŀ\u0001C��\u001aB��!�\u0011U����@��\u000b\u0004���Je����\u0015���\u0006\u0019�\\�ӵ\u0014�!�\u0004S\u0004�H�՗��r��H�K\u000f�ʑ��d�~��\t,蠀p�\u001a�SR\u0011\u0002�Qv���8��/Ӣ�6�r7�j�;5gL\n",
      "�|�e*�\u0005�\u000e{�\u0011�ήV��;�\u000b\\w���1x}�}%rw^Ai�b\f�����\u001d6�LAME3.100UUUUUUUUUUUUUUUUUUUUUUUUUUUUUUUUUUUUUUUUUUUUUUUUUUUUUUUUUUUUUUUUUUUUUUUUUUUUUUUUUUUUUUUUUUUUUUUUUUUUUUUUUUUU �\tz^�\u0000`H0i\n",
      "�-0\u0013\u0001�\u0000@\u00190$0B\u0006�\u0006`�1�Fs\f�<01\u0002��\u001f0s\u0002C\u001f2�\f�\n",
      "�\u0003Q�; \u0011)\u0000Ɉ\u0014�]��È@�\u001cd\u0010��h��\u0014&.\u0004\u0010he��C�biA@R.ӿ�8M�Dc\u001e\u00164$�\u00021\u0006\u001e\u001b�i�\u0000\u0019P����ĊoT\u0016T���қ�\u001a�q��\u0005\u000bL��̋L�t\u001c�$A\u0011 A��ɒ(yCeCTb�@\u0018\u0006\u0000�YI�\u0005�H�\u0005S�C� ��\u001c�C���P`K�\u0015`�\u0005�5\u000f\u000eELQ�:3 ��2�\u0014D\u0002`BI�\u00050�\u0003\n",
      "�\f\t^\u0002�\u0007�L�\u0000a\u0006\u0002\u0000o#\u0018\u0001�́Ʌ\fH\u0018\tg�4a��*`_��\u0016I5ߤ�,�pF�-t�T�eS=-Q4�\tc/�!�n.�n��@��\u0004m�ǑZ�\u001b��n��(\n",
      "A\u001c0��\u00020��\u0002��\u001e>L\u000b\u00109\u0005��0؂�2\u0015���S\u0015�.V�?\u001a��)z!�}�\u0004��{��l1\u001e�ţ\u000f�J���r�􍨲�i�,t�\u0005��:�j�#\u0019/�\u0019;�����p�F\u001d\u0017X��l �@�LAME3.100UUUUUUUUUUUUUUUUUUUUUUUUUUUUUUUUUUUUUUUUUUUUUUUUUUUUUUUUUUUUUUUUU �\u0004&\u0003(\u0006��\u000e�,�\n",
      "\f���G\u0001���CF�\f��4���2\u0010��\u00071��څ\u0013\u0004=\t��\u0001d�0\"L�H�\t\n",
      "\u0014��e\u0003\u001d��ZD0���\u0003rQ\u0019X�B451D㦃 ��j9\u0016\u0012��n\u001d\u000f1�,i(L\u00130�=k((8;H2DuH�q�\u0018d\t� �����ĵz\u001c\u0016,\u0002�4����`�0#&0T!�.\u000e��\u0000��ȎIS`\u00040��\u0000:xӄ\t�\u001dX�1t\u0019p \u0013Au��V\u0018p\u0001�T:\f��o�\u0005��1�\u0003\f�k𐦰I�,\u0001�BDd�\u000b����Iy�@-b�\t\u001e0��`\u0013\u00061\tF\u001c\u0003��aP\n",
      "��#ip���D`��K�#)(�\u0016r�(\u001c�(!ef$��\u0015{\u000b\t\u0011�\u0016\n",
      "�O��K�K&\u0004���5�>\u0005����0\u0015)p\u001a��Z����ѹ%�8�.Q�\u0001r*2��#\u0002\f�`6����k�d�\"��(]%N\u0002\u0012��`\u001c�0\u000b!J�`\u0000r��\u0018\u0000jLAME3.100�������������������������������������������������������������0�\n",
      "�\u0010�\u0018K\u0007���w�\u0006�Q���\u0018�\u0011�ɓ�C�1�\"T\u001b�����:\u00184\u0000ق�c\u0018��1�\u0010��8\u0003��\u0007\u0018\u001a\u0001H81\f\u0018@�8-\u0001��\\\u0004�#���t\"\f2D��\u0004�\u0003F^z\u000e`\u0005\u0019\u0018���p�H\u0010\u001e$8e \u0004!E\u000e�\u000e(\u0016D3�\u0000Z9��\u0000\n",
      "~Յ��C=k�(�5�\"\u0003i��\u0018\u000e��no\u0014�\u0006{co�1\u000f�#�\u0004\u0013*ya04&\u0016�?n\u0003\u000f~\u0015�[[�&\u0010\u0016��EF�\u0019��\t�@�`��*Y�ԿZ\"�(z��\u0015�.~�s.����!���n\u001aV��(P2�!�s�&��%���9~�\u0014T\u0000�\u0016�T\f�(\u0016\u0018\"�Ń@��u\u000e\u0000a�\u000e/��\n",
      "���\u0000L�3\u000b~\u0004\u0004\u0019\u0013/�в\u0003P\u001e\u0002\u0018\u001e*-\u0018�B7�@#la�\t��F\u0006P\u0002\u001b\u001a\u0010\n",
      "\t\u0018��\t\n",
      "\u0002\u0003\f��I2��:�\n",
      "[�-2K�a���\u000e\u0001LAME3.100�������������������������������������������������������1|�2�R<�r3d�3�%,+f1\u000b�,�\u0006I\fff �\u0003.�\u0006��\u0005�f\u0019�Fv\u0010�q\u0019\u0001a��+�t\u000b\n",
      "��3HKS)J�!��/�C|�CW��r��Xp�\u0018a��b Dg8RuK�c��c��p�d\\ `\u0012�MIo��-\u0018\u0000\u0003�F6��;\u0007\f����\n",
      "\u0007��8\\J�\u0018\u001c�\u0017\f����\u0003\u0004@�&&Ra�Ơ�l��J�i�f\u001c�t\t��\u0010tjƤ�\u0010:2h���L�\u00046޺���ġu4\u0016X\u0003��\u0002#�HR\u0007\u0004�\u0000\u0005È��\f\u0015\u0019���\u0003�@\u0001\u0010��`@0\f�\u0002�y\u001cP��\u0006\u0002f2�\u0006/\u0010\u0006$�\"\u0010�D\u0004�\u0002&\u0004��@� \u001b0l\u00150t/�~�T��;�r�<b�\\ \u000f^\u0011KmaԎcL��.�\u0002�#\u001a\u0004�ш�\u0007L�p `�Z`�\u0002aP\u0018a�t2\u000b�P��d s�˕e4T�����:��sZ�}X;@��\u0004��\u0018~�b��Q�<�Y@�\u000e�&\u0018\u0003\u0006\u0011��\u0002���X(+\"\u0004@\u0000B^\u0018\u0014\u0004\u0018(\u000e(A\u0010(L\u0005\u0018\u0004\u0004\u0005@�`�/*LAME3.100�������������������������������������������������������������������������������������\u0018P\u001e\u001c9\u0011!L]\u001a>5P.\u000f2\u0000����<��!�{\u000e�i�\u0010�\u001c\u0018\u001d3��ɦ�(2z,��3=��\u0004%AٍA�^\u0018\u0018�^aӡ�\u0012�\u0001���\u0001\u0012�}(!\u0014�̌E��\u0014�(�ƅ\n",
      "8bg�N\u0000\u0006\u001f\u000b��X ��\\(�\n",
      "OS\u0005\u0000\u0010�\u0003�Ӏ�L�4P��\u001bs\u0003\u0006\u001a\u0006kσ��;,\u0001�'3\u0016,\u0004�\t*a��\"$\u001c,\u000e-\u0011\n",
      "�@]\"�!�XV��u\u0012HF@�\n",
      "�����Y��\u000e��_�*�F�\u0001q2�l�\u001f�pk��\u0018��\u0001e��\u0004��\n",
      ">�I5���p0ieS��D�ڕ\u0000\u0012|�\u00019�\u0000*�\u0001�0�\u0011-�H��\u0005\u0000�5\u0016~�U�$kP@�\u0013`&\u0002{\u001a�o�0[\u0012{�{u�jM=S5�E������T��c�������`��\u0011��Y̪LAME3.100��������������������������������������������������������������������������������������������������������������\u0000��0\u0012\u0002@4�\u00144�A�|ΈG\f?\u0002h�0\u0012\f8���x(\f1\u0002���\u0015LGC��\u001c\f\u0003�\u001c��\u0011B��`\u0000\u0002� B\u0017\u0002\u0003\u0006Є05\u0002��\f�\u0019\u0002��`9�\u0007\u0000���\u0012\u0018\u0018��ОfV����p�\u0010+h\u0000��&�Ȫ�Pe�1g\f��R�B\u0011�\u0018����� c�����Ĉn�\u0016T\u0015^�\u0002��Jq:�y��1�2f���%�J�\u0002Vfp�o�>X�q W���E��\n",
      "��D�-�\u0013�4`��uS\u0017�K�1A\u0002H$�p\u0010�1\"�\u0010�p0VIM\u0015\u0006�&\u0004���h�d������ \u0019ÁZHP\n",
      "�CJ\u0002�Q\u0017*�*��X\u0001#Х\u0015XJB �^��*0!\u0000�PuAR\u0004 Kb0\"�\u0019Ka��eJ]\u000f7\u0018}�4�҅����#�S\u0000\u0015]Ęb�,��H\u0005qXT=N�G�\"b�N�\u000b��\u000b�0���\"�(4<��W)S�\u0000�T�P��+ة�t��NT\u00038�\u0003�\u0015�\n",
      "\u0014\u0018�6b�ɒ�DM\u0013(�\\�ۜ\u0007\u0017�YK=��C\u000e�F�\u0017��[�LAME3.100�������������������������������������������������������\u0002\u0018$�\"\u001a\u0011\u0003s�4�\u0019���\f���G��\u00195�\u0019\u001c�\u0001�\u000f�c���ޘ8��\u0018AјP\u0000V�\u0003vaR\u0000�`:\u0000�`�\u0001�`\u0001\u0001\u0006bV!�\t��®�F(�(\u001a?Lp�4}P�� ��\u0005���c�\u0019��b �\u0018�\u0018G+\u0001\u0005\u0001\u0000���N�7%���\n",
      "�*+1y�\u0012/1�\f�`��\"a�0�1/�@\u001a\u0001\f[��D�`�\n",
      "���Ŀ|�\u0016,\t��\u0000.)��\u0000!Y�\u0002\u0006$\u000b��F\u0005=�\n",
      "&P;\u0018�^\u0006\u001e��\u0002�r\u0002��P�2\u0012��\n",
      "a�I\u0000\u0000�v�\u0018�(�<R\u0010>\u0016\u00049,���5(�\u0005\u0001U(\u0010\u0002\u0016\u0000*�qi�-Fv�\n",
      "K��\u0003\u0014s�\u000e���ߧ��Pf;\u0016C�<\u0001\u0000\u0000�\u0002����o\u0012\u0001^��0\u0000,H\f����-�5�Bʧ`�&�ɜ�\u0016�+�pt\u0001D��\f�\u001b{eSn�/Z�\u001a?���w�\u0011n2wE�k\u000e\u0013)iK\u0004�,\u0019�a��\\C��D\u0003����\u0003N�<��c@�)�3>�L��\u001a��Pj>\u0018�Fb\u0010p0\u001a#\u00017T\u0006�\tXYT�����P)h�\u0000`�1h[@Q\u0018\u001c0!\u00015�N\u0017\u0002AS�E������\"\n",
      "V�\u0013)K\u0012��N�\u0000\u001aj.�LAME3.100����������������������������������������������������������������������������������������\u0010\u0018�\u001f�h��2g\u001bXd�\u0002&�\u000e\u0013�\u001e+\u0019.\u0016�\u001c�\u001c�$\u001c�\u0019�~�\u0018$(��\u0015����\u001ai\u001a�J��\u001a�$\u0004[�4\u0019�G�H\u0011\u0018��j&Q�\u0006\u0002B5)F%�c�ٍ��\u0011\t{��|1А`�Y�\u0011�\u0006�\u0012\u00010Xl\u001470p| ,cA�@�����\u0001�\u0000�7\u0000\u0005\u0002&�H�T&�jn��\u0004\u0013\u0018�\u0014kb1�@����Ğt�\u0016\\!��\u0000�\u0006�\u0000A\u0010�רS\n",
      "\u0002�\u0001�\u0019�J�e�I�`F\u0001\u0000\u0012\u0007�X\u0007\u0003\u0000��C\f�L\u000e\u0012\u001aM�4\u0004`��\u0000p\f-( �\u0002�8=\u001e\n",
      "=�@����vv�C\u0018��n\u001f��T�^�@��#�2\u0001BZё���X0H�''��\u0001�<���\u0013\n",
      "�.Cz��2Á \"��T�W�?Hfj�>��@\u0012!�\u0004`�\u0002\u0014���-B���LAME3.100��������������������������������������������������������������������������������������\u0010\u0018\u0000T%0,S0p�1�\u001b9�X\u000e2�\u0014\u0017�u��\u001c �_5\f<\u000e��1\u0004�#\u0004\u0001�\u0001F�\u0001��M�`�H`��`��e\u0010�c\u0000� \u0005�\u0017v�L(ȉP�p�n�P��\u0000�ژ��a�h�Le\u0004��@&)\u0003\u0018\u0000:g�y���D!\u0018<ffr��bc\u0012��\u0011\u0006=X�\u0018�\u0005\u0005�\u001a�\u001a9�\u0005��\u0013@\u0006\u0003.�\f.\n",
      "\u0003?��x\"�\u0005\u001b�v�@\u00020J Ŧ\n",
      "���\u0011\u0000!�z�\u0017�9.\u0012􅂆\u0019\u0007\u0000A�@�N��\u0003��\u001c\u0017�`@\u0004\u0000�� \u0000\u0003�\u0003\u0005���\u0003�2I�i�}a.\u0012������Y_�|��XF���\u0005�\u0002\u0001�\u0000�\u0002I�\u0010�\u0012\u0007a�LG\u0003\u000b��%;�Bܧ���n�`\u0006TD\fS\u0002`{�����J\u0006֡�C]��p\u0002�\u0006���`p`8(�^X9\u0001���\u0006����\\�\u0000�\u0001\u0010(\u0014\f\f\u0002%\u00024!z���\u0006���2V���\u0005�$m�W���g\u0011���Z< �&�AX�[+A���΄\u0000Y\u0013*{Kf�(�˗\n",
      "�\u0000�\u0000:a@&L��\u000eB��bl��*��`8\u0003c��k\f��\tt`�\t\u0006\u0016��d�f(�T`�\u0007�\u001e\u0014�R��V\u000e&\u0019�& ���\u0010\u0006\u0017�����E�������K��Q���I� Q����s��\u0003Q� I�H���Y�FɇB\u0019�がhᤦ�afaP4aA\u0010f��\u0005\u0007�0(E\f\n",
      "\u0007���ĮxT\u0016D\u0000�rЌD��\"4�@�\u0000̀B\u0017\u0014\u00008d\u001a\u0002��\u0006�Kh�h�P\"�N4�QcD��8RkY+�\u0014x��\u0000^\u0006E\u0019��\u0001\u001a��\u0002�\\�\n",
      "�Ī\u0005@e�m�\u0010A�ً(\u0013���\u0003\u0018+\u0004L#P�\u0001\u0000�b\u0002�\u0002X�E�%�bC��\u0017{4-j\u0012d\f\u0015�\f���\u0010(\u0011$\u000b:����CI(\u0003�A\u0003(R“ib\\�K[X��Z��/�\f\u0002�_\u001b�ۛ�/���q�2�Ǫ�y�H�\u0016��3Q�+r�aL�t�(�$\u0000���A\u0016e��\u0011;\u0016�`\u0002�\u00001�J\u0004���\u0003N���E��Y\u0001-.�\u0014�\u0014��=y�`*���T\u001c3Jd�H0�֕LAME3.100UUUUUUUUUUUUUUUUUUUUUUUUUUUUUUUUUUUUUUUUUUUUUUUUUUUUUUUUUUUUUUUUUUUU��\n",
      "\u0002\u0018��\u001a!#��ht\u0018@\u0000ُ���O\u001dы�\u0006\u00187\n",
      "i*2�/P�bM\u0018h8��0�А��ax������!��`t�0:\u0006�p \u0019\\�@I��P�\u001a��G�����\u0007ь�y�aѺ�����S�wA��!�D\u0019�\u0003a�%q�b�T0\f\u0019\u0005`\u0012\u0018�Q\u0018Zi�\u0012���\u0004\f4\u0010\u0014nea @��@\u0006@\u0000\u0005\u0005,\u0004��\u000e�x�\u001c2��8X,���Ĳyt\u0016@\u0000�v�\u0000 \\A�C\u0000\u000fn��H\u0000\t\u0010f�*��)\u0003\fg*6��\n",
      "\u0005\u00112Bc\u0015#\u0018\u00040�.J\u0007X\u0013 �tQ!���\u0012\u001c�:i���\u0019�1��\u0015��9h(\u0018�B\u0002!b�DB\u0012\t@�\u0001R�\u0001ҥQvB�Z�\u0002��δ7\u0019�5�t��%D��\f�H@���E�F��2\u0007y_�&\u000e���^\u0018>�Ճ�o\u00046�>k��a�+�O1EI7.��~*ܞν��$�\u0014�\u0019��1،�i+c�a�lo��#��R��W(�\u0000\u0005M�\u001c\u0010\u0004\u0006\u001aZ��0���\u0012��.c�\u0015\t\u001e\u00020 \u0007q|�\u0012?aA\u0013\u0015\u000f \u0014p�\f� iLAME3.100UUUUUUUUUUUUUUUUUUUUUUUUUUUUUUUUUUUUUUUUUUUUUUUUUUUUUUUUUUUUUUUUUUUUUUUUUUUUUUUU0\u001e\u0000�\u0006�\u001a0�4C<�\\0C\u0004!�6~K�5\u0001k0�\u000f�1�M0�\u0018�\u0014�%1�\u0010S\u0017b\u001d0XJ�\u001f�\u000431 �M� 3Ǿ6-�<�r6�%3�I7\u0010z1�'0TO7\fJ5�0��6\u0001f2P�3P*?�T6\"D2Lx8�5\u001e\\Lm?�{\u0014L�\u0011���a�@\t\f̂\t�0\u0000L\n",
      "\u0003\f\u0010\u0018E�\u00181F��A��(��\u00030@���Ħv�\u0016<\u0000�t��\u0010\u0003\u000e\u0000\u0014\t\u0013�\u0015|�P\u00042\u0019\u0011�\u001d��� X�\u0015�\u0002&\n",
      "\n",
      "4D\u0010\u0015�Kk0��py]�$�\u0010\u001e�\fx�\u0010° C�Bgq9�\u0014\f4w���&D��Df�\u0004\u0007LbQ�$e�\u0011G7l\tS\u001b\u0002&\u0017�\u0003�\u001a�6��fl&\f�1c��\u0012B\u0015�v\u001c\u001ciI\u0004n\u0002�0\u0003\fAq\u0018q\u0018q�o����m�3��/\u0007E���9T�YSpyx��4��H�6\n",
      "�\u00120�>�\u001e\u0000b3(&�DR�6��;a�5��7\u0000�7�\u001c9��?\u000444j�;\u0015�;�\\2�8EG0�\u00184��8\u0018(4�21q�0�=0p!6\u0000�1M�3o�?\u0006\u001e9\u000276��60�3\f@\u0004��\u0001|���\u00008�xX\u001b0`\u001aK\u0001�(\u001cH\u0018\u0014\u0006\u00186\u001a,0(�6r�\u0018� �����Ěsl\u00160\u0014�t\\`@�bY�\u001d]��@�I�-�%���r\u0000H\u0006\u0002�\u000b\u001fC�lU`��Gp[\u001c\u0006\u0014\u0002<\u001d\u0010T58i��\u0005l-\f�P�$�\u001a�� ����.\u0016\u0018((����A���[\u0017C\n",
      ":4aN\u0002�\u0017,Ø\u0016�`�\u001asFd�\u0016�f�1��\u0002Z\u00124��\u0007^\u0002�\u0010�\u0002�\n",
      "\b2\"\u0000���\u0015D\u0001�\u0000A��\u0002�\u0005z\u0018���\u0016��oU�PN�:\u000enJ<��p\u001f�K��CM=�8I\u0012��pĀq�UxD$��\\ \u0006�\u0013\u001c\f\u0005��@������}\u001f�<��j\u000fr[��or�HY�~�)sNV�b�7�*4�KY�Oï��W�x!�o�\u0016P��r����j\u001b��\u000e��jI'pT�z�){#\u001f��®֚Ü)l��gM)�,\n",
      "�\u000e\u0013�\u000fiō�\u000eO��1�7A\f]\u0013�K#A�)�©T\t0\\\u00120,V1pY0�$0����Ęr�\u0016\u0010\u0004�r�64�4�7�9�8\u0011V\u0011X\u0002\u001f3�\u0005B��ĂDkL\t����\u001cKI@\u000bx�\u0018j'4E��S:}�\u0018-�>���X\u0002\u001ak.��-�t��\u000b4\u0010 ( �$L\u0013\u0016�\u0006HB E�JH)o3�EC\u0002N��1\u0010A��X\u0006<_�hpy'ˠa\f\u0003�DƋ�Ü�ޔ\u0004#\u0001=G�C��I٨d\u0000I�(�\t����jL�QV\u001c�]�6��JZ\u001c\u000ba@���}.����I������n*j����T\u0005�Bdn*�]�\u0014]ܐ;Me��\fѭ,�p�.\u0013�\u0006��{\u001a�\n",
      "�P\u0017\u0002�\u0015�\u0002\tx<��J�v֔�6���#?�+�\u001ek.$����H�&�%'BΈ65���K\u001a ���O��)Z�r\u0010�4�g�\u0001ojLAME3.100�����������������������������������������������������������������������������������������������������������:\u0015�#\u0006�Z�C��3�����Ҩ��\u0001�\u0000]\u0019:Y\u0001��\u0011\u0016�C&\u001f\n",
      "S\u0015�Ta\u0019@�I�0�\"�C�C�\u0003>\u0003a\u0013 ��T�\u001d�Y\\�t�Q��m\u0011��)Zp�\u0003!.��f4�t�i�4+KmXk��\u0011�X\f\u0013@o\u0011����_�ER��}��B�L��L\u0015���R\u0015���\u0013�ě��\u001dDY�٨�.�\u0012N�ʉ\u0000�Q�*�\u001a&\u001c�\u0007\u0000�����\u0014���H\n",
      "&�K��/v��\u0016��i�A�B�!\\��/���\u001f�LAME3.100���������������������������������������������������������������������������0� s+P\u00105GO�C1�1#\u000e�\u00130q\u001a�\u0004q�0�\u0006#\u0011�Q1\u0003\u0002�-1p��\u00181�3mH06�5d�5X8\u0014P\u0014�{���������͌ld����掿H�f\u000e^��Z\u0001ZF�nt�&�*,R\n",
      "_0�A\u0010 �`�N\fy\u0000��\f\u0018�\u001eY��!�����F�\u0000a�2\u0017\u0010@($\u0002\u0003��Dhaƙ\u0007L\u0000U\u0012��H\u0012������īw�\u0015�\u0000��xTc�\u0010�@�'�r��&E �D�'�m�D�\u0016�\u0001IB\u0003�\n",
      "&\u0010k!2\u001f0@35D\u0012�y�k50A�����-)�A\u0017�Px\u0005�\u00124tr҅�$\u0019,� ��\u000b\f�\n",
      "�,;\u0006i`��\u001aG��\u0002�����s8��\t�D.�D`��B���,yf�%�*k�#\fP��,1r�����y\u0003�C@Ph�X9@\u0015\u0000\n",
      "�\u0010B\u0014\u0005\u0004�\u000eEm�d0�Q d\u0000 E�AjV��\t�K�\u0014躂\u0006\u000b�\"!v�*� 8\u0010�\u0004\u0001\u000f-4\t'F��)\u0016[�\u0012\u0003$.��\u0006\u00171j�\u0002,P�$�o�\u0007\u000b\u0002,�pɠn��\u0018��q\u0004\u0003(�Yv\u0001\u0000�f���4 \u0013c�\u0018�>�ʃ�N�\u001c�S\u0005\u0006 ��B\f$\u001aQ\u0001ULAME3.100UUUUUUUUUUUUUUUUUUUUUUUUUUUUUUUUUUUUUUUUUUUUUUUUUUUUUUUUUUUUUUUUUUUUUUUUUUUUUUUU\t�\u00199#)�1ޙ\u0019\n",
      "\u000e\u0000�\u0000��'\u0004�`\u0001�\u001a\u0018� \u0011#�\u0012��`֘h�!ې\u0018pA��\u0018S9�2�\u001e��8\u0019\u0004�O\n",
      "ǎL�\u0010��\u0001��HffEa\u0004%�D#5#&\u0013�U~�\u0012I#S��h�`\n",
      "1��ѥ\u0005����P�\u0011&����6%\"9�\u0019g\u0017-\u0016L҆]8�k\u000e��&���Ħv|\u0015��t�$\u0000\t\u0004�LY���\u0006e4D\u0007�H�(�0\u0004\u00146\u00025c�I��\u0007���\t ��\u0000�f\u0011�\u0001�x�\u0000��\u0000s\u0000�VP�p�\u0011\u0002\u00021�&e�-\t`\u00145��\u0011M�\t{�����Hld��b\u0000�\u0003�#\u0019�\u0019j\u0003Bcf�(h\u00101ySL\u0000\u0018`%�0�\u0001\u0004�\u0001�\u001a&(+��\u0000�\u0010m8L\u0012�0\u000b<��K)\u0011�!ZbE\u0018�\u0019�\u0002�\u0000����3ȇd.\u0012�AL�\u00008\u00100\u00112��SW�.\u0000($�@ռ�Kj���bf0�1�\u0001\u0012a\u0016\u0002t�lޜ\n",
      "\u0016��:\u0012�Gk��0�]h@e���@e�J�P`)���QZ�J�^\u0019Yn�AW耓P��\u0003�kx��rAT�r��\n",
      "��ɤLAME3.100��������������������������������������������������������������>\u0010�\u0010%�`��cs\u0012V1�0O1&\t\u0018\u0014A�i�R9��$���:�93\u0018\t3�f�!q1�8!�\n",
      "pʎ�-00�\n",
      "1�|aA*�\u0004h��\u0013b1\n",
      "\u0000�C\f)\u0010*pA`\u0001\u0013$$y�\u0016\"��e0\n",
      "��\u0010��`�R����ĸz�\u0015�\u0000�t(lb\u0011@��@\f`\u0002��H\u001a���\u001a\u0012dL\u000b\u0000,�Y�\u0018�3dtɢ\u0001(@�\u0010���Z\"X\u00149�\u001c�(�84B\u0001�\"p�\u0018$��B�\u0018\u0011$�A\u0005�\u000b���P\u0001qKE�.`�GH�\n",
      "8F \u0015\u0004a���������SB�\u0010�@Yw�\u0012\u001b\u0012AsF���\u0006`\t(Q1\u00001�&q�����Ģu|\u0015�rֲ��0#\u001e\u0011��\u0018(\u0001��Q\u0010���`t*Q�\u0011�\u00109�X\u0005Vr��34\u0003��La-\u0005\f*Â�ǒ\u0002�2�L\u0010\u0019X��`�\u001e4�S\u0002�\u00062a$u�!\u0015�\u001a\u0016�R�Pl\"�#\u0002u�\u000b\t\"�\"\u0000$4\u001c\u0011N�C(�*(\u0019:��A���\u0011�\u001a\u0004b�\u001d\u0003��\u0019sF\u0007\u0003���9��\u0006�0#\u001bzLAME3.100������������������������������������������������������������������������������������\u0002J\u0002\\:��O�ª���d \u0011f�9 �qั����P�((�\t�&�C�\t��a\u0000�\u0011�� �p�\u0004;�DT��4BF&ك\f\u0004\u001a\u0002\f�P�@PH\\\u001ea����\\(rR�1T\u001f\u000ez\u0018�]���MAa��\n",
      "9��pS\u0003}\u0000C�)\u000eՍ�Io\u0003�o�\u0000\u0010�F�&<C��S\u0016���v�ѣ8�\u0007L�%B\t\u0011�\t0�`�fY\u0006\u0003bB�æ����\f��,\\\u0015p��`�\u0011���\u0006\u0016q\u000e\u0018*E\u0019+\u001a�\u0001]\u0012d�,�\u0001���pd2�\u001d�\u001dl7��1PR`\u0003M\u0004H� \u0014\u0004)�I\tFPr�\u0016�zF2ac�0\u0006�L\u0010\tK�d*p��H\u0013\u0015#\u0012pq�\u0010,�\u0010D�\u0015\fJ��NC\f��\u001aD�4� ,�$\u0018Q�@8����|�\u0019\u001ba���ф+LAME3.100UUUUUUUUUUUUUUUUUUUUUUUUUUUUUUUUUUUUUUUUUUUUUUUUUUUUUUUUUUUUUUUUUUUUUUUUUUUUUUUUUUUUUUU7�͂��H�'\u0001 5f�cs\u0014h�\u0019^prS\"xFt�\t�4JTy!�\u001eHXy٨J\tdhD�\u0001�E\u0010$�s#0�\u0000h׀3�B����\u0002���\u0007\n",
      "0�\u0010�%i��ʂO��\u000b��0�@�\u0010\u0002\"\u0014,( ��r$�\u0003�:\u00154z0�=H6-0�\u0005�lJ\fh\u0006�ɩ-%(��\u000e.E\u0001��aQ�Mw\u0006X\u000e��\u0004\u0005\u00112Ӆ9�p\u00102�%\u0000�y#�\n",
      "\"��@̖�\u0005��\u0003,dx�\u0018\u0015\u0012\u0007$Ӂ����\u0000\"Q�\u001a����\f�1\u0004�jx�\u0001�;\u0015LAME3.100UUUUUUUUUUUUUUUUUUUUUUUUUUUUUUUUUUUUUUUUUUUUUUUUUUUUUUUUUUUUUUUUUUUUUUUUUUUUUUUUUUUUUUUUUUUUUUUUUUUUUUUUUUUUUUUUUUUUUUUUUUUUUUUUUUUUUUUUUUUUUUUUUUUUUUUUUUUUUUUUUUUUUUUUUUUUUUUUUUUUUUUUUUUUUUUUUUUUUUUUUUUUUUUUUUUUUUUUUUUUUUUUUUUUUUUUUUUUUUUUUUUUUU����\u0000\u0000\u0000\u0003H\u0000\u0000\u0000\u0000LAME3.100UUUUUUUUUUUUUUUUUUUUUUUUUUUUUUUUUUUUUUUUUUUUUUUUUUUUUUUUUUUUUUUUUUUUUUUUUUUUUUUUUUUUUUUUUUUUUUUUUUUUUUUUUUUUUUUUUUUUUUUUUUUUUUUUUUUUUUUUUUUUUUUUUUUUUUUUUUUUUUUUUUUUUUUUUUUUUUUUUUUUUUUUUUUUUUUUUUUUUUUUUUUUUUUUUUUUUUUUUUUUUUUUUUUUUUUUUUUUUUUUUUUUUUUUUUUUUUUUUUUUUUUUUUUUUUUUUUUUUUUUUUUUUUUUUUUUUUUUUUULAME3.100UUUUUUUUUUUUUUUUUUUUUUUUUUUUUUUUUUUUUUUUUUUUUUUUUUUUUUUUUUUUUUUUUUUUUUUUUUUUUUUUUUUUUUUUUUUUUUUUUUUUUUUUUUUUUUUUUUUUUUUUUUUUUUUUUUUUUUUUUUUUUUUUUUUUUUUUUUUUUUUUUUUUUUUUUUUUUUUUUUUUUUUUUUUUUUUUUUUUUUUUUUUUUUUUUUUUUUUUUUUUUUUUUUUUUUUUUUUUUUUUUUUUUU����\u0000\u0000\u0000\u0003H\u0000\u0000\u0000\u0000LAME3.100UUUUUUUUUUUUUUUUUUUUUUUUUUUUUUUUUUUUUUUUUUUUUUUUUUUUUUUUUUUUUUUUUUUUUUUUUUUUUUUUUUUUUUUUUUUUUUUUUUUUUUUUUUUUUUUUUUUUUUUUUUUUUUUUUUUUUUUUUUUUUUUUUUUUUUUUUUUUUUUUUUUUUUUUUUUUUUUUUUUUUUUUUUUUUUUUUUUUUUUUUUUUUUUUUUUUUUUUUUUUUUUUUUUUUUUUUUUUUUUUUUUUUUUUUUUUUUUUUUUUUUUUUUUUUUUUUUUUUUUUUUUUUUUUUUUUUUUUUUULAME3.100UUUUUUUUUUUUUUUUUUUUUUUUUUUUUUUUUUUUUUUUUUUUUUUUUUUUUUUUUUUUUUUUUUUUUUUUUUUUUUUUUUUUUUUUUUUUUUUUUUUUUUUUUUUUUUUUUUUUUUUUUUUUUUUUUUUUUUUUUUUUUUUUUUUUUUUUUUUUUUUUUUUUUUUUUUUUUUUUUUUUUUUUUUUUUUUUUUUUUUUUUUUUUUUUUUUUUUUUUUUUUUUUUUUUUUUUUUUUUUUUUUUUUU����\u0000\u0000\u0000\u0003H\u0000\u0000\u0000\u0000LAME3.100UUUUUUUUUUUUUUUUUUUUUUUUUUUUUUUUUUUUUUUUUUUUUUUUUUUUUUUUUUUUUUUUUUUUUUUUUUUUUUUUUUUUUUUUUUUUUUUUUUUUUUUUUUUUUUUUUUUUUUUUUUUUUUUUUUUUUUUUUUUUUUUUUUUUUUUUUUUUUUUUUUUUUUUUUUUUUUUUUUUUUUUUUUUUUUUUUUUUUUUUUUUUUUUUUUUUUUUUUUUUUUUUUUUUUUUUUUUUUUUUUUUUUUUUUUUUUUUUUUUUUUUUUUUUUUUUUUUUUUUUUUUUUUUUUUUUUUUUUUULAME3.100UUUUUUUUUUUUUUUUUUUUUUUUUUUUUUUUUUUUUUUUUUUUUUUUUUUUUUUUUUUUUUUUUUUUUUUUUUUUUUUUUUUUUUUUUUUUUUUUUUUUUUUUUUUUUUUUUUUUUUUUUUUUUUUUUUUUUUUUUUUUUUUUUUUUUUUUUUUUUUUUUUUUUUUUUUUUUUUUUUUUUUUUUUUUUUUUUUUUUUUUUUUUUUUUUUUUUUUUUUUUUUUUUUUUUUUUUUUUUUUUUUUUUU����\u0000\u0000\u0000\u0003H\u0000\u0000\u0000\u0000LAME3.100UUUUUUUUUUUUUUUUUUUUUUUUUUUUUUUUUUUUUUUUUUUUUUUUUUUUUUUUUUUUUUUUUUUUUUUUUUUUUUUUUUUUUUUUUUUUUUUUUUUUUUUUUUUUUUUUUUUUUUUUUUUUUUUUUUUUUUUUUUUUUUUUUUUUUUUUUUUUUUUUUUUUUUUUUUUUUUUUUUUUUUUUUUUUUUUUUUUUUUUUUUUUUUUUUUUUUUUUUUUUUUUUUUUUUUUUUUUUUUUUUUUUUUUUUUUUUUUUUUUUUUUUUUUUUUUUUUUUUUUUUUUUUUUUUUUUUUUUUUULAME3.100UUUUUUUUUUUUUUUUUUUUUUUUUUUUUUUUUUUUUUUUUUUUUUUUUUUUUUUUUUUUUUUUUUUUUUUUUUUUUUUUUUUUUUUUUUUUUUUUUUUUUUUUUUUUUUUUUUUUUUUUUUUUUUUUUUUUUUUUUUUUUUUUUUUUUUUUUUUUUUUUUUUUUUUUUUUUUUUUUUUUUUUUUUUUUUUUUUUUUUUUUUUUUUUUUUUUUUUUUUUUUUUUUUUUUUUUUUUUUUUUUUUUUU����\u0000\u0000\u0000\u0003H\u0000\u0000\u0000\u0000LAME3.100UUUUUUUUUUUUUUUUUUUUUUUUUUUUUUUUUUUUUUUUUUUUUUUUUUUUUUUUUUUUUUUUUUUUUUUUUUUUUUUUUUUUUUUUUUUUUUUUUUUUUUUUUUUUUUUUUUUUUUUUUUUUUUUUUUUUUUUUUUUUUUUUUUUUUUUUUUUUUUUUUUUUUUUUUUUUUUUUUUUUUUUUUUUUUUUUUUUUUUUUUUUUUUUUUUUUUUUUUUUUUUUUUUUUUUUUUUUUUUUUUUUUUUUUUUUUUUUUUUUUUUUUUUUUUUUUUUUUUUUUUUUUUUUUUUUUUUUUUUULAME3.100UUUUUUUUUUUUUUUUUUUUUUUUUUUUUUUUUUUUUUUUUUUUUUUUUUUUUUUUUUUUUUUUUUUUUUUUUUUUUUUUUUUUUUUUUUUUUUUUUUUUUUUUUUUUUUUUUUUUUUUUUUUUUUUUUUUUUUUUUUUUUUUUUUUUUUUUUUUUUUUUUUUUUUUUUUUUUUUUUUUUUUUUUUUUUUUUUUUUUUUUUUUUUUUUUUUUUUUUUUUUUUUUUUUUUUUUUUUUUUUUUUUUUU����\u0000\u0000\u0000\u0003H\u0000\u0000\u0000\u0000LAME3.100UUUUUUUUUUUUUUUUUUUUUUUUUUUUUUUUUUUUUUUUUUUUUUUUUUUUUUUUUUUUUUUUUUUUUUUUUUUUUUUUUUUUUUUUUUUUUUUUUUUUUUUUUUUUUUUUUUUUUUUUUUUUUUUUUUUUUUUUUUUUUUUUUUUUUUUUUUUUUUUUUUUUUUUUUUUUUUUUUUUUUUUUUUUUUUUUUUUUUUUUUUUUUUUUUUUUUUUUUUUUUUUUUUUUUUUUUUUUUUUUUUUUUUUUUUUUUUUUUUUUUUUUUUUUUUUUUUUUUUUUUUUUUUUUUUUUUUUUUUULAME3.100UUUUUUUUUUUUUUUUUUUUUUUUUUUUUUUUUUUUUUUUUUUUUUUUUUUUUUUUUUUUUUUUUUUUUUUUUUUUUUUUUUUUUUUUUUUUUUUUUUUUUUUUUUUUUUUUUUUUUUUUUUUUUUUUUUUUUUUUUUUUUUUUUUUUUUUUUUUUUUUUUUUUUUUUUUUUUUUUUUUUUUUUUUUUUUUUUUUUUUUUUUUUUUUUUUUUUUUUUUUUUUUUUUUUUUUUUUUUUUUUUUUUUU����\u0000\u0000\u0000\u0003H\u0000\u0000\u0000\u0000LAME3.100UUUUUUUUUUUUUUUUUUUUUUUUUUUUUUUUUUUUUUUUUUUUUUUUUUUUUUUUUUUUUUUUUUUUUUUUUUUUUUUUUUUUUUUUUUUUUUUUUUUUUUUUUUUUUUUUUUUUUUUUUUUUUUUUUUUUUUUUUUUUUUUUUUUUUUUUUUUUUUUUUUUUUUUUUUUUUUUUUUUUUUUUUUUUUUUUUUUUUUUUUUUUUUUUUUUUUUUUUUUUUUUUUUUUUUUUUUUUUUUUUUUUUUUUUUUUUUUUUUUUUUUUUUUUUUUUUUUUUUUUUUUUUUUUUUUUUUUUUUULAME3.100UUUUUUUUUUUUUUUUUUUUUUUUUUUUUUUUUUUUUUUUUUUUUUUUUUUUUUUUUUUUUUUUUUUUUUUUUUUUUUUUUUUUUUUUUUUUUUUUUUUUUUUUUUUUUUUUUUUUUUUUUUUUUUUUUUUUUUUUUUUUUUUUUUUUUUUUUUUUUUUUUUUUUUUUUUUUUUUUUUUUUUUUUUUUUUUUUUUUUUUUUUUUUUUUUUUUUUUUUUUUUUUUUUUUUUUUUUUUUUUUUUUUUU����\u0000\u0000\u0000\u0003H\u0000\u0000\u0000\u0000LAME3.100UUUUUUUUUUUUUUUUUUUUUUUUUUUUUUUUUUUUUUUUUUUUUUUUUUUUUUUUUUUUUUUUUUUUUUUUUUUUUUUUUUUUUUUUUUUUUUUUUUUUUUUUUUUUUUUUUUUUUUUUUUUUUUUUUUUUUUUUUUUUUUUUUUUUUUUUUUUUUUUUUUUUUUUUUUUUUUUUUUUUUUUUUUUUUUUUUUUUUUUUUUUUUUUUUUUUUUUUUUUUUUUUUUUUUUUUUUUUUUUUUUUUUUUUUUUUUUUUUUUUUUUUUUUUUUUUUUUUUUUUUUUUUUUUUUUUUUUUUUULAME3.100UUUUUUUUUUUUUUUUUUUUUUUUUUUUUUUUUUUUUUUUUUUUUUUUUUUUUUUUUUUUUUUUUUUUUUUUUUUUUUUUUUUUUUUUUUUUUUUUUUUUUUUUUUUUUUUUUUUUUUUUUUUUUUUUUUUUUUUUUUUUUUUUUUUUUUUUUUUUUUUUUUUUUUUUUUUUUUUUUUUUUUUUUUUUUUUUUUUUUUUUUUUUUUUUUUUUUUUUUUUUUUUUUUUUUUUUUUUUUUUUUUUUUU����\u0000\u0000\u0000\u0003H\u0000\u0000\u0000\u0000LAME3.100UUUUUUUUUUUUUUUUUUUUUUUUUUUUUUUUUUUUUUUUUUUUUUUUUUUUUUUUUUUUUUUUUUUUUUUUUUUUUUUUUUUUUUUUUUUUUUUUUUUUUUUUUUUUUUUUUUUUUUUUUUUUUUUUUUUUUUUUUUUUUUUUUUUUUUUUUUUUUUUUUUUUUUUUUUUUUUUUUUUUUUUUUUUUUUUUUUUUUUUUUUUUUUUUUUUUUUUUUUUUUUUUUUUUUUUUUUUUUUUUUUUUUUUUUUUUUUUUUUUUUUUUUUUUUUUUUUUUUUUUUUUUUUUUUUUUUUUUUUULAME3.100UUUUUUUUUUUUUUUUUUUUUUUUUUUUUUUUUUUUUUUUUUUUUUUUUUUUUUUUUUUUUUUUUUUUUUUUUUUUUUUUUUUUUUUUUUUUUUUUUUUUUUUUUUUUUUUUUUUUUUUUUUUUUUUUUUUUUUUUUUUUUUUUUUUUUUUUUUUUUUUUUUUUUUUUUUUUUUUUUUUUUUUUUUUUUUUUUUUUUUUUUUUUUUUUUUUUUUUUUUUUUUUUUUUUUUUUUUUUUUUUUUUUUU����\u0000\u0000\u0000\u0003H\u0000\u0000\u0000\u0000LAME3.100UUUUUUUUUUUUUUUUUUUUUUUUUUUUUUUUUUUUUUUUUUUUUUUUUUUUUUUUUUUUUUUUUUUUUUUUUUUUUUUUUUUUUUUUUUUUUUUUUUUUUUUUUUUUUUUUUUUUUUUUUUUUUUUUUUUUUUUUUUUUUUUUUUUUUUUUUUUUUUUUUUUUUUUUUUUUUUUUUUUUUUUUUUUUUUUUUUUUUUUUUUUUUUUUUUUUUUUUUUUUUUUUUUUUUUUUUUUUUUUUUUUUUUUUUUUUUUUUUUUUUUUUUUUUUUUUUUUUUUUUUUUUUUUUUUUUUUUUUUULAME3.100UUUUUUUUUUUUUUUUUUUUUUUUUUUUUUUUUUUUUUUUUUUUUUUUUUUUUUUUUUUUUUUUUUUUUUUUUUUUUUUUUUUUUUUUUUUUUUUUUUUUUUUUUUUUUUUUUUUUUUUUUUUUUUUUUUUUUUUUUUUUUUUUUUUUUUUUUUUUUUUUUUUUUUUUUUUUUUUUUUUUUUUUUUUUUUUUUUUUUUUUUUUUUUUUUUUUUUUUUUUUUUUUUUUUUUUUUUUUUUUUUUUUUU����\u0000\u0000\u0000\u0003H\u0000\u0000\u0000\u0000LAME3.100UUUUUUUUUUUUUUUUUUUUUUUUUUUUUUUUUUUUUUUUUUUUUUUUUUUUUUUUUUUUUUUUUUUUUUUUUUUUUUUUUUUUUUUUUUUUUUUUUUUUUUUUUUUUUUUUUUUUUUUUUUUUUUUUUUUUUUUUUUUUUUUUUUUUUUUUUUUUUUUUUUUUUUUUUUUUUUUUUUUUUUUUUUUUUUUUUUUUUUUUUUUUUUUUUUUUUUUUUUUUUUUUUUUUUUUUUUUUUUUUUUUUUUUUUUUUUUUUUUUUUUUUUUUUUUUUUUUUUUUUUUUUUUUUUUUUUUUUUUULAME3.100UUUUUUUUUUUUUUUUUUUUUUUUUUUUUUUUUUUUUUUUUUUUUUUUUUUUUUUUUUUUUUUUUUUUUUUUUUUUUUUUUUUUUUUUUUUUUUUUUUUUUUUUUUUUUUUUUUUUUUUUUUUUUUUUUUUUUUUUUUUUUUUUUUUUUUUUUUUUUUUUUUUUUUUUUUUUUUUUUUUUUUUUUUUUUUUUUUUUUUUUUUUUUUUUUUUUUUUUUUUUUUUUUUUUUUUUUUUUUUUUUUUUUU����\u0000\u0000\u0000\u0003H\u0000\u0000\u0000\u0000LAME3.100UUUUUUUUUUUUUUUUUUUUUUUUUUUUUUUUUUUUUUUUUUUUUUUUUUUUUUUUUUUUUUUUUUUUUUUUUUUUUUUUUUUUUUUUUUUUUUUUUUUUUUUUUUUUUUUUUUUUUUUUUUUUUUUUUUUUUUUUUUUUUUUUUUUUUUUUUUUUUUUUUUUUUUUUUUUUUUUUUUUUUUUUUUUUUUUUUUUUUUUUUUUUUUUUUUUUUUUUUUUUUUUUUUUUUUUUUUUUUUUUUUUUUUUUUUUUUUUUUUUUUUUUUUUUUUUUUUUUUUUUUUUUUUUUUUUUUUUUUUULAME3.100UUUUUUUUUUUUUUUUUUUUUUUUUUUUUUUUUUUUUUUUUUUUUUUUUUUUUUUUUUUUUUUUUUUUUUUUUUUUUUUUUUUUUUUUUUUUUUUUUUUUUUUUUUUUUUUUUUUUUUUUUUUUUUUUUUUUUUUUUUUUUUUUUUUUUUUUUUUUUUUUUUUUUUUUUUUUUUUUUUUUUUUUUUUUUUUUUUUUUUUUUUUUUUUUUUUUUUUUUUUUUUUUUUUUUUUUUUUUUUUUUUUUUU����\u0000\u0000\u0000\u0003H\u0000\u0000\u0000\u0000LAME3.100UUUUUUUUUUUUUUUUUUUUUUUUUUUUUUUUUUUUUUUUUUUUUUUUUUUUUUUUUUUUUUUUUUUUUUUUUUUUUUUUUUUUUUUUUUUUUUUUUUUUUUUUUUUUUUUUUUUUUUUUUUUUUUUUUUUUUUUUUUUUUUUUUUUUUUUUUUUUUUUUUUUUUUUUUUUUUUUUUUUUUUUUUUUUUUUUUUUUUUUUUUUUUUUUUUUUUUUUUUUUUUUUUUUUUUUUUUUUUUUUUUUUUUUUUUUUUUUUUUUUUUUUUUUUUUUUUUUUUUUUUUUUUUUUUUUUUUUUUUULAME3.100UUUUUUUUUUUUUUUUUUUUUUUUUUUUUUUUUUUUUUUUUUUUUUUUUUUUUUUUUUUUUUUUUUUUUUUUUUUUUUUUUUUUUUUUUUUUUUUUUUUUUUUUUUUUUUUUUUUUUUUUUUUUUUUUUUUUUUUUUUUUUUUUUUUUUUUUUUUUUUUUUUUUUUUUUUUUUUUUUUUUUUUUUUUUUUUUUUUUUUUUUUUUUUUUUUUUUUUUUUUUUUUUUUUUUUUUUUUUUUUUUUUUUU\n"
     ]
    },
    {
     "data": {
      "text/plain": [
       "'response_audio.wav'"
      ]
     },
     "execution_count": 6,
     "metadata": {},
     "output_type": "execute_result"
    }
   ],
   "source": [
    "def request_tts(text):\n",
    "    file_name = \"response_audio.wav\"\n",
    "    endpoint = tts_endpoint\n",
    "    headers = {\n",
    "        \"Content-Type\" : \"application/ssml+xml\",\n",
    "        \"X-Microsoft-OutputFormat\" : \"audio-16khz-128kbitrate-mono-mp3\",\n",
    "        \"Ocp-Apim-Subscription-Key\" : tts_key\n",
    "\n",
    "    }\n",
    "    body = f\"\"\" \n",
    "        <speak version='1.0' xml:lang='ko-KR'>\n",
    "            <voice xml:lang='en-US' xml:gender='Female' name='ko-KR-GookMinNeural'>\n",
    "                <prosody rate=\"50%\">\n",
    "                    {text}\n",
    "                </prosody>\n",
    "            </voice>\n",
    "        </speak>\n",
    "    \"\"\"\n",
    "\n",
    "    response = requests.post(endpoint, headers = headers, data=body)\n",
    "    print(response.status_code, response.text)\n",
    "\n",
    "    if response.status_code == 200:\n",
    "\n",
    "        # 파일로 저장\n",
    "        with open(file_name, 'wb') as audio_file:\n",
    "            audio_file.write(response.content)\n",
    "        return file_name\n",
    "\n",
    "    else:\n",
    "        return None\n",
    "    \n",
    "\n",
    "request_tts(\"안녕 반가워\")"
   ]
  },
  {
   "cell_type": "code",
   "execution_count": 9,
   "metadata": {},
   "outputs": [
    {
     "name": "stdout",
     "output_type": "stream",
     "text": [
      "* Running on local URL:  http://127.0.0.1:7863\n",
      "\n",
      "To create a public link, set `share=True` in `launch()`.\n"
     ]
    },
    {
     "data": {
      "text/html": [
       "<div><iframe src=\"http://127.0.0.1:7863/\" width=\"100%\" height=\"500\" allow=\"autoplay; camera; microphone; clipboard-read; clipboard-write;\" frameborder=\"0\" allowfullscreen></iframe></div>"
      ],
      "text/plain": [
       "<IPython.core.display.HTML object>"
      ]
     },
     "metadata": {},
     "output_type": "display_data"
    },
    {
     "data": {
      "text/plain": []
     },
     "execution_count": 9,
     "metadata": {},
     "output_type": "execute_result"
    }
   ],
   "source": [
    "with gr.Blocks() as demo2:\n",
    "    def click_send(text):\n",
    "        file_path = request_tts(text)\n",
    "        if file_path:\n",
    "            return file_path\n",
    "        else:\n",
    "            return None\n",
    "\n",
    "    tts_input_textbox = gr.Textbox(label=\"입력\", placeholder=\"음성 변환할 텍스트를 입력하세요\")\n",
    "    send_tts_button = gr.Button('전송')\n",
    "\n",
    "    output_tts_audio = gr.Audio(interactive=False, autoplay = True)\n",
    "\n",
    "    send_tts_button.click(fn=click_send, inputs=[tts_input_textbox], outputs=[output_tts_audio])\n",
    "\n",
    "demo2.launch()"
   ]
  },
  {
   "cell_type": "markdown",
   "metadata": {},
   "source": [
    "# 전체 합치기"
   ]
  },
  {
   "cell_type": "code",
   "execution_count": null,
   "metadata": {},
   "outputs": [],
   "source": [
    "import gradio as gr\n",
    "import requests"
   ]
  },
  {
   "cell_type": "code",
   "execution_count": null,
   "metadata": {},
   "outputs": [],
   "source": [
    "# REST API 정보\n",
    "# STT\n",
    "\n",
    "# TTS\n"
   ]
  },
  {
   "cell_type": "code",
   "execution_count": null,
   "metadata": {},
   "outputs": [],
   "source": [
    "####### STT ########\n",
    "def request_stt(file_path):\n",
    "    # endpoint\n",
    "    endpoint = end_point\n",
    "\n",
    "    query_params = {\n",
    "        \"language\" : \"ko-KR\",\n",
    "        \"format\" : \"detailed\"\n",
    "    }\n",
    "    # method:POST\n",
    "    # headers\n",
    "    headers = {\n",
    "        \"Content-Type\" : \"audio/wav\",\n",
    "        \"Ocp-Apim-Subscription-Key\" : stt_key\n",
    "\n",
    "    }\n",
    "    # body\n",
    "    with open(file_path, \"rb\") as audio:\n",
    "        audio_data = audio.read()\n",
    "\n",
    "\n",
    "    response = requests.post(endpoint, params=query_params, headers=headers, data = audio_data)\n",
    "    print(response.status_code, response.text)\n",
    "\n",
    "\n",
    "    if response.status_code == 200:\n",
    "        response_json = response.json()\n",
    "        text = response_json['DisplayText']\n",
    "\n",
    "        return text\n",
    "    \n",
    "    else:\n",
    "        return \"\"\n",
    "\n",
    "######### TTS ############\n",
    "\n",
    "def request_tts(text):\n",
    "    file_name = \"response_audio.wav\"\n",
    "    endpoint = tts_endpoint\n",
    "    headers = {\n",
    "        \"Content-Type\" : \"application/ssml+xml\",\n",
    "        \"X-Microsoft-OutputFormat\" : \"audio-16khz-128kbitrate-mono-mp3\",\n",
    "        \"Ocp-Apim-Subscription-Key\" : tts_key\n",
    "\n",
    "    }\n",
    "    body = f\"\"\" \n",
    "        <speak version='1.0' xml:lang='ko-KR'>\n",
    "            <voice xml:lang='en-US' xml:gender='Female' name='ko-KR-GookMinNeural'>\n",
    "                <prosody rate=\"50%\">\n",
    "                    {text}\n",
    "                </prosody>\n",
    "            </voice>\n",
    "        </speak>\n",
    "    \"\"\"\n",
    "\n",
    "    response = requests.post(endpoint, headers = headers, data=body)\n",
    "    print(response.status_code, response.text)\n",
    "\n",
    "    if response.status_code == 200:\n",
    "\n",
    "        # 파일로 저장\n",
    "        with open(file_name, 'wb') as audio_file:\n",
    "            audio_file.write(response.content)\n",
    "        return file_name\n",
    "\n",
    "    else:\n",
    "        return None\n",
    "    \n",
    "\n",
    "#request_tts(\"안녕 반가워\")\n",
    "\n",
    "#request_stt(\"data/audio1.wav\")\n",
    "\n",
    "with gr.Blocks() as demo:\n",
    "\n",
    "    gr.Markdown(\"# AI Speech World!\")\n",
    "\n",
    "    def change_audio(audio_path):\n",
    "        if audio_path:\n",
    "            text = request_stt(audio_path)\n",
    "            return text\n",
    "        else:\n",
    "            return \"\"\n",
    "\n",
    "    def click_send(text):\n",
    "        file_path = request_tts(text)\n",
    "        if file_path:\n",
    "            return file_path\n",
    "        else:\n",
    "            return None\n",
    "\n",
    "\n",
    "    with gr.Column():\n",
    "        gr.Markdown(\"### STT ###\")\n",
    "\n",
    "        input_mic = gr.Audio(label=\"마이크 입력\", sources=\"microphone\", type=\"filepath\", show_download_button=True)\n",
    "        output_textbox = gr.Textbox(label=\"텍스트\", interactive=False)\n",
    "\n",
    "        input_mic.change(change_audio, inputs=[input_mic], outputs=[output_textbox])\n",
    "\n",
    "    with gr.Column():\n",
    "\n",
    "\n",
    "        tts_input_textbox = gr.Textbox(label=\"입력\", placeholder=\"음성 변환할 텍스트를 입력하세요\")\n",
    "        send_tts_button = gr.Button('전송')\n",
    "\n",
    "        output_tts_audio = gr.Audio(interactive=False, autoplay = True)\n",
    "\n",
    "        send_tts_button.click(fn=click_send, inputs=[tts_input_textbox], outputs=[output_tts_audio])\n",
    "\n",
    "    demo.launch()"
   ]
  }
 ],
 "metadata": {
  "kernelspec": {
   "display_name": "openai",
   "language": "python",
   "name": "python3"
  },
  "language_info": {
   "codemirror_mode": {
    "name": "ipython",
    "version": 3
   },
   "file_extension": ".py",
   "mimetype": "text/x-python",
   "name": "python",
   "nbconvert_exporter": "python",
   "pygments_lexer": "ipython3",
   "version": "3.13.2"
  }
 },
 "nbformat": 4,
 "nbformat_minor": 2
}
