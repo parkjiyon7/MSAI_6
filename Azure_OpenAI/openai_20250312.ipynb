{
 "cells": [
  {
   "cell_type": "markdown",
   "metadata": {},
   "source": [
    "# Open AI Search 기능 추가"
   ]
  },
  {
   "cell_type": "markdown",
   "metadata": {},
   "source": [
    "## 라이브러리 import"
   ]
  },
  {
   "cell_type": "code",
   "execution_count": 2,
   "metadata": {},
   "outputs": [],
   "source": [
    "import requests"
   ]
  },
  {
   "cell_type": "code",
   "execution_count": null,
   "metadata": {},
   "outputs": [],
   "source": [
    "# api-key 변수에 저장\n",
    "api_key = \"\""
   ]
  },
  {
   "cell_type": "markdown",
   "metadata": {},
   "source": [
    "## REST API 정보 입력\n",
    "curl, json 형식으로 가져옴"
   ]
  },
  {
   "cell_type": "code",
   "execution_count": null,
   "metadata": {},
   "outputs": [],
   "source": [
    "# endpoint\n",
    "endpoint = \"]\"\n",
    "# method : POST\n",
    "\n",
    "# headers\n",
    "headers = {\n",
    "    \"Content-Type\" : \"application/json\",\n",
    "    \"api-key\" : api_key\n",
    "}\n",
    "\n",
    "# 임시 프롬프트\n",
    "prompt = \"남해 관광지 3곳만 알려줘\"\n",
    "\n",
    "# body\n",
    "body = {\n",
    "  \"messages\": [\n",
    "    {\n",
    "      \"role\": \"system\",\n",
    "      \"content\": [\n",
    "        {\n",
    "          \"type\": \"text\",\n",
    "          \"text\": \"너는 남해 여행 전문가야\"\n",
    "        }\n",
    "      ]\n",
    "    }, \n",
    "    {\n",
    "      \"role\": \"user\",\n",
    "      \"content\": prompt\n",
    "    }\n",
    "  ],\n",
    "  \"temperature\": 0.7,\n",
    "  \"top_p\": 0.95,\n",
    "  \"max_tokens\": 800\n",
    "}"
   ]
  },
  {
   "cell_type": "code",
   "execution_count": null,
   "metadata": {},
   "outputs": [
    {
     "name": "stdout",
     "output_type": "stream",
     "text": [
      "assistant\n"
     ]
    }
   ],
   "source": [
    "# API 엔드포인트에 POST 요청을 보내고 응답을 받음\n",
    "response = requests.post(endpoint, headers=headers, json=body)\n",
    "\n",
    "# 응답을 JSON 형식으로 변환\n",
    "response_json = response.json()\n",
    "\n",
    "# 응답에서 메시지 및 콘텐츠 필터링 결과 추출\n",
    "message = response_json['choices'][0]['message']\n",
    "content_filter = response_json['choices'][0]['content_filter_results']\n",
    "\n",
    "# 메시지에서 역할(role)과 내용(content) 가져오기\n",
    "role = message['role']\n",
    "content = message['content']\n",
    "\n",
    "# 응답 상태 코드와 응답 본문을 출력하는 디버깅 코드 (주석 해제하면 확인 가능)\n",
    "# print(response.status_code, response.text)\n",
    "\n",
    "\n",
    "print(role)"
   ]
  },
  {
   "cell_type": "code",
   "execution_count": 3,
   "metadata": {},
   "outputs": [
    {
     "ename": "NameError",
     "evalue": "name 'content' is not defined",
     "output_type": "error",
     "traceback": [
      "\u001b[31m---------------------------------------------------------------------------\u001b[39m",
      "\u001b[31mNameError\u001b[39m                                 Traceback (most recent call last)",
      "\u001b[36mCell\u001b[39m\u001b[36m \u001b[39m\u001b[32mIn[3]\u001b[39m\u001b[32m, line 3\u001b[39m\n\u001b[32m      1\u001b[39m \u001b[38;5;28;01mfrom\u001b[39;00m\u001b[38;5;250m \u001b[39m\u001b[34;01mIPython\u001b[39;00m\u001b[34;01m.\u001b[39;00m\u001b[34;01mdisplay\u001b[39;00m\u001b[38;5;250m \u001b[39m\u001b[38;5;28;01mimport\u001b[39;00m Markdown\n\u001b[32m----> \u001b[39m\u001b[32m3\u001b[39m display(Markdown(\u001b[43mcontent\u001b[49m))\n",
      "\u001b[31mNameError\u001b[39m: name 'content' is not defined"
     ]
    }
   ],
   "source": [
    "from IPython.display import Markdown\n",
    "\n",
    "display(Markdown(content))"
   ]
  },
  {
   "cell_type": "markdown",
   "metadata": {},
   "source": [
    "## 함수로 만들기"
   ]
  },
  {
   "cell_type": "code",
   "execution_count": 1,
   "metadata": {},
   "outputs": [],
   "source": [
    "import requests\n",
    "import re"
   ]
  },
  {
   "cell_type": "code",
   "execution_count": null,
   "metadata": {},
   "outputs": [],
   "source": [
    "\n"
   ]
  },
  {
   "cell_type": "code",
   "execution_count": null,
   "metadata": {},
   "outputs": [],
   "source": [
    "def request_gpt (prompt):\n",
    "    # headers\n",
    "    headers = {\n",
    "        \"Content-Type\" : \"application/json\",\n",
    "        \"api-key\" : api_key\n",
    "    }\n",
    "\n",
    "    # body\n",
    "    body = {\n",
    "        \"messages\": [\n",
    "            {\n",
    "            \"role\": \"system\",\n",
    "            \"content\": [\n",
    "                {\n",
    "                \"type\": \"text\",\n",
    "                \"text\": \"너는 남해 여행 전문가야\"\n",
    "                }\n",
    "            ]\n",
    "            }, \n",
    "            {\n",
    "            \"role\": \"user\",\n",
    "            \"content\": prompt\n",
    "            }\n",
    "        ],\n",
    "        \"temperature\": 0.7,\n",
    "        \"top_p\": 0.95,\n",
    "        \"max_tokens\": 800,\n",
    "        \n",
    "        \"data_sources\": [\n",
    "            {\n",
    "                \"type\": \"azure_search\",\n",
    "                \"parameters\": {\n",
    "                    \"endpoint\": ai_search_endpoint,\n",
    "                    \"index_name\": ai_search_index,\n",
    "                    \"semantic_configuration\": ai_search_semantic,\n",
    "                    \"query_type\": \"semantic\",\n",
    "                    \"fields_mapping\": {},\n",
    "                    \"in_scope\": True,\n",
    "                    \"role_information\": \"너는 남해 여행 전문가야\",\n",
    "                    \"filter\": None,\n",
    "                    \"strictness\": 3,\n",
    "                    \"top_n_documents\": 5,\n",
    "                    \"authentication\": {\n",
    "                    \"type\": \"api_key\",\n",
    "                    \"key\": ai_search_api_key\n",
    "                    },\n",
    "                    \"key\": ai_search_api_key,\n",
    "                    \"indexName\": ai_search_index\n",
    "                }\n",
    "            }\n",
    "        ],\n",
    "    }\n",
    "    # API 엔드포인트에 POST 요청을 보내고 응답을 받음\n",
    "    response = requests.post(endpoint, headers=headers, json=body)\n",
    "    \n",
    "    print(response)\n",
    "    \n",
    "    if response.status_code == 200:\n",
    "\n",
    "        # 응답을 JSON 형식으로 변환\n",
    "        response_json = response.json()\n",
    "\n",
    "        # 응답에서 메시지 및 콘텐츠 필터링 결과 추출\n",
    "        message = response_json['choices'][0]['message']\n",
    "        #content_filter = response_json['choices'][0]['content_filter_results']\n",
    "        citaiton_list = message['context']['citations']\n",
    "\n",
    "        # 메시지에서 역할(role)과 내용(content) 가져오기\n",
    "        role = message['role']\n",
    "        content = message['content']\n",
    "        content = re.sub(r'\\[doc(\\d+)\\]', r'[참조 \\1]', content)\n",
    "\n",
    "        print(role)\n",
    "        return content, citaiton_list\n",
    "    \n",
    "    else:\n",
    "        return \"\"\n",
    "\n",
    "# 함수 불러오기\n",
    "content, citation_list = request_gpt(\"남해 관광지 3곳만 알려줘\")\n",
    "\n",
    "    # 응답 상태 코드와 응답 본문을 출력하는 디버깅 코드 (주석 해제하면 확인 가능)\n",
    "    # print(response.status_code, response.text)\n",
    "from IPython.display import Markdown\n",
    "display(Markdown(content))\n",
    "\n",
    "for index in range(len(citation_list)):\n",
    "    c = citation_list[index]\n",
    "    print(\"Index : {}\".format(index + 1), c['content'])\n",
    "    "
   ]
  },
  {
   "cell_type": "code",
   "execution_count": null,
   "metadata": {},
   "outputs": [],
   "source": []
  }
 ],
 "metadata": {
  "kernelspec": {
   "display_name": "openai",
   "language": "python",
   "name": "python3"
  },
  "language_info": {
   "codemirror_mode": {
    "name": "ipython",
    "version": 3
   },
   "file_extension": ".py",
   "mimetype": "text/x-python",
   "name": "python",
   "nbconvert_exporter": "python",
   "pygments_lexer": "ipython3",
   "version": "3.13.2"
  }
 },
 "nbformat": 4,
 "nbformat_minor": 2
}
