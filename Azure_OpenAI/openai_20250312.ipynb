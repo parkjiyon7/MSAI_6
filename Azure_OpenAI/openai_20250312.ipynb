{
 "cells": [
  {
   "cell_type": "markdown",
   "metadata": {},
   "source": [
    "# Open AI Search 기능 추가"
   ]
  },
  {
   "cell_type": "markdown",
   "metadata": {},
   "source": [
    "## 라이브러리 import"
   ]
  },
  {
   "cell_type": "code",
   "execution_count": 2,
   "metadata": {},
   "outputs": [],
   "source": [
    "import requests"
   ]
  },
  {
   "cell_type": "code",
   "execution_count": null,
   "metadata": {},
   "outputs": [],
   "source": [
    "# api-key 변수에 저장\n",
    "api_key = \"\""
   ]
  },
  {
   "cell_type": "markdown",
   "metadata": {},
   "source": [
    "## REST API 정보 입력\n",
    "curl, json 형식으로 가져옴"
   ]
  },
  {
   "cell_type": "code",
   "execution_count": null,
   "metadata": {},
   "outputs": [],
   "source": [
    "# endpoint\n",
    "endpoint = \"]\"\n",
    "# method : POST\n",
    "\n",
    "# headers\n",
    "headers = {\n",
    "    \"Content-Type\" : \"application/json\",\n",
    "    \"api-key\" : api_key\n",
    "}\n",
    "\n",
    "# 임시 프롬프트\n",
    "prompt = \"남해 관광지 3곳만 알려줘\"\n",
    "\n",
    "# body\n",
    "body = {\n",
    "  \"messages\": [\n",
    "    {\n",
    "      \"role\": \"system\",\n",
    "      \"content\": [\n",
    "        {\n",
    "          \"type\": \"text\",\n",
    "          \"text\": \"너는 남해 여행 전문가야\"\n",
    "        }\n",
    "      ]\n",
    "    }, \n",
    "    {\n",
    "      \"role\": \"user\",\n",
    "      \"content\": prompt\n",
    "    }\n",
    "  ],\n",
    "  \"temperature\": 0.7,\n",
    "  \"top_p\": 0.95,\n",
    "  \"max_tokens\": 800\n",
    "}"
   ]
  },
  {
   "cell_type": "code",
   "execution_count": null,
   "metadata": {},
   "outputs": [
    {
     "name": "stdout",
     "output_type": "stream",
     "text": [
      "assistant\n"
     ]
    }
   ],
   "source": [
    "# API 엔드포인트에 POST 요청을 보내고 응답을 받음\n",
    "response = requests.post(endpoint, headers=headers, json=body)\n",
    "\n",
    "# 응답을 JSON 형식으로 변환\n",
    "response_json = response.json()\n",
    "\n",
    "# 응답에서 메시지 및 콘텐츠 필터링 결과 추출\n",
    "message = response_json['choices'][0]['message']\n",
    "content_filter = response_json['choices'][0]['content_filter_results']\n",
    "\n",
    "# 메시지에서 역할(role)과 내용(content) 가져오기\n",
    "role = message['role']\n",
    "content = message['content']\n",
    "\n",
    "# 응답 상태 코드와 응답 본문을 출력하는 디버깅 코드 (주석 해제하면 확인 가능)\n",
    "# print(response.status_code, response.text)\n",
    "\n",
    "\n",
    "print(role)"
   ]
  },
  {
   "cell_type": "code",
   "execution_count": 3,
   "metadata": {},
   "outputs": [
    {
     "ename": "NameError",
     "evalue": "name 'content' is not defined",
     "output_type": "error",
     "traceback": [
      "\u001b[31m---------------------------------------------------------------------------\u001b[39m",
      "\u001b[31mNameError\u001b[39m                                 Traceback (most recent call last)",
      "\u001b[36mCell\u001b[39m\u001b[36m \u001b[39m\u001b[32mIn[3]\u001b[39m\u001b[32m, line 3\u001b[39m\n\u001b[32m      1\u001b[39m \u001b[38;5;28;01mfrom\u001b[39;00m\u001b[38;5;250m \u001b[39m\u001b[34;01mIPython\u001b[39;00m\u001b[34;01m.\u001b[39;00m\u001b[34;01mdisplay\u001b[39;00m\u001b[38;5;250m \u001b[39m\u001b[38;5;28;01mimport\u001b[39;00m Markdown\n\u001b[32m----> \u001b[39m\u001b[32m3\u001b[39m display(Markdown(\u001b[43mcontent\u001b[49m))\n",
      "\u001b[31mNameError\u001b[39m: name 'content' is not defined"
     ]
    }
   ],
   "source": [
    "from IPython.display import Markdown\n",
    "\n",
    "display(Markdown(content))"
   ]
  },
  {
   "cell_type": "markdown",
   "metadata": {},
   "source": [
    "## 함수로 만들기"
   ]
  },
  {
   "cell_type": "code",
   "execution_count": 1,
   "metadata": {},
   "outputs": [],
   "source": [
    "import requests\n",
    "import re"
   ]
  },
  {
   "cell_type": "code",
   "execution_count": null,
   "metadata": {},
   "outputs": [],
   "source": [
    "# endpoint\n",
    "\n",
    "endpoint = \"\"\n",
    "# method : POST\n",
    "api_key = \"\"\n",
    "ai_search_endpoint = \"\"\n",
    "ai_search_api_key = \"\"\n",
    "ai_search_index = \"\"\n",
    "ai_search_semantic = \"\"\n",
    "\n"
   ]
  },
  {
   "cell_type": "code",
   "execution_count": null,
   "metadata": {},
   "outputs": [
    {
     "name": "stdout",
     "output_type": "stream",
     "text": [
      "<Response [200]>\n",
      "assistant\n"
     ]
    },
    {
     "data": {
      "text/markdown": [
       "남해의 관광지 중에서 아래 3곳을 추천드립니다:\n",
       "\n",
       "1. **남해 물건리 방조어부림**  \n",
       "   천여 그루의 방풍림으로 조성된 이곳은 남해 바다의 정취와 독특한 풍경을 즐길 수 있습니다. [참조 1]\n",
       "\n",
       "2. **남해 양마르뜨 목장**  \n",
       "   남해 삼동면에 위치하며, 가을 단풍과 더불어 주변의 자연 경관을 감상할 수 있는 목장입니다. 이곳에서는 '양몰이 공연'도 유명합니다. [참조 2]\n",
       "\n",
       "3. **가천 다랭이마을**  \n",
       "   CNN이 선정한 한국에서 꼭 가봐야 할 곳 중 하나로, 독특한 계단식 논과 남해 바다를 함께 감상할 수 있는 곳입니다. [참조 3]"
      ],
      "text/plain": [
       "<IPython.core.display.Markdown object>"
      ]
     },
     "metadata": {},
     "output_type": "display_data"
    },
    {
     "name": "stdout",
     "output_type": "stream",
     "text": [
      "Index : 1 남해군 삼동면 동부대로1030번길 59\n",
      "2천여 그루의 방풍림으로 조성된 울창한 수림이 초승달 모양을 그리며 장관을 이루고 있는 곳으로 숲과 어우러진 몽돌해안은 남해 바다의 정취가 물씬 풍기는 독특함을 자랑한다.\n",
      "Y\n",
      "34.7958875\n",
      "128.0504234\n",
      "남해 물건리 방조어부림과 물미해안\n",
      "055-860-8631\n",
      "봄, 여름, 가을, 겨울, 자가용/렌트, 버스, 친구, 키즈, 연인, 우정女, 우정男, 효도, 나홀로, 단체\n",
      "관광지\n",
      "천연기념물 제150호\n",
      "Index : 2 경상남도 남해군 삼동면 금암로 179-45\n",
      "삼동면 봉화리 131, 일대에 2018년 5월 개장한 이곳은 삼동면 일대의 인기 관광지가 다 집약된 곳 중 노른자 위치에 자리한 양떼목장이기에 접근성이 빼어나다. 가을 단풍이 좋기로 유명한 삼동면 내산에 자리한 이 목장의 주변은 편백자연휴양림, 나비생태공원, 바람흔적미술관과 이웃하며 독일마을, 해오름예술촌과도 연계해 가기 좋다. 매일 오전 11시에서 3시 사이 매시 정각에 하는 ‘양몰이 공연’이 유명한 이곳 양마르뜨 목장은 방송 출연으로도 화제가 되었던 ‘양몰이 개’ 모스가 유명하다. 양을 모는 검은 개 ‘모스’가 선두에서 수 십마리의 양을 모는 모습은 그야말로 드라마틱한 장면의 연속이다. 간혹 무리에서 이탈한 한 두 마리의 어린 양을 발견하기도 하는 재미는 덤으로 따라온다. 양몰이 공연이 마치면 원반던지기 체험도 종종 이어진다.\n",
      "Y\n",
      "https://www.nh-yang.com/\n",
      "34.7904325\n",
      "128.0241394\n",
      "남해양떼목장 양마르뜨 언덕\n",
      "봄, 여름, 가을, 겨울, 자가용/렌트, 친구, 키즈, 연인, 우정女, 우정男, 효도, 나홀로, 단체\n",
      "관광지\n",
      "Index : 3 경상남도 남해군 남면 남면로679번길 21\n",
      "\"CNN이 선정한 한국에서 꼭 가봐야 할 곳 3위\" 드라이브 코스로 각광받는 남면 해안 관광도로 최남단의 가천 다랭이마을은 푸른 바다를 접한 산비탈을 일군 좁고 긴 게단 형태의 다랑이논(명승 제15호)이 있는 마을로 섬 특유의 정취를 느끼게 하며 또 다른 자랑거리인 암수바위가 있다.\n",
      "Y\n",
      "https://darangyi.modoo.at/\n",
      "34.7275092\n",
      "127.8940077\n",
      "가천다랭이마을\n",
      "055-863-3893\n",
      "마을여행, 봄, 여름, 가을, 자가용/렌트, 키즈, 단체\n",
      "관광지\n",
      "Index : 4 경상남도 남해군 설천면 설천로775번길 364\n",
      "굽이굽이 구불구불 비탈진 인생도 생애 어느 날만큼은 탁 트인 초원에서 모든 상념을 내려놓고 쉬어 가야 하지 않을까. 탁 트인 드넓은 들판. 푸른 초록의 숲과 들, 눈 앞에 펼쳐진 시원한 바다. 곳곳에 우리를 둘러싼 귀여운 양들의 산책까지. 이 모든 걸 만날 수 있는 남해상상양떼목장이 설천면 구두산 일대에 펼쳐져 있다.\n",
      "Y\n",
      "http://yangttefarm.com/\n",
      "34.9361826\n",
      "127.8906311\n",
      "남해 상상양떼목장 편백숲\n",
      "055-862-5300\n",
      "봄, 여름, 가을, 겨울, 자가용/렌트, 친구, 키즈, 연인, 우정女, 우정男, 효도\n",
      "관광지\n",
      "Index : 5 경상남도 남해군 설천면 남해대로 4216\n",
      "Y\n",
      "34.9407443\n",
      "127.8724304\n",
      "남해대교와 남해각\n",
      "055-860-3311\n",
      "관광명소, 봄, 자가용/렌트, 친구\n",
      "관광지\n"
     ]
    }
   ],
   "source": [
    "def request_gpt (prompt):\n",
    "    # headers\n",
    "    headers = {\n",
    "        \"Content-Type\" : \"application/json\",\n",
    "        \"api-key\" : api_key\n",
    "    }\n",
    "\n",
    "    # body\n",
    "    body = {\n",
    "        \"messages\": [\n",
    "            {\n",
    "            \"role\": \"system\",\n",
    "            \"content\": [\n",
    "                {\n",
    "                \"type\": \"text\",\n",
    "                \"text\": \"너는 남해 여행 전문가야\"\n",
    "                }\n",
    "            ]\n",
    "            }, \n",
    "            {\n",
    "            \"role\": \"user\",\n",
    "            \"content\": prompt\n",
    "            }\n",
    "        ],\n",
    "        \"temperature\": 0.7,\n",
    "        \"top_p\": 0.95,\n",
    "        \"max_tokens\": 800,\n",
    "        \n",
    "        \"data_sources\": [\n",
    "            {\n",
    "                \"type\": \"azure_search\",\n",
    "                \"parameters\": {\n",
    "                    \"endpoint\": ai_search_endpoint,\n",
    "                    \"index_name\": ai_search_index,\n",
    "                    \"semantic_configuration\": ai_search_semantic,\n",
    "                    \"query_type\": \"semantic\",\n",
    "                    \"fields_mapping\": {},\n",
    "                    \"in_scope\": True,\n",
    "                    \"role_information\": \"너는 남해 여행 전문가야\",\n",
    "                    \"filter\": None,\n",
    "                    \"strictness\": 3,\n",
    "                    \"top_n_documents\": 5,\n",
    "                    \"authentication\": {\n",
    "                    \"type\": \"api_key\",\n",
    "                    \"key\": ai_search_api_key\n",
    "                    },\n",
    "                    \"key\": ai_search_api_key,\n",
    "                    \"indexName\": ai_search_index\n",
    "                }\n",
    "            }\n",
    "        ],\n",
    "    }\n",
    "    # API 엔드포인트에 POST 요청을 보내고 응답을 받음\n",
    "    response = requests.post(endpoint, headers=headers, json=body)\n",
    "    \n",
    "    print(response)\n",
    "    \n",
    "    if response.status_code == 200:\n",
    "\n",
    "        # 응답을 JSON 형식으로 변환\n",
    "        response_json = response.json()\n",
    "\n",
    "        # 응답에서 메시지 및 콘텐츠 필터링 결과 추출\n",
    "        message = response_json['choices'][0]['message']\n",
    "        #content_filter = response_json['choices'][0]['content_filter_results']\n",
    "        citaiton_list = message['context']['citations']\n",
    "\n",
    "        # 메시지에서 역할(role)과 내용(content) 가져오기\n",
    "        role = message['role']\n",
    "        content = message['content']\n",
    "        content = re.sub(r'\\[doc(\\d+)\\]', r'[참조 \\1]', content)\n",
    "\n",
    "        print(role)\n",
    "        return content, citaiton_list\n",
    "    \n",
    "    else:\n",
    "        return \"\"\n",
    "\n",
    "# 함수 불러오기\n",
    "content, citation_list = request_gpt(\"남해 관광지 3곳만 알려줘\")\n",
    "\n",
    "    # 응답 상태 코드와 응답 본문을 출력하는 디버깅 코드 (주석 해제하면 확인 가능)\n",
    "    # print(response.status_code, response.text)\n",
    "from IPython.display import Markdown\n",
    "display(Markdown(content))\n",
    "\n",
    "for index in range(len(citation_list)):\n",
    "    c = citation_list[index]\n",
    "    print(\"Index : {}\".format(index + 1), c['content'])\n",
    "    "
   ]
  },
  {
   "cell_type": "code",
   "execution_count": null,
   "metadata": {},
   "outputs": [],
   "source": []
  }
 ],
 "metadata": {
  "kernelspec": {
   "display_name": "openai",
   "language": "python",
   "name": "python3"
  },
  "language_info": {
   "codemirror_mode": {
    "name": "ipython",
    "version": 3
   },
   "file_extension": ".py",
   "mimetype": "text/x-python",
   "name": "python",
   "nbconvert_exporter": "python",
   "pygments_lexer": "ipython3",
   "version": "3.13.2"
  }
 },
 "nbformat": 4,
 "nbformat_minor": 2
}
