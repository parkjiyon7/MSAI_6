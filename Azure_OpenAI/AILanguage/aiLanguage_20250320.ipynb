{
 "cells": [
  {
   "cell_type": "markdown",
   "metadata": {},
   "source": [
    "# AI Language - NER"
   ]
  },
  {
   "cell_type": "code",
   "execution_count": null,
   "metadata": {},
   "outputs": [],
   "source": []
  },
  {
   "cell_type": "code",
   "execution_count": 7,
   "metadata": {},
   "outputs": [
    {
     "name": "stdout",
     "output_type": "stream",
     "text": [
      "200 b'{\"kind\":\"EntityRecognitionResults\",\"results\":{\"documents\":[{\"id\":\"d2179182-d8ab-4dcd-8d1d-5b0400625062\",\"entities\":[{\"text\":\"Apple\",\"category\":\"Organization\",\"offset\":48,\"length\":5,\"confidenceScore\":1.0},{\"text\":\"portless\",\"category\":\"Product\",\"offset\":179,\"length\":8,\"confidenceScore\":0.52},{\"text\":\"phone\",\"category\":\"Product\",\"offset\":188,\"length\":5,\"confidenceScore\":0.62},{\"text\":\"MagSafe\",\"category\":\"Organization\",\"offset\":204,\"length\":7,\"confidenceScore\":0.9},{\"text\":\"legal\",\"category\":\"Skill\",\"offset\":240,\"length\":5,\"confidenceScore\":0.75},{\"text\":\"EU\",\"category\":\"Location\",\"subcategory\":\"GPE\",\"offset\":257,\"length\":2,\"confidenceScore\":0.51},{\"text\":\"Lovejoy\",\"category\":\"Person\",\"offset\":272,\"length\":7,\"confidenceScore\":1.0}],\"warnings\":[]}],\"errors\":[],\"modelVersion\":\"2025-02-01\"}}'\n"
     ]
    },
    {
     "data": {
      "text/plain": [
       "{'kind': 'EntityRecognitionResults',\n",
       " 'results': {'documents': [{'id': 'd2179182-d8ab-4dcd-8d1d-5b0400625062',\n",
       "    'entities': [{'text': 'Apple',\n",
       "      'category': 'Organization',\n",
       "      'offset': 48,\n",
       "      'length': 5,\n",
       "      'confidenceScore': 1.0},\n",
       "     {'text': 'portless',\n",
       "      'category': 'Product',\n",
       "      'offset': 179,\n",
       "      'length': 8,\n",
       "      'confidenceScore': 0.52},\n",
       "     {'text': 'phone',\n",
       "      'category': 'Product',\n",
       "      'offset': 188,\n",
       "      'length': 5,\n",
       "      'confidenceScore': 0.62},\n",
       "     {'text': 'MagSafe',\n",
       "      'category': 'Organization',\n",
       "      'offset': 204,\n",
       "      'length': 7,\n",
       "      'confidenceScore': 0.9},\n",
       "     {'text': 'legal',\n",
       "      'category': 'Skill',\n",
       "      'offset': 240,\n",
       "      'length': 5,\n",
       "      'confidenceScore': 0.75},\n",
       "     {'text': 'EU',\n",
       "      'category': 'Location',\n",
       "      'subcategory': 'GPE',\n",
       "      'offset': 257,\n",
       "      'length': 2,\n",
       "      'confidenceScore': 0.51},\n",
       "     {'text': 'Lovejoy',\n",
       "      'category': 'Person',\n",
       "      'offset': 272,\n",
       "      'length': 7,\n",
       "      'confidenceScore': 1.0}],\n",
       "    'warnings': []}],\n",
       "  'errors': [],\n",
       "  'modelVersion': '2025-02-01'}}"
      ]
     },
     "execution_count": 7,
     "metadata": {},
     "output_type": "execute_result"
    }
   ],
   "source": [
    "import requests\n",
    "import uuid\n",
    "\n",
    "def request_ner(text=\"\", language=\"ko\"):\n",
    "    endpoint = endpoint_lan\n",
    "\n",
    "    headers = {\n",
    "        \"Content-Type\" : \"application/json\",\n",
    "        \"Ocp-Apim-Subscription-Key\" : lan_key\n",
    "\n",
    "    }\n",
    "    \n",
    "    request_id = str(uuid.uuid4())\n",
    "\n",
    "    body = {\n",
    "        \n",
    "        \"kind\": \"EntityRecognition\",\n",
    "        \"parameters\": {\n",
    "            \"modelVersion\": \"latest\"\n",
    "        },\n",
    "        \"analysisInput\":{\n",
    "            \"documents\":[\n",
    "                {\n",
    "                    \"id\": request_id,\n",
    "                    \"language\": language,\n",
    "                    \"text\": text\n",
    "                }\n",
    "            ]\n",
    "        }\n",
    "        \n",
    "    }\n",
    "\n",
    "    response = requests.post(endpoint, headers=headers, json=body)\n",
    "    print(response.status_code, response.content)\n",
    "\n",
    "    if response.status_code == 200:\n",
    "        response_json = response.json()\n",
    "        return response_json\n",
    "\n",
    "    else:\n",
    "        return None\n",
    "\n",
    "request_ner(\"And the reason why that is interesting is since Apple has given the MagSafe standard to the Wireless Power Consortium, becoming the common standard Qi2. “This means that a future portless phone with only MagSafe charging would be perfectly legal to sell in EU countries,” Lovejoy adds.\", language=\"en\")\n",
    "\n",
    "\n"
   ]
  },
  {
   "cell_type": "markdown",
   "metadata": {},
   "source": [
    "# AI Language - PII"
   ]
  },
  {
   "cell_type": "code",
   "execution_count": 10,
   "metadata": {},
   "outputs": [
    {
     "name": "stdout",
     "output_type": "stream",
     "text": [
      "200 b'{\"kind\":\"PiiEntityRecognitionResults\",\"results\":{\"documents\":[{\"redactedText\":\"Call our office at ************, or send an email to *******************\",\"id\":\"073e81dd-da7a-4f3d-a2e5-456de5a488a2\",\"entities\":[{\"text\":\"312-555-1234\",\"category\":\"PhoneNumber\",\"offset\":19,\"length\":12,\"confidenceScore\":0.8},{\"text\":\"support@contoso.com\",\"category\":\"Email\",\"offset\":53,\"length\":19,\"confidenceScore\":0.8}],\"warnings\":[]}],\"errors\":[],\"modelVersion\":\"2025-02-01\"}}'\n"
     ]
    },
    {
     "data": {
      "text/plain": [
       "{'kind': 'PiiEntityRecognitionResults',\n",
       " 'results': {'documents': [{'redactedText': 'Call our office at ************, or send an email to *******************',\n",
       "    'id': '073e81dd-da7a-4f3d-a2e5-456de5a488a2',\n",
       "    'entities': [{'text': '312-555-1234',\n",
       "      'category': 'PhoneNumber',\n",
       "      'offset': 19,\n",
       "      'length': 12,\n",
       "      'confidenceScore': 0.8},\n",
       "     {'text': 'support@contoso.com',\n",
       "      'category': 'Email',\n",
       "      'offset': 53,\n",
       "      'length': 19,\n",
       "      'confidenceScore': 0.8}],\n",
       "    'warnings': []}],\n",
       "  'errors': [],\n",
       "  'modelVersion': '2025-02-01'}}"
      ]
     },
     "execution_count": 10,
     "metadata": {},
     "output_type": "execute_result"
    }
   ],
   "source": [
    "import requests\n",
    "import uuid\n",
    "\n",
    "def request_pii(text_pii=\"\", language=\"ko\"):\n",
    "    endpoint = endpoint_lan\n",
    "\n",
    "    headers = {\n",
    "        \"Content-Type\" : \"application/json\",\n",
    "        \"Ocp-Apim-Subscription-Key\" : lan_key\n",
    "\n",
    "    }\n",
    "    \n",
    "    request_id = str(uuid.uuid4())\n",
    "\n",
    "    body = {\n",
    "    \"kind\": \"PiiEntityRecognition\",\n",
    "    \"parameters\": {\n",
    "        \"modelVersion\": \"latest\"\n",
    "    },\n",
    "    \"analysisInput\": {\n",
    "        \"documents\": [\n",
    "            {\n",
    "                \"id\": request_id,\n",
    "                \"language\": language,\n",
    "                \"text\": text_pii\n",
    "            }\n",
    "        ]\n",
    "    }\n",
    "}\n",
    "\n",
    "    response = requests.post(endpoint, headers=headers, json=body)\n",
    "    print(response.status_code, response.content)\n",
    "\n",
    "    if response.status_code == 200:\n",
    "        response_json = response.json()\n",
    "        return response_json\n",
    "\n",
    "    else:\n",
    "        return None\n",
    "\n",
    "\n",
    "request_pii(\"Call our office at 312-555-1234, or send an email to support@contoso.com\", language=\"en\")\n",
    "\n"
   ]
  }
 ],
 "metadata": {
  "kernelspec": {
   "display_name": "openai",
   "language": "python",
   "name": "python3"
  },
  "language_info": {
   "codemirror_mode": {
    "name": "ipython",
    "version": 3
   },
   "file_extension": ".py",
   "mimetype": "text/x-python",
   "name": "python",
   "nbconvert_exporter": "python",
   "pygments_lexer": "ipython3",
   "version": "3.13.2"
  }
 },
 "nbformat": 4,
 "nbformat_minor": 2
}
