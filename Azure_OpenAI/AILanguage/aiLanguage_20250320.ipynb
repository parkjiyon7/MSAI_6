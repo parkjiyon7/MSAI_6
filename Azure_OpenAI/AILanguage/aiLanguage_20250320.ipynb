{
 "cells": [
  {
   "cell_type": "markdown",
   "metadata": {},
   "source": [
    "# AI Language - NER"
   ]
  },
  {
   "cell_type": "code",
   "execution_count": null,
   "metadata": {},
   "outputs": [],
   "source": []
  },
  {
   "cell_type": "code",
   "execution_count": 2,
   "metadata": {},
   "outputs": [
    {
     "name": "stdout",
     "output_type": "stream",
     "text": [
      "200 b'{\"kind\":\"EntityRecognitionResults\",\"results\":{\"documents\":[{\"id\":\"65f77864-9476-44d2-9e73-a812be12b17c\",\"entities\":[{\"text\":\"Apple\",\"category\":\"Organization\",\"offset\":48,\"length\":5,\"confidenceScore\":1.0},{\"text\":\"portless\",\"category\":\"Product\",\"offset\":179,\"length\":8,\"confidenceScore\":0.52},{\"text\":\"phone\",\"category\":\"Product\",\"offset\":188,\"length\":5,\"confidenceScore\":0.62},{\"text\":\"MagSafe\",\"category\":\"Organization\",\"offset\":204,\"length\":7,\"confidenceScore\":0.9},{\"text\":\"legal\",\"category\":\"Skill\",\"offset\":240,\"length\":5,\"confidenceScore\":0.75},{\"text\":\"EU\",\"category\":\"Location\",\"subcategory\":\"GPE\",\"offset\":257,\"length\":2,\"confidenceScore\":0.51},{\"text\":\"Lovejoy\",\"category\":\"Person\",\"offset\":272,\"length\":7,\"confidenceScore\":1.0}],\"warnings\":[]}],\"errors\":[],\"modelVersion\":\"2025-02-01\"}}'\n"
     ]
    },
    {
     "data": {
      "text/plain": [
       "{'kind': 'EntityRecognitionResults',\n",
       " 'results': {'documents': [{'id': '65f77864-9476-44d2-9e73-a812be12b17c',\n",
       "    'entities': [{'text': 'Apple',\n",
       "      'category': 'Organization',\n",
       "      'offset': 48,\n",
       "      'length': 5,\n",
       "      'confidenceScore': 1.0},\n",
       "     {'text': 'portless',\n",
       "      'category': 'Product',\n",
       "      'offset': 179,\n",
       "      'length': 8,\n",
       "      'confidenceScore': 0.52},\n",
       "     {'text': 'phone',\n",
       "      'category': 'Product',\n",
       "      'offset': 188,\n",
       "      'length': 5,\n",
       "      'confidenceScore': 0.62},\n",
       "     {'text': 'MagSafe',\n",
       "      'category': 'Organization',\n",
       "      'offset': 204,\n",
       "      'length': 7,\n",
       "      'confidenceScore': 0.9},\n",
       "     {'text': 'legal',\n",
       "      'category': 'Skill',\n",
       "      'offset': 240,\n",
       "      'length': 5,\n",
       "      'confidenceScore': 0.75},\n",
       "     {'text': 'EU',\n",
       "      'category': 'Location',\n",
       "      'subcategory': 'GPE',\n",
       "      'offset': 257,\n",
       "      'length': 2,\n",
       "      'confidenceScore': 0.51},\n",
       "     {'text': 'Lovejoy',\n",
       "      'category': 'Person',\n",
       "      'offset': 272,\n",
       "      'length': 7,\n",
       "      'confidenceScore': 1.0}],\n",
       "    'warnings': []}],\n",
       "  'errors': [],\n",
       "  'modelVersion': '2025-02-01'}}"
      ]
     },
     "execution_count": 2,
     "metadata": {},
     "output_type": "execute_result"
    }
   ],
   "source": [
    "import requests\n",
    "import uuid\n",
    "\n",
    "def request_ner(text=\"\", language=\"ko\"):\n",
    "    endpoint = endpoint_lan\n",
    "\n",
    "    headers = {\n",
    "        \"Content-Type\" : \"application/json\",\n",
    "        \"Ocp-Apim-Subscription-Key\" : lan_key\n",
    "\n",
    "    }\n",
    "    \n",
    "    request_id = str(uuid.uuid4())\n",
    "\n",
    "    body = {\n",
    "        \n",
    "        \"kind\": \"EntityRecognition\",\n",
    "        \"parameters\": {\n",
    "            \"modelVersion\": \"latest\"\n",
    "        },\n",
    "        \"analysisInput\":{\n",
    "            \"documents\":[\n",
    "                {\n",
    "                    \"id\": request_id,\n",
    "                    \"language\": language,\n",
    "                    \"text\": text\n",
    "                }\n",
    "            ]\n",
    "        }\n",
    "        \n",
    "    }\n",
    "\n",
    "    response = requests.post(endpoint, headers=headers, json=body)\n",
    "    print(response.status_code, response.content)\n",
    "\n",
    "    if response.status_code == 200:\n",
    "        response_json = response.json()\n",
    "        return response_json\n",
    "\n",
    "    else:\n",
    "        return None\n",
    "\n",
    "request_ner(\"And the reason why that is interesting is since Apple has given the MagSafe standard to the Wireless Power Consortium, becoming the common standard Qi2. “This means that a future portless phone with only MagSafe charging would be perfectly legal to sell in EU countries,” Lovejoy adds.\", language=\"en\")\n",
    "\n",
    "\n"
   ]
  },
  {
   "cell_type": "markdown",
   "metadata": {},
   "source": [
    "# AI Language - PII"
   ]
  },
  {
   "cell_type": "code",
   "execution_count": 3,
   "metadata": {},
   "outputs": [],
   "source": [
    "import requests\n",
    "import uuid\n",
    "\n",
    "def request_pii(text_pii=\"\", language=\"ko\"):\n",
    "    endpoint = endpoint_lan\n",
    "\n",
    "    headers = {\n",
    "        \"Content-Type\" : \"application/json\",\n",
    "        \"Ocp-Apim-Subscription-Key\" : lan_key\n",
    "\n",
    "    }\n",
    "    \n",
    "    request_id = str(uuid.uuid4())\n",
    "\n",
    "    body = {\n",
    "    \"kind\": \"PiiEntityRecognition\",\n",
    "    \"parameters\": {\n",
    "        \"modelVersion\": \"latest\"\n",
    "    },\n",
    "    \"analysisInput\": {\n",
    "        \"documents\": [\n",
    "            {\n",
    "                \"id\": request_id,\n",
    "                \"language\": language,\n",
    "                \"text\": text_pii\n",
    "            }\n",
    "        ]\n",
    "    }\n",
    "}\n",
    "\n",
    "    response = requests.post(endpoint, headers=headers, json=body)\n",
    "    print(response.status_code, response.content)\n",
    "\n",
    "    if response.status_code == 200:\n",
    "        response_json = response.json()\n",
    "        return response_json\n",
    "\n",
    "    else:\n",
    "        return None\n",
    "\n",
    "\n",
    "#request_pii(\"Call our office at 312-555-1234, or send an email to support@contoso.com\", language=\"en\")\n",
    "\n"
   ]
  },
  {
   "cell_type": "markdown",
   "metadata": {},
   "source": [
    "# Detect Language"
   ]
  },
  {
   "cell_type": "code",
   "execution_count": 4,
   "metadata": {},
   "outputs": [],
   "source": [
    "import requests\n",
    "import uuid\n",
    "\n",
    "def request_language_detect(text_lan_detect=\"\"):\n",
    "    endpoint = endpoint_lan\n",
    "\n",
    "    headers = {\n",
    "        \"Content-Type\" : \"application/json\",\n",
    "        \"Ocp-Apim-Subscription-Key\" : lan_key\n",
    "\n",
    "    }\n",
    "    \n",
    "    request_id = str(uuid.uuid4())\n",
    "\n",
    "    body = {\n",
    "        \"kind\": \"LanguageDetection\",\n",
    "        \"parameters\": {\n",
    "            \"modelVersion\": \"latest\"\n",
    "        },\n",
    "        \"analysisInput\":{\n",
    "            \"documents\":[\n",
    "                {\n",
    "                    \"id\": request_id,\n",
    "                    \"text\": text_lan_detect\n",
    "                }\n",
    "            ]\n",
    "        }\n",
    "    }\n",
    "\n",
    "    response = requests.post(endpoint, headers=headers, json=body)\n",
    "    print(response.status_code, response.content)\n",
    "\n",
    "    if response.status_code == 200:\n",
    "        response_json = response.json()\n",
    "        language_code = response_json['results']['documents'][0]['detectedLanguage']['iso6391Name']\n",
    "        print(language_code)\n",
    "        return language_code\n",
    "\n",
    "    else:\n",
    "        return None\n",
    "\n",
    "\n",
    "#request_language_detect(\"한글과 english를 mix 해서 use하면 how 나올 지 curious\")\n",
    "\n"
   ]
  },
  {
   "cell_type": "markdown",
   "metadata": {},
   "source": [
    "## 위에서 detect 한 language로 ner 분석"
   ]
  },
  {
   "cell_type": "code",
   "execution_count": 5,
   "metadata": {},
   "outputs": [],
   "source": [
    "def request_ner(text=\"\", language=\"ko\"):\n",
    "    endpoint = endpoint_lan\n",
    "\n",
    "    headers = {\n",
    "        \"Content-Type\" : \"application/json\",\n",
    "        \"Ocp-Apim-Subscription-Key\" : lan_key\n",
    "\n",
    "    }\n",
    "    \n",
    "    request_id = str(uuid.uuid4())\n",
    "\n",
    "    language = request_language_detect(text)\n",
    "    print(f'language = {language}')\n",
    "\n",
    "    body = {\n",
    "        \n",
    "        \"kind\": \"EntityRecognition\",\n",
    "        \"parameters\": {\n",
    "            \"modelVersion\": \"latest\"\n",
    "        },\n",
    "        \"analysisInput\":{\n",
    "            \"documents\":[\n",
    "                {\n",
    "                    \"id\": request_id,\n",
    "                    \"language\": language,\n",
    "                    \"text\": text\n",
    "                }\n",
    "            ]\n",
    "        }\n",
    "        \n",
    "    }\n",
    "\n",
    "    response = requests.post(endpoint, headers=headers, json=body)\n",
    "    print(response.status_code, response.content)\n",
    "\n",
    "    if response.status_code == 200:\n",
    "        response_json = response.json()\n",
    "        return response_json\n",
    "\n",
    "    else:\n",
    "        return \"ko\"\n",
    "    \n",
    "#sample_text = \"And the reason why that is interesting is since Apple has given the MagSafe standard to the Wireless Power Consortium, becoming the common standard Qi2. “This means that a future portless phone with only MagSafe charging would be perfectly legal to sell in EU countries,” Lovejoy adds.\"\n",
    "#sample_text2 = \"프로야구 개막이 어느덧 이틀 앞으로 다가온 상황. 야구계 수많은 전문가들은 2025시즌 또한 지난해 통합우승을 일궈낸 최강 KIA 타이거즈의 우승을 점치고 있다. 대다수 해설위원이 올해 KIA의 2연패를 예측한 상황이며, 시범경기에서 KIA를 상대한 복수 사령탑들도 “KIA 전력은 올해도 정말 좋은 거 같다. 타선과 마운드 모두 공략이 쉽지 않다”라며 호랑이 군단을 최대 경계대상으로 꼽았다.\"\n",
    "#lan_dec = request_language_detect(sample_text2)\n",
    "\n",
    "#request_ner(sample_text)\n",
    "\n",
    "\n"
   ]
  },
  {
   "cell_type": "markdown",
   "metadata": {},
   "source": [
    "# CLU"
   ]
  },
  {
   "cell_type": "code",
   "execution_count": 6,
   "metadata": {},
   "outputs": [
    {
     "name": "stdout",
     "output_type": "stream",
     "text": [
      "200 b'{\"kind\":\"ConversationResult\",\"result\":{\"query\":\"add flag to the email john just sent to me\",\"prediction\":{\"topIntent\":\"AddFlag\",\"projectKind\":\"Conversation\",\"intents\":[{\"category\":\"AddFlag\",\"confidenceScore\":0.99795324},{\"category\":\"SendEmail\",\"confidenceScore\":0.76581955},{\"category\":\"AddMore\",\"confidenceScore\":0.7345197},{\"category\":\"SearchMessages\",\"confidenceScore\":0.6308283},{\"category\":\"Cancel\",\"confidenceScore\":0.5659522},{\"category\":\"Forward\",\"confidenceScore\":0.56414133},{\"category\":\"CheckMessages\",\"confidenceScore\":0.55977273},{\"category\":\"Confirm\",\"confidenceScore\":0.5336158},{\"category\":\"ReadAloud\",\"confidenceScore\":0.52232105},{\"category\":\"Delete\",\"confidenceScore\":0.512536},{\"category\":\"QueryLastText\",\"confidenceScore\":0.5121466},{\"category\":\"ShowPrevious\",\"confidenceScore\":0.498713},{\"category\":\"Reply\",\"confidenceScore\":0.45431003},{\"category\":\"ShowNext\",\"confidenceScore\":0.39260417},{\"category\":\"None\",\"confidenceScore\":0.2516663}],\"entities\":[{\"category\":\"SenderName\",\"text\":\"john\",\"offset\":22,\"length\":4,\"confidenceScore\":1}]}}}'\n"
     ]
    },
    {
     "data": {
      "text/plain": [
       "('AddFlag',\n",
       " [{'category': 'AddFlag', 'confidenceScore': 0.99795324},\n",
       "  {'category': 'SendEmail', 'confidenceScore': 0.76581955},\n",
       "  {'category': 'AddMore', 'confidenceScore': 0.7345197},\n",
       "  {'category': 'SearchMessages', 'confidenceScore': 0.6308283},\n",
       "  {'category': 'Cancel', 'confidenceScore': 0.5659522},\n",
       "  {'category': 'Forward', 'confidenceScore': 0.56414133},\n",
       "  {'category': 'CheckMessages', 'confidenceScore': 0.55977273},\n",
       "  {'category': 'Confirm', 'confidenceScore': 0.5336158},\n",
       "  {'category': 'ReadAloud', 'confidenceScore': 0.52232105},\n",
       "  {'category': 'Delete', 'confidenceScore': 0.512536},\n",
       "  {'category': 'QueryLastText', 'confidenceScore': 0.5121466},\n",
       "  {'category': 'ShowPrevious', 'confidenceScore': 0.498713},\n",
       "  {'category': 'Reply', 'confidenceScore': 0.45431003},\n",
       "  {'category': 'ShowNext', 'confidenceScore': 0.39260417},\n",
       "  {'category': 'None', 'confidenceScore': 0.2516663}],\n",
       " [{'category': 'SenderName',\n",
       "   'text': 'john',\n",
       "   'offset': 22,\n",
       "   'length': 4,\n",
       "   'confidenceScore': 1}])"
      ]
     },
     "execution_count": 6,
     "metadata": {},
     "output_type": "execute_result"
    }
   ],
   "source": [
    "import requests\n",
    "import uuid\n",
    "\n",
    "def request_clu(text_clu):\n",
    "    endpoint = clu_endpoint\n",
    "\n",
    "    headers = {\n",
    "        \"Content-Type\" : \"application/json\",\n",
    "        \"Ocp-Apim-Subscription-Key\" : lan_key, \n",
    "        \"Apim-Request-Id\" : apim_req_id\n",
    "\n",
    "    }\n",
    "    \n",
    "    request_id = str(uuid.uuid4())\n",
    "\n",
    "    body = {\n",
    "        \"kind\": \"Conversation\",\n",
    "        \"analysisInput\": {\n",
    "            \"conversationItem\": {\n",
    "                \"id\": request_id,\n",
    "                \"text\": text_clu,\n",
    "                \"modality\": \"text\",\n",
    "                \"language\": \"en\",\n",
    "                \"participantId\": \"user123\"\n",
    "            }\n",
    "        },\n",
    "        \"parameters\": {\n",
    "            \"projectName\": \"email_test\",\n",
    "            \"verbose\": True,\n",
    "            \"deploymentName\": \"deploy_emailModel\",\n",
    "            \"stringIndexType\": \"TextElement_V8\"\n",
    "        }\n",
    "    }\n",
    "\n",
    "    response = requests.post(endpoint, headers=headers, json=body)\n",
    "    print(response.status_code, response.content)\n",
    "\n",
    "    if response.status_code == 200:\n",
    "        response_json = response.json()\n",
    "        top_intent = response_json['result']['prediction']['topIntent']\n",
    "        intent_list = response_json['result']['prediction']['intents']\n",
    "        entity_list = response_json['result']['prediction']['entities']\n",
    "\n",
    "        return (top_intent, intent_list, entity_list)\n",
    "\n",
    "    else:\n",
    "        return None\n",
    "\n",
    "\n",
    "request_clu(\"add flag to the email john just sent to me\")\n",
    "\n"
   ]
  },
  {
   "cell_type": "markdown",
   "metadata": {},
   "source": [
    "# Gradio 화면 구현"
   ]
  },
  {
   "cell_type": "code",
   "execution_count": null,
   "metadata": {},
   "outputs": [
    {
     "name": "stderr",
     "output_type": "stream",
     "text": [
      "/Users/parkjiyon/Desktop/MSAI6/GitHubConnect/Azure_OpenAI/openai/lib/python3.13/site-packages/tqdm/auto.py:21: TqdmWarning: IProgress not found. Please update jupyter and ipywidgets. See https://ipywidgets.readthedocs.io/en/stable/user_install.html\n",
      "  from .autonotebook import tqdm as notebook_tqdm\n"
     ]
    },
    {
     "name": "stdout",
     "output_type": "stream",
     "text": [
      "* Running on local URL:  http://127.0.0.1:7860\n",
      "\n",
      "To create a public link, set `share=True` in `launch()`.\n"
     ]
    },
    {
     "data": {
      "text/html": [
       "<div><iframe src=\"http://127.0.0.1:7860/\" width=\"100%\" height=\"500\" allow=\"autoplay; camera; microphone; clipboard-read; clipboard-write;\" frameborder=\"0\" allowfullscreen></iframe></div>"
      ],
      "text/plain": [
       "<IPython.core.display.HTML object>"
      ]
     },
     "metadata": {},
     "output_type": "display_data"
    },
    {
     "data": {
      "text/plain": []
     },
     "execution_count": 7,
     "metadata": {},
     "output_type": "execute_result"
    },
    {
     "name": "stdout",
     "output_type": "stream",
     "text": [
      "Language Detection 안녕 내 이름은 홍길동이고 전화번호는 010-1234-5678이야 주소는 서울시 강남구야\n",
      "200 b'{\"kind\":\"LanguageDetectionResults\",\"results\":{\"documents\":[{\"id\":\"f9642743-5387-4926-afed-dad260a11396\",\"warnings\":[],\"detectedLanguage\":{\"name\":\"Korean\",\"iso6391Name\":\"ko\",\"confidenceScore\":1.0}}],\"errors\":[],\"modelVersion\":\"2024-11-01\"}}'\n",
      "ko\n",
      "NER 안녕 내 이름은 홍길동이고 전화번호는 010-1234-5678이야 주소는 서울시 강남구야\n",
      "200 b'{\"kind\":\"LanguageDetectionResults\",\"results\":{\"documents\":[{\"id\":\"d08d59f3-635d-44f5-afe7-53823fc4c2c7\",\"warnings\":[],\"detectedLanguage\":{\"name\":\"Korean\",\"iso6391Name\":\"ko\",\"confidenceScore\":1.0}}],\"errors\":[],\"modelVersion\":\"2024-11-01\"}}'\n",
      "ko\n",
      "language = ko\n",
      "200 b'{\"kind\":\"EntityRecognitionResults\",\"results\":{\"documents\":[{\"id\":\"7636ace8-c215-4e91-a0d6-f930a3f1e039\",\"entities\":[{\"text\":\"\\xed\\x99\\x8d\\xea\\xb8\\xb8\\xeb\\x8f\\x99\",\"category\":\"Person\",\"offset\":9,\"length\":3,\"confidenceScore\":1.0},{\"text\":\"010\",\"category\":\"Quantity\",\"subcategory\":\"Number\",\"offset\":21,\"length\":3,\"confidenceScore\":0.8},{\"text\":\"1234\",\"category\":\"Quantity\",\"subcategory\":\"Number\",\"offset\":25,\"length\":4,\"confidenceScore\":0.8},{\"text\":\"5678\",\"category\":\"Quantity\",\"subcategory\":\"Number\",\"offset\":30,\"length\":4,\"confidenceScore\":0.8},{\"text\":\"\\xec\\x84\\x9c\\xec\\x9a\\xb8\\xec\\x8b\\x9c\",\"category\":\"Location\",\"subcategory\":\"GPE\",\"offset\":41,\"length\":3,\"confidenceScore\":0.83},{\"text\":\"\\xea\\xb0\\x95\\xeb\\x82\\xa8\\xea\\xb5\\xac\",\"category\":\"Location\",\"subcategory\":\"GPE\",\"offset\":45,\"length\":3,\"confidenceScore\":0.66}],\"warnings\":[]}],\"errors\":[],\"modelVersion\":\"2025-02-01\"}}'\n",
      "Language Detection Hola, mi nombre es Hong Gil-dong y mi número de teléfono es 12345678. Mi residencia es Gangnam-gu, Seúl.\n",
      "200 b'{\"kind\":\"LanguageDetectionResults\",\"results\":{\"documents\":[{\"id\":\"37d66656-bbc3-480e-820a-31eb3e86959b\",\"warnings\":[],\"detectedLanguage\":{\"name\":\"Spanish\",\"iso6391Name\":\"es\",\"confidenceScore\":1.0}}],\"errors\":[],\"modelVersion\":\"2024-11-01\"}}'\n",
      "es\n",
      "NER Hola, mi nombre es Hong Gil-dong y mi número de teléfono es 12345678. Mi residencia es Gangnam-gu, Seúl.\n",
      "200 b'{\"kind\":\"LanguageDetectionResults\",\"results\":{\"documents\":[{\"id\":\"55acc961-5b4c-4ff2-b0c7-32705c3ed901\",\"warnings\":[],\"detectedLanguage\":{\"name\":\"Spanish\",\"iso6391Name\":\"es\",\"confidenceScore\":1.0}}],\"errors\":[],\"modelVersion\":\"2024-11-01\"}}'\n",
      "es\n",
      "language = es\n",
      "200 b'{\"kind\":\"EntityRecognitionResults\",\"results\":{\"documents\":[{\"id\":\"d6c49dd7-a2a3-4eb1-8503-b1a4783dca0c\",\"entities\":[{\"text\":\"Hong Gil-dong\",\"category\":\"Person\",\"offset\":19,\"length\":13,\"confidenceScore\":1.0},{\"text\":\"12345678\",\"category\":\"PhoneNumber\",\"offset\":60,\"length\":8,\"confidenceScore\":0.8},{\"text\":\"Gangnam-gu\",\"category\":\"Location\",\"subcategory\":\"GPE\",\"offset\":87,\"length\":10,\"confidenceScore\":0.71},{\"text\":\"Se\\xc3\\xbal\",\"category\":\"Location\",\"subcategory\":\"City\",\"offset\":99,\"length\":4,\"confidenceScore\":0.93}],\"warnings\":[]}],\"errors\":[],\"modelVersion\":\"2025-02-01\"}}'\n",
      "PII Hola, mi nombre es Hong Gil-dong y mi número de teléfono es 12345678. Mi residencia es Gangnam-gu, Seúl.\n",
      "200 b'{\"kind\":\"PiiEntityRecognitionResults\",\"results\":{\"documents\":[{\"redactedText\":\"Hola, mi nombre es ************* y mi n\\xc3\\xbamero de tel\\xc3\\xa9fono es ********. Mi residencia es Gangnam-gu, Se\\xc3\\xbal.\",\"id\":\"49b17920-768d-4155-bad8-d49507b2361b\",\"entities\":[{\"text\":\"Hong Gil-dong\",\"category\":\"Person\",\"offset\":19,\"length\":13,\"confidenceScore\":1.0},{\"text\":\"12345678\",\"category\":\"PhoneNumber\",\"offset\":60,\"length\":8,\"confidenceScore\":0.8}],\"warnings\":[]}],\"errors\":[],\"modelVersion\":\"2025-02-01\"}}'\n",
      "NER \n",
      "200 b'{\"kind\":\"LanguageDetectionResults\",\"results\":{\"documents\":[],\"errors\":[{\"id\":\"431df3c4-7a90-4eea-8f52-fc420ac62e96\",\"error\":{\"code\":\"InvalidArgument\",\"message\":\"Invalid Document in request.\",\"innererror\":{\"code\":\"InvalidDocument\",\"message\":\"Document text is empty.\"}}}],\"modelVersion\":\"2024-11-01\"}}'\n"
     ]
    },
    {
     "name": "stderr",
     "output_type": "stream",
     "text": [
      "Traceback (most recent call last):\n",
      "  File \"/Users/parkjiyon/Desktop/MSAI6/GitHubConnect/Azure_OpenAI/openai/lib/python3.13/site-packages/gradio/queueing.py\", line 625, in process_events\n",
      "    response = await route_utils.call_process_api(\n",
      "               ^^^^^^^^^^^^^^^^^^^^^^^^^^^^^^^^^^^\n",
      "    ...<5 lines>...\n",
      "    )\n",
      "    ^\n",
      "  File \"/Users/parkjiyon/Desktop/MSAI6/GitHubConnect/Azure_OpenAI/openai/lib/python3.13/site-packages/gradio/route_utils.py\", line 322, in call_process_api\n",
      "    output = await app.get_blocks().process_api(\n",
      "             ^^^^^^^^^^^^^^^^^^^^^^^^^^^^^^^^^^^\n",
      "    ...<11 lines>...\n",
      "    )\n",
      "    ^\n",
      "  File \"/Users/parkjiyon/Desktop/MSAI6/GitHubConnect/Azure_OpenAI/openai/lib/python3.13/site-packages/gradio/blocks.py\", line 2103, in process_api\n",
      "    result = await self.call_function(\n",
      "             ^^^^^^^^^^^^^^^^^^^^^^^^^\n",
      "    ...<8 lines>...\n",
      "    )\n",
      "    ^\n",
      "  File \"/Users/parkjiyon/Desktop/MSAI6/GitHubConnect/Azure_OpenAI/openai/lib/python3.13/site-packages/gradio/blocks.py\", line 1650, in call_function\n",
      "    prediction = await anyio.to_thread.run_sync(  # type: ignore\n",
      "                 ^^^^^^^^^^^^^^^^^^^^^^^^^^^^^^^^^^^^^^^^^^^^^^^\n",
      "        fn, *processed_input, limiter=self.limiter\n",
      "        ^^^^^^^^^^^^^^^^^^^^^^^^^^^^^^^^^^^^^^^^^^\n",
      "    )\n",
      "    ^\n",
      "  File \"/Users/parkjiyon/Desktop/MSAI6/GitHubConnect/Azure_OpenAI/openai/lib/python3.13/site-packages/anyio/to_thread.py\", line 56, in run_sync\n",
      "    return await get_async_backend().run_sync_in_worker_thread(\n",
      "           ^^^^^^^^^^^^^^^^^^^^^^^^^^^^^^^^^^^^^^^^^^^^^^^^^^^^\n",
      "        func, args, abandon_on_cancel=abandon_on_cancel, limiter=limiter\n",
      "        ^^^^^^^^^^^^^^^^^^^^^^^^^^^^^^^^^^^^^^^^^^^^^^^^^^^^^^^^^^^^^^^^\n",
      "    )\n",
      "    ^\n",
      "  File \"/Users/parkjiyon/Desktop/MSAI6/GitHubConnect/Azure_OpenAI/openai/lib/python3.13/site-packages/anyio/_backends/_asyncio.py\", line 2461, in run_sync_in_worker_thread\n",
      "    return await future\n",
      "           ^^^^^^^^^^^^\n",
      "  File \"/Users/parkjiyon/Desktop/MSAI6/GitHubConnect/Azure_OpenAI/openai/lib/python3.13/site-packages/anyio/_backends/_asyncio.py\", line 962, in run\n",
      "    result = context.run(func, *args)\n",
      "  File \"/Users/parkjiyon/Desktop/MSAI6/GitHubConnect/Azure_OpenAI/openai/lib/python3.13/site-packages/gradio/utils.py\", line 890, in wrapper\n",
      "    response = f(*args, **kwargs)\n",
      "  File \"/var/folders/n_/2h1xg2xs7dxdc2fc9ywry06w0000gn/T/ipykernel_4925/3483897477.py\", line 15, in click_send\n",
      "    result_request = request_ner(text)\n",
      "  File \"/var/folders/n_/2h1xg2xs7dxdc2fc9ywry06w0000gn/T/ipykernel_4925/382019481.py\", line 12, in request_ner\n",
      "    language = request_language_detect(text)\n",
      "  File \"/var/folders/n_/2h1xg2xs7dxdc2fc9ywry06w0000gn/T/ipykernel_4925/1101997800.py\", line 35, in request_language_detect\n",
      "    language_code = response_json['results']['documents'][0]['detectedLanguage']['iso6391Name']\n",
      "                    ~~~~~~~~~~~~~~~~~~~~~~~~~~~~~~~~~~~~~^^^\n",
      "IndexError: list index out of range\n"
     ]
    },
    {
     "name": "stdout",
     "output_type": "stream",
     "text": [
      "NER 안녕하세요 홍길동 입니다\n",
      "200 b'{\"kind\":\"LanguageDetectionResults\",\"results\":{\"documents\":[{\"id\":\"f1f89a2f-72bc-4aab-8155-ce2af0489fbf\",\"warnings\":[],\"detectedLanguage\":{\"name\":\"Korean\",\"iso6391Name\":\"ko\",\"confidenceScore\":1.0}}],\"errors\":[],\"modelVersion\":\"2024-11-01\"}}'\n",
      "ko\n",
      "language = ko\n",
      "200 b'{\"kind\":\"EntityRecognitionResults\",\"results\":{\"documents\":[{\"id\":\"f0560694-e6f6-491c-b488-7d5147af0d2a\",\"entities\":[{\"text\":\"\\xed\\x99\\x8d\\xea\\xb8\\xb8\\xeb\\x8f\\x99\",\"category\":\"Person\",\"offset\":6,\"length\":3,\"confidenceScore\":1.0}],\"warnings\":[]}],\"errors\":[],\"modelVersion\":\"2025-02-01\"}}'\n"
     ]
    }
   ],
   "source": [
    "import gradio as gr\n",
    "\n",
    "with gr.Blocks() as demo:\n",
    "    type_choice_list = [\"Language Detection\", \"NER\", \"PII\"]\n",
    "\n",
    "    def change_radio (radio_type):\n",
    "        return radio_type\n",
    "    \n",
    "    def click_send(radio_type, text):\n",
    "        print(radio_type, text)\n",
    "        \n",
    "        if radio_type == \"Language Detection\":\n",
    "            result_request = request_language_detect(text)\n",
    "        elif radio_type == \"NER\":\n",
    "            result_request = request_ner(text)\n",
    "        elif radio_type == \"PII\":\n",
    "            result_request = request_pii(text)\n",
    "        return result_request\n",
    "\n",
    "\n",
    "    type_radio = gr.Radio(label=\"타입 선택\", choices=type_choice_list, value=\"Language Detection\")\n",
    "    input_textbox = gr.Textbox(label = \"입력 데이터\", lines = 10)\n",
    "    send_button = gr.Button(\"전송\")\n",
    "    output_textbox = gr.Textbox(label=\"결과 출력\", lines=10)\n",
    "\n",
    "    type_radio.change(change_radio, inputs=[type_radio], outputs=[type_radio])\n",
    "    send_button.click(click_send, inputs=[type_radio, input_textbox], outputs=[output_textbox])\n",
    "\n",
    "demo.launch()"
   ]
  },
  {
   "cell_type": "code",
   "execution_count": null,
   "metadata": {},
   "outputs": [],
   "source": []
  }
 ],
 "metadata": {
  "kernelspec": {
   "display_name": "openai",
   "language": "python",
   "name": "python3"
  },
  "language_info": {
   "codemirror_mode": {
    "name": "ipython",
    "version": 3
   },
   "file_extension": ".py",
   "mimetype": "text/x-python",
   "name": "python",
   "nbconvert_exporter": "python",
   "pygments_lexer": "ipython3",
   "version": "3.13.2"
  }
 },
 "nbformat": 4,
 "nbformat_minor": 2
}
