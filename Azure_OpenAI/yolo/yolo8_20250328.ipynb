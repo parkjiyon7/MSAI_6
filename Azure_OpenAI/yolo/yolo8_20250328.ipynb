{
 "cells": [
  {
   "cell_type": "code",
   "execution_count": 3,
   "metadata": {},
   "outputs": [
    {
     "name": "stdout",
     "output_type": "stream",
     "text": [
      "* Running on local URL:  http://127.0.0.1:7879\n",
      "\n",
      "To create a public link, set `share=True` in `launch()`.\n"
     ]
    },
    {
     "data": {
      "text/html": [
       "<div><iframe src=\"http://127.0.0.1:7879/\" width=\"100%\" height=\"500\" allow=\"autoplay; camera; microphone; clipboard-read; clipboard-write;\" frameborder=\"0\" allowfullscreen></iframe></div>"
      ],
      "text/plain": [
       "<IPython.core.display.HTML object>"
      ]
     },
     "metadata": {},
     "output_type": "display_data"
    },
    {
     "data": {
      "text/plain": []
     },
     "execution_count": 3,
     "metadata": {},
     "output_type": "execute_result"
    }
   ],
   "source": [
    "import gradio as gr\n",
    "import numpy as np\n",
    "import random\n",
    "import platform\n",
    "\n",
    "from PIL import Image, ImageDraw, ImageFont\n",
    "from ultralytics import YOLO\n",
    "\n",
    "model = YOLO('yolov8n.pt')\n",
    "\n",
    "\n",
    "def random_color():\n",
    "    return (random.randint(0, 255), random.randint(0, 255), random.randint(0, 255))\n",
    "\n",
    "def get_font():\n",
    "    font_size = 20\n",
    "    if platform.system() == \"Darwin\":\n",
    "        font = ImageFont.truetype(\"AppleGothic.ttf\", size=font_size)\n",
    "    elif platform.system() == \"Windows\":\n",
    "        font = ImageFont.truetype(\"malgun.ttf\", size=font_size)\n",
    "    else:\n",
    "        font = ImageFont.load_default(size=font_size)\n",
    "    \n",
    "    return font\n",
    "\n",
    "\n",
    "def detect_objects(image):\n",
    "    \n",
    "    drawn_image = Image.fromarray(image.copy())\n",
    "    draw = ImageDraw.Draw(drawn_image)\n",
    "    \n",
    "    # 이미지의 height, width 를 뽑아낸다.\n",
    "    height , width = image.shape[:2]\n",
    "    print(height, width)\n",
    "\n",
    "    response = model(image)\n",
    "\n",
    "    for output in response:\n",
    "        bounding_box_list = output.boxes.xyxy.cpu().numpy()\n",
    "        confidence_list = output.boxes.conf.cpu().numpy()\n",
    "        label_list = output.names\n",
    "\n",
    "        for bounding_box, confidence, label_index in zip(bounding_box_list, confidence_list, label_list):\n",
    "            x1, y1, x2, y2 = bounding_box\n",
    "            label = label_list[label_index]\n",
    "\n",
    "            color = random_color()\n",
    "\n",
    "            draw.rectangle((x1, y1, x2, y2), outline = color, width=3)\n",
    "            draw.text((x1+5, y1+5), text=\"{} : {:.2f}%\".format(label, confidence*100), fill=\"red\", font=get_font())\n",
    "\n",
    "    return drawn_image\n",
    "\n",
    "with gr.Blocks() as demo:\n",
    "    \n",
    "    def stream_webcam(image):\n",
    "        # detect function.\n",
    "        drawn_image = detect_objects(image)\n",
    "        return drawn_image\n",
    "    \n",
    "    webcam_input = gr.Image(label=\"실시간 화면\", sources=\"webcam\", width=480, height=270, mirror_webcam=False)\n",
    "    output_image = gr.Image(label=\"검출 화면\", type=\"pil\")\n",
    "    \n",
    "    webcam_input.stream(stream_webcam, inputs=[webcam_input], outputs=[output_image])\n",
    "    \n",
    "demo.launch()\n",
    "# image = cv2.imread(\"/Users/fimtrus/Pictures/901.기타/taj-mahal-3654227_1280.jpg\")\n",
    "# detect_objects(image)"
   ]
  },
  {
   "cell_type": "code",
   "execution_count": null,
   "metadata": {},
   "outputs": [],
   "source": []
  }
 ],
 "metadata": {
  "kernelspec": {
   "display_name": "openai",
   "language": "python",
   "name": "python3"
  },
  "language_info": {
   "codemirror_mode": {
    "name": "ipython",
    "version": 3
   },
   "file_extension": ".py",
   "mimetype": "text/x-python",
   "name": "python",
   "nbconvert_exporter": "python",
   "pygments_lexer": "ipython3",
   "version": "3.13.2"
  }
 },
 "nbformat": 4,
 "nbformat_minor": 2
}
