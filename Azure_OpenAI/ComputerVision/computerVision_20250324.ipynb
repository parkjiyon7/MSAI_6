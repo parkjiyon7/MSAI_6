{
 "cells": [
  {
   "cell_type": "markdown",
   "metadata": {},
   "source": [
    "# Computer Vision"
   ]
  },
  {
   "cell_type": "code",
   "execution_count": null,
   "metadata": {},
   "outputs": [],
   "source": []
  },
  {
   "cell_type": "code",
   "execution_count": 3,
   "metadata": {},
   "outputs": [
    {
     "data": {
      "text/plain": [
       "{'modelVersion': '2023-10-01',\n",
       " 'captionResult': {'text': 'a flower in the water',\n",
       "  'confidence': 0.7647808194160461},\n",
       " 'metadata': {'width': 1280, 'height': 782}}"
      ]
     },
     "execution_count": 3,
     "metadata": {},
     "output_type": "execute_result"
    }
   ],
   "source": [
    "import gradio as gr\n",
    "import requests\n",
    "\n",
    "FEATURES = \"caption\"\n",
    "\n",
    "def request_vision(features, image_path):\n",
    "    endpoint = f\"{ENDPOINT}computervision/imageanalysis:analyze?api-version=2024-02-01&features={features}\"\n",
    "    # method : POST\n",
    "\n",
    "    headers = {\n",
    "\n",
    "        \"Ocp-Apim-Subscription-Key\" : comVi_key,\n",
    "        \"Content-Type\" : \"application/octet-stream\"\n",
    "\n",
    "    }\n",
    "\n",
    "    # image_path로 이미지를 바이너리 형태로 읽어서 전송\n",
    "    with open(image_path, \"rb\") as image_file:\n",
    "        image_data = image_file.read()\n",
    "\n",
    "    response = requests.post(endpoint, headers=headers, data=image_data)\n",
    "\n",
    "    if response.status_code == 200:\n",
    "        return response.json()\n",
    "\n",
    "    else:\n",
    "        return {}\n",
    "\n",
    "\n",
    "request_vision(FEATURES, \"../ComputerVision/lotus-9480927_1280.jpg\")\n",
    "\n"
   ]
  }
 ],
 "metadata": {
  "kernelspec": {
   "display_name": "openai",
   "language": "python",
   "name": "python3"
  },
  "language_info": {
   "codemirror_mode": {
    "name": "ipython",
    "version": 3
   },
   "file_extension": ".py",
   "mimetype": "text/x-python",
   "name": "python",
   "nbconvert_exporter": "python",
   "pygments_lexer": "ipython3",
   "version": "3.13.2"
  }
 },
 "nbformat": 4,
 "nbformat_minor": 2
}
