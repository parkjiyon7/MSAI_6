{
 "cells": [
  {
   "cell_type": "markdown",
   "metadata": {},
   "source": [
    "# 0.라이브러리 import"
   ]
  },
  {
   "cell_type": "code",
   "execution_count": 6,
   "metadata": {},
   "outputs": [],
   "source": [
    "import requests"
   ]
  },
  {
   "cell_type": "markdown",
   "metadata": {},
   "source": [
    "# 1. 인덱스 만들기"
   ]
  },
  {
   "cell_type": "code",
   "execution_count": null,
   "metadata": {},
   "outputs": [],
   "source": []
  },
  {
   "cell_type": "code",
   "execution_count": 8,
   "metadata": {},
   "outputs": [
    {
     "name": "stdout",
     "output_type": "stream",
     "text": [
      "409 b'{\"error\":{\"code\":\"AlreadyExists\",\"message\":\"Index with the given name already exist.\"}}'\n"
     ]
    }
   ],
   "source": [
    "# endpoint\n",
    "#\"{}/computervision/retrieval/indexes/[만들고자하는 인덱스 이름]?api-version=2023-05-01-preview\".format()\n",
    "index_name = \"news\"\n",
    "endpoint_index = \"{}/computervision/retrieval/indexes/{}?api-version=2023-05-01-preview\".format(BASE_ENDPOINT, index_name)\n",
    "\n",
    "# method:PUT\n",
    "\n",
    "# headers\n",
    "headers = {\n",
    "    \"Ocp-Apim-Subscription-Key\" : API_KEY,\n",
    "    \"Content-Type\" : \"application/json\"\n",
    "\n",
    "}\n",
    "\n",
    "# body\n",
    "body = {\n",
    "    'metadataSchema': {\n",
    "    'fields': [\n",
    "            {\n",
    "        'name': 'cameraId',\n",
    "        'searchable': False,\n",
    "        'filterable': True,\n",
    "        'type': 'string'\n",
    "            },\n",
    "            {\n",
    "        'name': 'timestamp',\n",
    "        'searchable': False,\n",
    "        'filterable': True,\n",
    "        'type': 'datetime'\n",
    "            }\n",
    "        ]\n",
    "    },\n",
    "    'features': [\n",
    "        {\n",
    "        'name': 'vision',\n",
    "        'domain': 'surveillance'\n",
    "        },\n",
    "        {\n",
    "        'name': 'speech'\n",
    "        }\n",
    "    ]\n",
    "}\n",
    "\n",
    "# status code: 201\n",
    "response  = requests.put(endpoint_index, headers=headers, json=body)\n",
    "print(response.status_code, response.content)"
   ]
  },
  {
   "cell_type": "markdown",
   "metadata": {},
   "source": [
    "# 2. 인덱스에 비디오 파일 추가"
   ]
  },
  {
   "cell_type": "code",
   "execution_count": 9,
   "metadata": {},
   "outputs": [
    {
     "name": "stdout",
     "output_type": "stream",
     "text": [
      "409 b'{\"error\":{\"code\":\"AlreadyExists\",\"message\":\"Ingestion with the given name already exist.\"}}'\n"
     ]
    }
   ],
   "source": [
    "ingestion_id = \"news-cv\" \n",
    "endpoint_video = \"{}computervision/retrieval/indexes/{}/ingestions/{}?api-version=2023-05-01-preview\".format(BASE_ENDPOINT, index_name, ingestion_id)\n",
    "\n",
    "body2 = {\n",
    "  'videos': [\n",
    "    {\n",
    "      'mode': 'add',\n",
    "      'documentId': '02a504c9cd28296a8b74394ed7488045',\n",
    "      'documentUrl': 'https://6b022storage.blob.core.windows.net/video-data/%E1%84%87%E1%85%B3%E1%84%85%E1%85%A1%E1%84%8C%E1%85%B5%E1%86%AF%20%E1%84%89%E1%85%A9%E1%84%83%E1%85%A9%E1%84%89%E1%85%B5%E1%84%8B%E1%85%A6%E1%84%89%E1%85%A5%20%E1%84%80%E1%85%A5%E1%84%83%E1%85%A2%20%E1%84%89%E1%85%B5%E1%86%BC%E1%84%8F%E1%85%B3%E1%84%92%E1%85%A9%E1%86%AF%E1%84%8B%E1%85%B5%20%E1%84%87%E1%85%A1%E1%86%AF%E1%84%89%E1%85%A2%E1%86%BC%E1%84%92%E1%85%A2%201%20200%E1%84%8B%E1%85%A7%20%E1%84%86%E1%85%A7%E1%86%BC%E1%84%8B%E1%85%B4%20%E1%84%8C%E1%85%AE%E1%84%86%E1%85%B5%E1%86%AB%E1%84%8B%E1%85%B5%20%E1%84%8C%E1%85%B5%E1%86%B8%E1%84%8B%E1%85%B3%E1%86%AF%20%E1%84%8B%E1%85%B5%E1%86%B6%E1%84%8B%E1%85%B3%E1%86%AF%20%E1%84%8B%E1%85%B1%E1%84%80%E1%85%B5%E1%84%8B%E1%85%A6%20%E1%84%8E%E1%85%A5%E1%84%92%E1%85%A2%E1%86%BB%E1%84%89%E1%85%B3%E1%86%B8%E1%84%82%E1%85%B5%E1%84%83%E1%85%A1.%20%E1%84%89%E1%85%B5%E1%86%BC%E1%84%8F%E1%85%B3%E1%84%92%E1%85%A9%E1%86%AF%20%E1%84%87%E1%85%B3%E1%84%85%E1%85%A1%E1%84%8C%E1%85%B5%E1%86%AF%20%E1%84%80%E1%85%A5%E1%84%83%E1%85%A2%E1%84%89%E1%85%B5%E1%86%BC%E1%84%8F%E1%85%B3%E1%84%92%E1%85%A9%E1%86%AF%20%E1%84%8C%E1%85%AE%E1%84%86%E1%85%B5%E1%86%AB...%20TikTok.mp4?sp=r&st=2025-03-25T08:16:32Z&se=2025-03-25T16:16:32Z&spr=https&sv=2024-11-04&sr=b&sig=%2FkXwvsiOkakis59xArTxC2kpJUuurBNRoMUYPFIqXJU%3D',\n",
    "      'cameraId': 'camera1',\n",
    "      'timestamp': '2025-03-24 17:40:33'\n",
    "      }\n",
    "  ]\n",
    "}\n",
    "\n",
    "response  = requests.put(endpoint_video, headers=headers, json=body2)\n",
    "print(response.status_code, response.content)"
   ]
  },
  {
   "cell_type": "markdown",
   "metadata": {},
   "source": [
    "# 3. 상태 체크"
   ]
  },
  {
   "cell_type": "code",
   "execution_count": 10,
   "metadata": {},
   "outputs": [
    {
     "name": "stdout",
     "output_type": "stream",
     "text": [
      "200 {\"value\":[{\"name\":\"news-cv\",\"state\":\"Completed\",\"batchName\":\"35232362-e488-4db2-9c63-f3ca0b2c9770\",\"createdDateTime\":\"2025-03-25T08:45:24.9584428Z\",\"lastModifiedDateTime\":\"2025-03-25T08:46:04.0364563Z\"}]}\n",
      "STATUS:  news-cv Completed\n"
     ]
    }
   ],
   "source": [
    "endpoint_state = \"{}computervision/retrieval/indexes/{}/ingestions?api-version=2023-05-01-preview&$top=20\".format(BASE_ENDPOINT, index_name)\n",
    "\n",
    "response = requests.get(endpoint_state, headers=headers)\n",
    "\n",
    "print(response.status_code, response.text)\n",
    "response_json = response.json()\n",
    "print('STATUS: ', response_json[\"value\"][0][\"name\"], response_json[\"value\"][0][\"state\"])"
   ]
  },
  {
   "cell_type": "markdown",
   "metadata": {},
   "source": [
    "# 4. 조회"
   ]
  },
  {
   "cell_type": "code",
   "execution_count": 11,
   "metadata": {},
   "outputs": [
    {
     "name": "stdout",
     "output_type": "stream",
     "text": [
      "200 {\"value\":[]}\n"
     ]
    }
   ],
   "source": [
    "endpoint_search = \"{}computervision/retrieval/indexes/{}:queryByText?api-version=2023-05-01-preview\".format(BASE_ENDPOINT, index_name)\n",
    "\n",
    "body3 = {\n",
    "  'queryText': 'a man with black hoodie',\n",
    "  'filters': {\n",
    "    'stringFilters': [\n",
    "      {\n",
    "        'fieldName': 'cameraId',\n",
    "        'values': [\n",
    "          'camera1'\n",
    "        ]\n",
    "      }\n",
    "    ],\n",
    "    'featureFilters': ['vision']\n",
    "  }\n",
    "}\n",
    "\n",
    "response = requests.post(endpoint_search, headers=headers, json=body3)\n",
    "print(response.status_code, response.text)\n"
   ]
  }
 ],
 "metadata": {
  "kernelspec": {
   "display_name": "openai",
   "language": "python",
   "name": "python3"
  },
  "language_info": {
   "codemirror_mode": {
    "name": "ipython",
    "version": 3
   },
   "file_extension": ".py",
   "mimetype": "text/x-python",
   "name": "python",
   "nbconvert_exporter": "python",
   "pygments_lexer": "ipython3",
   "version": "3.13.2"
  }
 },
 "nbformat": 4,
 "nbformat_minor": 2
}
