{
  "cells": [
    {
      "cell_type": "markdown",
      "source": [
        "## 필요한 라이브러리 Import"
      ],
      "metadata": {}
    },
    {
      "cell_type": "code",
      "source": [
        "import numpy as np\n",
        "import os, sys"
      ],
      "outputs": [],
      "execution_count": 2,
      "metadata": {
        "gather": {
          "logged": 1738566765222
        }
      }
    },
    {
      "cell_type": "markdown",
      "source": [
        "## 입력층에서 1층으로 신호 전달"
      ],
      "metadata": {}
    },
    {
      "cell_type": "code",
      "source": [
        "X = np.array([1.0, 0.5])\n",
        "W1 = np.array([[0.1, 0.3, 0.5], [0.2, 0.4, 0.6]])\n",
        "B1 = np.array([0.1, 0.2, 0.3])\n",
        "print('X = ', X)\n",
        "print('W1 = ', W1)\n",
        "print('B1 = ', B1)\n",
        "\n",
        "A1 = np.dot(X, W1) + B1\n",
        "print('X * W1 + B1 = ', A1)\n"
      ],
      "outputs": [
        {
          "output_type": "stream",
          "name": "stdout",
          "text": "X =  [1.  0.5]\nW1 =  [[0.1 0.3 0.5]\n [0.2 0.4 0.6]]\nB1 =  [0.1 0.2 0.3]\nX * W1 +B1 =  [0.3 0.7 1.1]\n"
        }
      ],
      "execution_count": 3,
      "metadata": {
        "gather": {
          "logged": 1738566766911
        }
      }
    },
    {
      "cell_type": "markdown",
      "source": [
        "## 활성화 함수의 적용"
      ],
      "metadata": {}
    },
    {
      "cell_type": "code",
      "source": [
        "# 활성화 함수\n",
        "def sigmoid(x):\n",
        "    # sigmoid 함수 공식\n",
        "    return 1/(1 + np.exp(-x))"
      ],
      "outputs": [],
      "execution_count": 4,
      "metadata": {
        "gather": {
          "logged": 1738566822384
        }
      }
    },
    {
      "cell_type": "code",
      "source": [
        "# 활성화 함수 적용\n",
        "Z1 = sigmoid(A1)\n",
        "print('A1 = ', A1)\n",
        "print('Z1 = ', Z1)"
      ],
      "outputs": [
        {
          "output_type": "stream",
          "name": "stdout",
          "text": "A1 =  [0.3 0.7 1.1]\nZ1 =  [0.57444252 0.66818777 0.75026011]\n"
        }
      ],
      "execution_count": 5,
      "metadata": {
        "gather": {
          "logged": 1738566890272
        }
      }
    },
    {
      "cell_type": "markdown",
      "source": [
        "## 1층에서 2층으로 신호 전달"
      ],
      "metadata": {}
    },
    {
      "cell_type": "code",
      "source": [
        "W2 = np.array([[0.1, 0.4], [0.2, 0.5], [0.3, 0.6]])\n",
        "B2 = np.array([0.1, 0.2])\n",
        "print('B2 = ', B2)\n",
        "print('W2 = ', W2)\n",
        "\n",
        "A2 = np.dot(Z1, W2) + B2\n",
        "print('Z1 * W2 + B2 = ', A2)"
      ],
      "outputs": [
        {
          "output_type": "stream",
          "name": "stdout",
          "text": "B2 =  [0.1 0.2]\nW2 =  [[0.1 0.4]\n [0.2 0.5]\n [0.3 0.6]]\nZ1 * W2 + B2 =  [0.51615984 1.21402696]\n"
        }
      ],
      "execution_count": 7,
      "metadata": {
        "gather": {
          "logged": 1738567942643
        }
      }
    },
    {
      "cell_type": "markdown",
      "source": [
        "## 활성화 함수의 적용\n"
      ],
      "metadata": {}
    },
    {
      "cell_type": "code",
      "source": [
        "Z2 = sigmoid(A2)\n",
        "\n",
        "print('A2 = ', A2)\n",
        "print('Z2 = ', Z2)"
      ],
      "outputs": [
        {
          "output_type": "stream",
          "name": "stdout",
          "text": "A2 =  [0.51615984 1.21402696]\nZ2 =  [0.62624937 0.7710107 ]\n"
        }
      ],
      "execution_count": 9,
      "metadata": {
        "gather": {
          "logged": 1738568583485
        }
      }
    },
    {
      "cell_type": "markdown",
      "source": [
        "## 2층에서 3층으로 신호 전달"
      ],
      "metadata": {}
    },
    {
      "cell_type": "code",
      "source": [
        "W3 = np.array([[0.2, 0.5], [0.3, 0.6]])\n",
        "B3 = np.array([0.1, 0.2])\n",
        "print('B3 = ', B3)\n",
        "print('W3 = ', W3)\n",
        "\n",
        "A3 = np.dot(Z2, W3) + B3\n",
        "print('Z2 * W3 + B3 = ', A3)"
      ],
      "outputs": [
        {
          "output_type": "stream",
          "name": "stdout",
          "text": "B3 =  [0.1 0.2]\nW3 =  [[0.2 0.5]\n [0.3 0.6]]\nZ2 * W3 + B3 =  [0.45655308 0.9757311 ]\n"
        }
      ],
      "execution_count": 10,
      "metadata": {
        "gather": {
          "logged": 1738568585546
        }
      }
    },
    {
      "cell_type": "markdown",
      "source": [
        "## 최종 출력층에 활성화 함수로 Softmax 적용"
      ],
      "metadata": {}
    },
    {
      "cell_type": "code",
      "source": [
        "# softmax 함수\n",
        "def softmax(x):\n",
        "    exp_x = np.exp(x - np.max(x))  # 오버플로우 방지를 위해 입력값에서 최댓값을 빼줌\n",
        "    return exp_x / np.sum(exp_x)"
      ],
      "outputs": [],
      "execution_count": 13,
      "metadata": {
        "gather": {
          "logged": 1738570519980
        }
      }
    },
    {
      "cell_type": "code",
      "source": [
        "print('A3 = ', A3)\n",
        "Y = softmax(A3)\n",
        "print('Y = ', Y)"
      ],
      "outputs": [
        {
          "output_type": "stream",
          "name": "stdout",
          "text": "A3 =  [0.45655308 0.9757311 ]\nY =  [0.37304446 0.62695554]\n"
        }
      ],
      "execution_count": 14,
      "metadata": {
        "gather": {
          "logged": 1738570520607
        }
      }
    }
  ],
  "metadata": {
    "kernelspec": {
      "name": "python3",
      "language": "python",
      "display_name": "Python 3 (ipykernel)"
    },
    "language_info": {
      "name": "python",
      "version": "3.10.11",
      "mimetype": "text/x-python",
      "codemirror_mode": {
        "name": "ipython",
        "version": 3
      },
      "pygments_lexer": "ipython3",
      "nbconvert_exporter": "python",
      "file_extension": ".py"
    },
    "kernel_info": {
      "name": "python3"
    },
    "nteract": {
      "version": "nteract-front-end@1.0.0"
    },
    "microsoft": {
      "host": {
        "AzureML": {
          "notebookHasBeenCompleted": true
        }
      },
      "ms_spell_check": {
        "ms_spell_check_language": "en"
      }
    }
  },
  "nbformat": 4,
  "nbformat_minor": 2
}