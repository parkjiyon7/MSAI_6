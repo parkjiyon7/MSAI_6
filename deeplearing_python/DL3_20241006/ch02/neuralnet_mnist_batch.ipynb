{
  "cells": [
    {
      "cell_type": "markdown",
      "source": [
        "# 라이브러리 import"
      ],
      "metadata": {
        "nteract": {
          "transient": {
            "deleting": false
          }
        }
      }
    },
    {
      "cell_type": "code",
      "source": [
        "# coding: utf-8\n",
        "import sys, os, time\n",
        "from pathlib import Path\n",
        "\n",
        "print(os.getcwd())\n",
        "current_dir = os.path.dirname(os.getcwd())\n",
        "print(current_dir)\n",
        "os.chdir(current_dir)\n",
        "\n",
        "import numpy as np\n",
        "import pickle\n",
        "from dataset.mnist import load_mnist\n",
        "from common.functions import sigmoid, softmax\n",
        "\n",
        "# from PIL import Image\n",
        "# import matplotlib.pyplot as plt\n",
        "\n"
      ],
      "outputs": [
        {
          "output_type": "stream",
          "name": "stdout",
          "text": "/mnt/batch/tasks/shared/LS_root/mounts/clusters/ml20250203/code/Users/6b022/DL3_20241006/ch02\n/mnt/batch/tasks/shared/LS_root/mounts/clusters/ml20250203/code/Users/6b022/DL3_20241006\n"
        }
      ],
      "execution_count": 1,
      "metadata": {
        "gather": {
          "logged": 1738636509461
        }
      }
    },
    {
      "cell_type": "markdown",
      "source": [
        "# 신경망 계산\n",
        "## 함수"
      ],
      "metadata": {
        "nteract": {
          "transient": {
            "deleting": false
          }
        }
      }
    },
    {
      "cell_type": "code",
      "source": [
        "# 인터넷에서 데이터 다운로드\n",
        "def get_data():\n",
        "    (x_train, t_train), (x_test, t_test) = load_mnist(flatten=True, normalize=True, one_hot_label=False)\n",
        "    return x_test, t_test\n",
        "\n",
        "# 신경망 가중치 계산 불러오기\n",
        "def init_network():\n",
        "    print(os.getcwd())\n",
        "    with open(\"ch02/sample_weight.pkl\", 'rb') as f:\n",
        "        network = pickle.load(f)\n",
        "    return network\n",
        "\n",
        "# 신경망 출력값 계산 함수\n",
        "def predict(network, x):\n",
        "    W1, W2, W3 = network['W1'], network['W2'], network['W3']\n",
        "    b1, b2, b3 = network['b1'], network['b2'], network['b3']\n",
        "\n",
        "    a1 = np.dot(x, W1) +b1\n",
        "    z1 = sigmoid(a1)\n",
        "    a2 = np.dot(z1, W2) +b2\n",
        "    z2 = sigmoid(a2)\n",
        "    a3 = np.dot(z2, W3) +b3\n",
        "    z3 = sigmoid(a3)\n",
        "    y = softmax(a3)\n",
        "\n",
        "    return y"
      ],
      "outputs": [],
      "execution_count": 2,
      "metadata": {
        "gather": {
          "logged": 1738636509540
        }
      }
    },
    {
      "cell_type": "markdown",
      "source": [
        "### 신경망 계산 - 최종 - Batch"
      ],
      "metadata": {
        "nteract": {
          "transient": {
            "deleting": false
          }
        }
      }
    },
    {
      "cell_type": "code",
      "source": [
        "x, t = get_data()\n",
        "network = init_network()\n",
        "\n",
        "# batch 설정\n",
        "batch_size = 100 # 배치 크기\n",
        "accuracy_cnt = 0\n",
        "\n",
        "for i in range(0, len(x), batch_size):\n",
        "\n",
        "    # predict에 넣을 때 batch 만큼 넣어줌\n",
        "    x_batch = x[i:i+batch_size]\n",
        "    y_batch = predict(network, x_batch) # 100set로 각각에 대해 나옴\n",
        "    p = np.argmax(y_batch, axis = 1)\n",
        "    accuracy_cnt += np.sum(p == t[i:i+batch_size])\n",
        "\n",
        "    # 비교를 위한 기존의 코드\n",
        "    # # 신경망 출력도 계산\n",
        "    # y = predict(network, x[i])\n",
        "    # p = np.argmax(y) #확률이 가장 높은 원소의 인덱스를 얻음\n",
        "\n",
        "# 최종 정확도 출력\n",
        "print(\"Accuracy: \" + str(float(accuracy_cnt) / len(x)))"
      ],
      "outputs": [
        {
          "output_type": "stream",
          "name": "stdout",
          "text": "/mnt/batch/tasks/shared/LS_root/mounts/clusters/ml20250203/code/Users/6b022/DL3_20241006\nAccuracy: 0.9352\n"
        }
      ],
      "execution_count": 5,
      "metadata": {
        "gather": {
          "logged": 1738637530195
        }
      }
    }
  ],
  "metadata": {
    "kernel_info": {
      "name": "python310-sdkv2"
    },
    "kernelspec": {
      "name": "python310-sdkv2",
      "language": "python",
      "display_name": "Python 3.10 - SDK v2"
    },
    "language_info": {
      "name": "python",
      "version": "3.10.14",
      "mimetype": "text/x-python",
      "codemirror_mode": {
        "name": "ipython",
        "version": 3
      },
      "pygments_lexer": "ipython3",
      "nbconvert_exporter": "python",
      "file_extension": ".py"
    },
    "microsoft": {
      "host": {
        "AzureML": {
          "notebookHasBeenCompleted": true
        }
      },
      "ms_spell_check": {
        "ms_spell_check_language": "en"
      }
    },
    "nteract": {
      "version": "nteract-front-end@1.0.0"
    }
  },
  "nbformat": 4,
  "nbformat_minor": 2
}